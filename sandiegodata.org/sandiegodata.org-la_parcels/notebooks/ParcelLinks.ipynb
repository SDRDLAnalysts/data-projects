{
 "cells": [
  {
   "cell_type": "code",
   "execution_count": 7,
   "metadata": {},
   "outputs": [],
   "source": [
    "import seaborn as sns\n",
    "import metapack as mp\n",
    "import pandas as pd\n",
    "import geopandas as gpd\n",
    "import rowgenerators as rg\n",
    "import numpy as np\n",
    "import matplotlib.pyplot as plt\n",
    "from IPython.display import display \n",
    "\n",
    "%matplotlib inline\n",
    "sns.set_context('notebook')\n",
    "mp.jupyter.init()\n"
   ]
  },
  {
   "cell_type": "code",
   "execution_count": 22,
   "metadata": {},
   "outputs": [
    {
     "data": {
      "text/html": [
       "<h1>Links between LA Tracts and Land Use Codes</h1>\n",
       "<p><code>sandiegodata.org-la_parcels-1</code> Last Update: 2019-01-18T19:19:31</p>\n",
       "<p>__</p>\n",
       "<p>Static files for links between LA parcels and LA tracts. </p>\n",
       "<p>See the notebooks directory for the code bits thatgenerated the files. They \n",
       "are slow and take a lot of memory, since there are about 2M parcels in the file</p>\n",
       "<h2>Contacts</h2>\n",
       "<ul>\n",
       "<li><strong>Wrangler</strong> <a href=\"mailto:eric@civicknowledge.com\">Eric Busboom</a>, <a href=\"http://civicknowledge.com\">Civic Knowledge</a></li>\n",
       "</ul>\n",
       "<h2>Resources</h2>\n",
       "<ul>\n",
       "<li><strong> <a href=\"http://library.metatab.org/sandiegodata.org-la_parcels-1/data/la-planning-code.csv\">la-planning-code</a></strong>. </li>\n",
       "<li><strong> <a href=\"http://library.metatab.org/sandiegodata.org-la_parcels-1/data/tract_to_parcels.csv\">tract_to_parcels</a></strong>. </li>\n",
       "</ul>\n",
       "<h2>References</h2>\n",
       "<ul>\n",
       "<li><strong><a href=\"http://gisdata-scag.opendata.arcgis.com/datasets/general-plan-land-use-los-angeles\">la_land_use</a></strong>. Download page for the LA Land Use File</li>\n",
       "</ul>"
      ],
      "text/plain": [
       "<metapack.doc.MetapackDoc at 0x14a43feb8>"
      ]
     },
     "execution_count": 22,
     "metadata": {},
     "output_type": "execute_result"
    }
   ],
   "source": [
    "#pkg = mp.jupyter.open_package()\n",
    "pkg = mp.jupyter.open_source_package()\n",
    "pkg"
   ]
  },
  {
   "cell_type": "code",
   "execution_count": 3,
   "metadata": {},
   "outputs": [],
   "source": [
    "gdf = gpd.read_file('/Users/eric/Downloads/General_Plan_Land_Use__Los_Angeles/Los_Angeles_PL_SCAG.shp')"
   ]
  },
  {
   "cell_type": "code",
   "execution_count": null,
   "metadata": {},
   "outputs": [],
   "source": []
  },
  {
   "cell_type": "code",
   "execution_count": 4,
   "metadata": {
    "scrolled": true
   },
   "outputs": [
    {
     "data": {
      "text/plain": [
       "1110 Single Family Residential                                                                              1367606\n",
       "1120 Multi-Family Residential                                                                                308420\n",
       "1140 Mixed Residential                                                                                        91688\n",
       "1150 Rural Residential                                                                                        79266\n",
       "1200 General Commercial                                                                                       39812\n",
       "1600 Mixed Residential and Commercial                                                                         32545\n",
       "1220 Retail and Commercial and Services                                                                       31682\n",
       "1310 Light Industrial                                                                                         17866\n",
       "1311 Light Manufacturing                                                                                      17707\n",
       "7777 Specific Plan                                                                                            14879\n",
       "1300 General Industrial                                                                                       13693\n",
       "1240 Public Facilities                                                                                        11870\n",
       "1500 Mixed Commercial and Industrial                                                                          10429\n",
       "1800 Open Space and Recreation                                                                                 9740\n",
       "1210 General Office Use                                                                                        7685\n",
       "1221 Regional Shopping Center                                                                                  5991\n",
       "1100 Residential                                                                                               5071\n",
       "1320 Heavy Industrial                                                                                          4537\n",
       "1321 Heavy Manufacturing                                                                                       3840\n",
       "1850 Wildlife Preserves and Sanctuaries                                                                        2617\n",
       "1410 Transportation                                                                                            2372\n",
       "1880 Other Open Space and Recreation                                                                           2165\n",
       "1830 State and National Parks and Recreation                                                                   1604\n",
       "1820 Local Parks and Recreation                                                                                1596\n",
       "1260 Education ?K-12                                                                                           1539\n",
       "4000 Water                                                                                                     1087\n",
       "8888 Undevelopable or Protected Land                                                                            761\n",
       "1230 Other Commercial                                                                                           686\n",
       "1430 Utility Facilities                                                                                         629\n",
       "1870 Beach Parks                                                                                                428\n",
       "3000 Vacant                                                                                                     337\n",
       "1130 Mobile Homes and Trailer Parks                                                                             190\n",
       "1270 Military Installations                                                                                     171\n",
       "1420 Communication Facilities                                                                                   119\n",
       "1400 Transportation, Communications, and Utilities\\n1400 Transportation, Communications, and Utilities\\n        112\n",
       "1810 Golf Courses                                                                                                90\n",
       "1233 Hotels and Motels                                                                                           59\n",
       "1840 Cemeteries                                                                                                  37\n",
       "1265 Education ?College                                                                                          25\n",
       "1250 Special Use Facilities                                                                                      11\n",
       "9999 Unknown                                                                                                      8\n",
       "2000 Agriculture                                                                                                  8\n",
       "1340 Wholesaling and Warehousing                                                                                  3\n",
       "Name: SCAG_GP_CO, dtype: int64"
      ]
     },
     "execution_count": 4,
     "metadata": {},
     "output_type": "execute_result"
    }
   ],
   "source": [
    "gdf.SCAG_GP_CO.value_counts()"
   ]
  },
  {
   "cell_type": "code",
   "execution_count": 5,
   "metadata": {},
   "outputs": [],
   "source": [
    "gpco = gpd.GeoDataFrame({\n",
    "    'objectid': gdf.OBJECTID,\n",
    "    'SCAG_GP_CO': gdf.SCAG_GP_CO,\n",
    "    'geometry': gdf.geometry.centroid\n",
    "})\n",
    "\n"
   ]
  },
  {
   "cell_type": "code",
   "execution_count": 8,
   "metadata": {},
   "outputs": [],
   "source": [
    "tracts = rg.geoframe('census://2017/5/CA/tract')\n",
    "gpco.crs = tracts.crs # Just a guess\n",
    "\n",
    "gptracts = gpd.sjoin(tracts, gpco)\n",
    "\n",
    "gpt = gptracts.copy()\n",
    "gpt['code'] = gpt.SCAG_GP_CO.apply(lambda v: int((v.split())[0]) if v else 0)\n"
   ]
  },
  {
   "cell_type": "code",
   "execution_count": 15,
   "metadata": {},
   "outputs": [],
   "source": [
    "df = gpt[['geoid','code','OBJECTID']].merge(gdf, on='OBJECTID')\n",
    "df = df[['geoid','OBJECTID','APN','CITY','code','ZONE_CODE','ACRES']]\n",
    "df.columns = [c.lower() for c in df.columns]"
   ]
  },
  {
   "cell_type": "code",
   "execution_count": 20,
   "metadata": {},
   "outputs": [],
   "source": [
    "df = df.merge(gpco[['objectid','geometry']], on='objectid')"
   ]
  },
  {
   "cell_type": "code",
   "execution_count": 24,
   "metadata": {},
   "outputs": [
    {
     "name": "stdout",
     "output_type": "stream",
     "text": [
      "la-planning-code.csv tract_to_parcels.csv\r\n"
     ]
    }
   ],
   "source": [
    "!ls ../data/"
   ]
  },
  {
   "cell_type": "code",
   "execution_count": 28,
   "metadata": {},
   "outputs": [],
   "source": [
    "df.to_csv('../data/tract_to_parcels.csv')\n"
   ]
  },
  {
   "cell_type": "code",
   "execution_count": 27,
   "metadata": {},
   "outputs": [
    {
     "data": {
      "text/html": [
       "<div>\n",
       "<style scoped>\n",
       "    .dataframe tbody tr th:only-of-type {\n",
       "        vertical-align: middle;\n",
       "    }\n",
       "\n",
       "    .dataframe tbody tr th {\n",
       "        vertical-align: top;\n",
       "    }\n",
       "\n",
       "    .dataframe thead th {\n",
       "        text-align: right;\n",
       "    }\n",
       "</style>\n",
       "<table border=\"1\" class=\"dataframe\">\n",
       "  <thead>\n",
       "    <tr style=\"text-align: right;\">\n",
       "      <th></th>\n",
       "      <th>geoid</th>\n",
       "      <th>objectid</th>\n",
       "      <th>apn</th>\n",
       "      <th>city</th>\n",
       "      <th>code</th>\n",
       "      <th>zone_code</th>\n",
       "      <th>acres</th>\n",
       "      <th>geometry</th>\n",
       "    </tr>\n",
       "    <tr>\n",
       "      <th>index</th>\n",
       "      <th></th>\n",
       "      <th></th>\n",
       "      <th></th>\n",
       "      <th></th>\n",
       "      <th></th>\n",
       "      <th></th>\n",
       "      <th></th>\n",
       "      <th></th>\n",
       "    </tr>\n",
       "  </thead>\n",
       "  <tbody>\n",
       "    <tr>\n",
       "      <th>0</th>\n",
       "      <td>14000US06037204920</td>\n",
       "      <td>205663</td>\n",
       "      <td>5191-012-009</td>\n",
       "      <td>Los Angeles</td>\n",
       "      <td>1120</td>\n",
       "      <td>R2</td>\n",
       "      <td>0.119355</td>\n",
       "      <td>POINT (-118.1997972661181 34.02204043785111)</td>\n",
       "    </tr>\n",
       "    <tr>\n",
       "      <th>1</th>\n",
       "      <td>14000US06037204920</td>\n",
       "      <td>205653</td>\n",
       "      <td>5191-011-008</td>\n",
       "      <td>Los Angeles</td>\n",
       "      <td>1120</td>\n",
       "      <td>R2</td>\n",
       "      <td>0.123901</td>\n",
       "      <td>POINT (-118.201096570206 34.02206941378159)</td>\n",
       "    </tr>\n",
       "    <tr>\n",
       "      <th>2</th>\n",
       "      <td>14000US06037204920</td>\n",
       "      <td>204574</td>\n",
       "      <td>5191-011-022</td>\n",
       "      <td>Los Angeles</td>\n",
       "      <td>1120</td>\n",
       "      <td>R2</td>\n",
       "      <td>0.119314</td>\n",
       "      <td>POINT (-118.2007983464134 34.02207176228492)</td>\n",
       "    </tr>\n",
       "    <tr>\n",
       "      <th>3</th>\n",
       "      <td>14000US06037204920</td>\n",
       "      <td>204573</td>\n",
       "      <td>5191-011-015</td>\n",
       "      <td>Los Angeles</td>\n",
       "      <td>1120</td>\n",
       "      <td>R2</td>\n",
       "      <td>0.104612</td>\n",
       "      <td>POINT (-118.1999064954099 34.02208907018797)</td>\n",
       "    </tr>\n",
       "    <tr>\n",
       "      <th>4</th>\n",
       "      <td>14000US06037204920</td>\n",
       "      <td>213146</td>\n",
       "      <td>5191-011-014</td>\n",
       "      <td>Los Angeles</td>\n",
       "      <td>1120</td>\n",
       "      <td>R2</td>\n",
       "      <td>0.119352</td>\n",
       "      <td>POINT (-118.2000169669352 34.02213571331608)</td>\n",
       "    </tr>\n",
       "  </tbody>\n",
       "</table>\n",
       "</div>"
      ],
      "text/plain": [
       "                    geoid  objectid           apn         city  code  \\\n",
       "index                                                                  \n",
       "0      14000US06037204920    205663  5191-012-009  Los Angeles  1120   \n",
       "1      14000US06037204920    205653  5191-011-008  Los Angeles  1120   \n",
       "2      14000US06037204920    204574  5191-011-022  Los Angeles  1120   \n",
       "3      14000US06037204920    204573  5191-011-015  Los Angeles  1120   \n",
       "4      14000US06037204920    213146  5191-011-014  Los Angeles  1120   \n",
       "\n",
       "      zone_code     acres                                      geometry  \n",
       "index                                                                    \n",
       "0            R2  0.119355  POINT (-118.1997972661181 34.02204043785111)  \n",
       "1            R2  0.123901   POINT (-118.201096570206 34.02206941378159)  \n",
       "2            R2  0.119314  POINT (-118.2007983464134 34.02207176228492)  \n",
       "3            R2  0.104612  POINT (-118.1999064954099 34.02208907018797)  \n",
       "4            R2  0.119352  POINT (-118.2000169669352 34.02213571331608)  "
      ]
     },
     "execution_count": 27,
     "metadata": {},
     "output_type": "execute_result"
    }
   ],
   "source": [
    "df.index.name = 'index'\n",
    "df.head()"
   ]
  },
  {
   "cell_type": "code",
   "execution_count": null,
   "metadata": {},
   "outputs": [],
   "source": []
  }
 ],
 "metadata": {
  "kernelspec": {
   "display_name": "Python 3",
   "language": "python",
   "name": "python3"
  },
  "language_info": {
   "codemirror_mode": {
    "name": "ipython",
    "version": 3
   },
   "file_extension": ".py",
   "mimetype": "text/x-python",
   "name": "python",
   "nbconvert_exporter": "python",
   "pygments_lexer": "ipython3",
   "version": "3.6.0"
  }
 },
 "nbformat": 4,
 "nbformat_minor": 2
}
