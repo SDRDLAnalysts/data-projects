{
 "cells": [
  {
   "cell_type": "code",
   "execution_count": 1,
   "metadata": {},
   "outputs": [],
   "source": [
    "import seaborn as sns\n",
    "import metapack as mp\n",
    "import pandas as pd\n",
    "import numpy as np\n",
    "import matplotlib.pyplot as plt\n",
    "from IPython.display import display \n",
    "from tqdm import tqdm_notebook\n",
    "\n",
    "%matplotlib inline\n",
    "sns.set_context('notebook')\n",
    "mp.jupyter.init() # Initialize indexes and downloder context\n"
   ]
  },
  {
   "cell_type": "code",
   "execution_count": 2,
   "metadata": {},
   "outputs": [
    {
     "data": {
      "text/html": [
       "<h1>Small Area Estimation For San Diego</h1>\n",
       "<p><code>sandiegodata.org-pums_sae-1</code> Last Update: 2018-12-01T05:59:19</p>\n",
       "<p><em>Processing ACS PUMS and tracts for small area estimation</em></p>\n",
       "<h2>Contacts</h2>\n",
       "<ul>\n",
       "<li><strong>Wrangler</strong> <a href=\"mailto:eric@civicknowledge.com\">Eric Busboom</a>, <a href=\"http://civicknowledge.com\">Civic Knowledge</a></li>\n",
       "</ul>\n",
       "<h2>Resources</h2>\n",
       "<ul>\n",
       "<li><strong> <a href=\"notebooks/RaceAgeSexEstimates.ipynb#col_map_df\">column_dimensions</a></strong>. Links Age, Sex, Poverty status to column ids.</li>\n",
       "<li><strong> <a href=\"notebooks/RaceAgeSexEstimates.ipynb#replicates\">rasp_replicates</a></strong>. Replicates of race, age, sex and poverty estimates.</li>\n",
       "</ul>\n",
       "<h2>References</h2>\n",
       "<ul>\n",
       "<li><strong><a href=\"census://2015/5/CA/795/B03002\">race_hisp_pums</a></strong>. B03002_002 HISPANIC OR LATINO ORIGIN BY RACE, PUMS</li>\n",
       "<li><strong><a href=\"census://2015/5/CA/140/B03002\">race_hisp_tracts</a></strong>. B03002_002 HISPANIC OR LATINO ORIGIN BY RACE, tracts</li>\n",
       "<li><strong><a href=\"shape+ftp://ftp2.census.gov/geo/tiger/TIGER2015/TRACT/tl_2015_06_tract.zip\">ca_tract_boundaries</a></strong>. California Tract boundaries</li>\n",
       "<li><strong><a href=\"shape+ftp://ftp2.census.gov/geo/tiger/TIGER2018/PUMA/tl_2018_06_puma10.zip\">ca_pums_boundaries</a></strong>. California PUMS boundaries</li>\n",
       "<li><strong><a href=\"index:healthpolicy.ucla.edu-chis-adult-1#rasp_diabetes_reduced\">rasp_diabetes</a></strong>. Diabetes probabilities, by age, race, sex and poverty status</li>\n",
       "<li><strong><a href=\"census://2016/5/CA/140/B01001A\">sex_age_white_tracts</a></strong>. B01001A: Sex by Age (White Alone)</li>\n",
       "<li><strong><a href=\"census://2016/5/CA/795/B01001A\">sex_age_white_pums</a></strong>. B01001A: Sex by Age (White Alone)</li>\n",
       "<li><strong><a href=\"data/race_iterations.csv\">race_iterations</a></strong>. Race iteration table suffixes</li>\n",
       "<li><strong><a href=\"data/sandiego_puma_tract.csv\">sandiego_puma_tract</a></strong>. Pumas and associated tracts, for San Diego County</li>\n",
       "<li><strong><a href=\"foo\">pov_age</a></strong>. Table B17020: Poverty Status by Age</li>\n",
       "<li><strong><a href=\"census://2016/5/CA/140/B17001{iteration}\">pov_sex_age_template</a></strong>. Template for Table B17001: Poverty Status by Sex by Age</li>\n",
       "<li><strong><a href=\"foo\">pov</a></strong>. Table B17002: Ratio of Income to Poverty Level</li>\n",
       "<li><strong><a href=\"foo\">age_pov</a></strong>. Table B17024: Age by Ratio of Income to Poverty Level</li>\n",
       "</ul>"
      ],
      "text/plain": [
       "<metapack.doc.MetapackDoc at 0x11c037470>"
      ]
     },
     "execution_count": 2,
     "metadata": {},
     "output_type": "execute_result"
    }
   ],
   "source": [
    "#pkg = mp.jupyter.open_package()\n",
    "pkg = mp.jupyter.open_source_package()\n",
    "pkg"
   ]
  },
  {
   "cell_type": "code",
   "execution_count": 3,
   "metadata": {},
   "outputs": [],
   "source": [
    "race_iterations = pkg.reference('race_iterations').dataframe()\n",
    "\n",
    "# List of PUMS in San Giego county, so we can restrict census data to just SD County\n",
    "sandiego_puma_tract =  pkg.reference('sandiego_puma_tract').dataframe()\n",
    "sd_pumas = list(sandiego_puma_tract.puma_geoid.unique())\n",
    "sd_tracts = list(sandiego_puma_tract.tract_geoid.unique())\n",
    "sd_puma_tracts = sd_pumas + sd_tracts"
   ]
  },
  {
   "cell_type": "code",
   "execution_count": 4,
   "metadata": {},
   "outputs": [
    {
     "data": {
      "text/plain": [
       "(3172544, -80812, 9788.614048985688)"
      ]
     },
     "execution_count": 4,
     "metadata": {},
     "output_type": "execute_result"
    }
   ],
   "source": [
    "# Get the sum of the population of all PUMS\n",
    "from rowgenerators import parse_app_url\n",
    "t = parse_app_url('census://2016/5/CA/795/B01003').dataframe()\n",
    "t = t[t.index.isin(sd_pumas)]\n",
    "sd_puma_pop = t.B01003_001.sum()\n",
    "\n",
    "# Get the controlled population for SD county. THe margin for this estimate is zero\n",
    "# because it's tied to administrative data. \n",
    "from rowgenerators import parse_app_url\n",
    "t = parse_app_url('census://2016/5/CA/50/B01003').dataframe()\n",
    "sd_controlled_pop = t.loc['05000US06073'].B01003_001 \n",
    "\n",
    "# Apparently, the PUMA population is also controlles. \n",
    "assert sd_puma_pop == sd_controlled_pop\n",
    "\n",
    "# However, the sums from the poverty status by sex by age table is not\n",
    "# controlled ( and would not expect it to be ) so it's a different number. \n",
    "#\n",
    "# Interestingly, the controlled population number is not with in the 90% margins of \n",
    "# the sum of the table esimates. \n",
    "from rowgenerators import parse_app_url\n",
    "t = parse_app_url('census://2016/5/CA/795/B17001').dataframe()\n",
    "t = t[t.index.isin(sd_pumas)]\n",
    "t.B17001_001.sum(), t.B17001_001.sum() - sd_controlled_pop, t.B17001_001.sum_m90()\n"
   ]
  },
  {
   "cell_type": "code",
   "execution_count": 5,
   "metadata": {},
   "outputs": [],
   "source": [
    "def make_col_map(t):\n",
    "    from collections import namedtuple\n",
    "\n",
    "    sex = None\n",
    "    age = None\n",
    "    pov = 'all'\n",
    "\n",
    "    def parse_age(v):\n",
    "\n",
    "        if v and 'year' in v:\n",
    "            parts = v.split()\n",
    "            if parts[0] == '75':\n",
    "                return  pd.Interval(left=75, right=120, closed='both')\n",
    "            elif len(parts) == 4:\n",
    "                return  pd.Interval(left=int(parts[0]), right=int(parts[2]), closed='both') \n",
    "\n",
    "        return None\n",
    "\n",
    "    col_map = {}\n",
    "\n",
    "    Dimensions = namedtuple('Dimensions', ['sex', 'age_range', 'pov'])\n",
    "\n",
    "    for e in t.table.columns:\n",
    "\n",
    "        sd = e.short_description\n",
    "        if '_m90' in e.unique_id:\n",
    "            continue\n",
    "        if sd:\n",
    "            if 'Male' in sd:\n",
    "                sex = 'male'\n",
    "            elif 'Female' in sd:\n",
    "                sex = 'female'\n",
    "            elif 'Total' in sd:\n",
    "                sex = 'total'\n",
    "            elif 'below poverty level' in sd:\n",
    "                pov = 'pov'\n",
    "            elif 'above poverty level' in sd:\n",
    "                pov = 'npov'\n",
    "            \n",
    "        col_map[e.unique_id] = Dimensions( sex, parse_age(sd), pov)\n",
    "\n",
    "    return col_map    "
   ]
  },
  {
   "cell_type": "code",
   "execution_count": 6,
   "metadata": {},
   "outputs": [],
   "source": [
    "pov_sex_age_url = pkg.reference('pov_sex_age_template').resolved_url\n",
    "url = pov_sex_age_url.interpolate(context={'iteration':'A'})\n",
    "psa = url.dataframe()"
   ]
  },
  {
   "cell_type": "code",
   "execution_count": 7,
   "metadata": {},
   "outputs": [],
   "source": [
    "pov_sex_age_url = pkg.reference('pov_sex_age_template').resolved_url\n",
    "url = pov_sex_age_url.interpolate(context={'iteration':'A'})\n",
    "\n",
    "psa = url.dataframe()\n",
    "psa = psa[psa.index.isin(sd_puma_tracts)]"
   ]
  },
  {
   "cell_type": "code",
   "execution_count": 8,
   "metadata": {},
   "outputs": [
    {
     "data": {
      "text/plain": [
       "628"
      ]
     },
     "execution_count": 8,
     "metadata": {},
     "output_type": "execute_result"
    }
   ],
   "source": [
    "t = psa[psa.index.isin(list(sandiego_puma_tract.puma_geoid))].drop(columns=['STUSAB', 'COUNTY','NAME'])\n",
    "t = t.stack().to_frame().reset_index()\n",
    "len(psa)"
   ]
  },
  {
   "cell_type": "code",
   "execution_count": 9,
   "metadata": {},
   "outputs": [
    {
     "data": {
      "text/plain": [
       "[Interval(6, 11, closed='both'),\n",
       " Interval(12, 14, closed='both'),\n",
       " Interval(16, 17, closed='both'),\n",
       " Interval(18, 24, closed='both'),\n",
       " Interval(25, 34, closed='both'),\n",
       " Interval(35, 44, closed='both'),\n",
       " Interval(45, 54, closed='both'),\n",
       " Interval(55, 64, closed='both'),\n",
       " Interval(65, 74, closed='both'),\n",
       " Interval(75, 120, closed='both')]"
      ]
     },
     "execution_count": 9,
     "metadata": {},
     "output_type": "execute_result"
    }
   ],
   "source": [
    "pov_sex_age_url = pkg.reference('pov_sex_age_template').resolved_url\n",
    "url = pov_sex_age_url.interpolate(context={'iteration':'A'})\n",
    "\n",
    "psa = url.dataframe()\n",
    "psa = psa[psa.index.isin(sd_puma_tracts)]\n",
    "\n",
    "assert len(psa) > 0\n",
    "\n",
    "col_map= make_col_map(psa)\n",
    "ages = list(sorted(set(e.age_range  for e in col_map.values() if e.age_range is not None)))\n",
    "ages"
   ]
  },
  {
   "cell_type": "code",
   "execution_count": 262,
   "metadata": {
    "scrolled": false
   },
   "outputs": [
    {
     "data": {
      "application/vnd.jupyter.widget-view+json": {
       "model_id": "94bb037f4e2d41fd9092b050b8ffdfdf",
       "version_major": 2,
       "version_minor": 0
      },
      "text/plain": [
       "HBox(children=(IntProgress(value=0, max=9), HTML(value='')))"
      ]
     },
     "metadata": {},
     "output_type": "display_data"
    },
    {
     "data": {
      "text/html": [
       "<div>\n",
       "<style scoped>\n",
       "    .dataframe tbody tr th:only-of-type {\n",
       "        vertical-align: middle;\n",
       "    }\n",
       "\n",
       "    .dataframe tbody tr th {\n",
       "        vertical-align: top;\n",
       "    }\n",
       "\n",
       "    .dataframe thead th {\n",
       "        text-align: right;\n",
       "    }\n",
       "</style>\n",
       "<table border=\"1\" class=\"dataframe\">\n",
       "  <thead>\n",
       "    <tr style=\"text-align: right;\">\n",
       "      <th></th>\n",
       "      <th></th>\n",
       "      <th>value_est</th>\n",
       "      <th>value_margin</th>\n",
       "      <th>value_std</th>\n",
       "      <th>sex</th>\n",
       "      <th>raceeth</th>\n",
       "      <th>age_range</th>\n",
       "      <th>pov</th>\n",
       "    </tr>\n",
       "    <tr>\n",
       "      <th>geoid</th>\n",
       "      <th>col_name</th>\n",
       "      <th></th>\n",
       "      <th></th>\n",
       "      <th></th>\n",
       "      <th></th>\n",
       "      <th></th>\n",
       "      <th></th>\n",
       "      <th></th>\n",
       "    </tr>\n",
       "  </thead>\n",
       "  <tbody>\n",
       "    <tr>\n",
       "      <th rowspan=\"5\" valign=\"top\">14000US06073000100</th>\n",
       "      <th>B17001B_006</th>\n",
       "      <td>0</td>\n",
       "      <td>12</td>\n",
       "      <td>7.294833</td>\n",
       "      <td>male</td>\n",
       "      <td>black</td>\n",
       "      <td>[6, 11]</td>\n",
       "      <td>pov</td>\n",
       "    </tr>\n",
       "    <tr>\n",
       "      <th>B17001B_007</th>\n",
       "      <td>0</td>\n",
       "      <td>12</td>\n",
       "      <td>7.294833</td>\n",
       "      <td>male</td>\n",
       "      <td>black</td>\n",
       "      <td>[12, 14]</td>\n",
       "      <td>pov</td>\n",
       "    </tr>\n",
       "    <tr>\n",
       "      <th>B17001B_009</th>\n",
       "      <td>0</td>\n",
       "      <td>12</td>\n",
       "      <td>7.294833</td>\n",
       "      <td>male</td>\n",
       "      <td>black</td>\n",
       "      <td>[16, 17]</td>\n",
       "      <td>pov</td>\n",
       "    </tr>\n",
       "    <tr>\n",
       "      <th>B17001B_010</th>\n",
       "      <td>0</td>\n",
       "      <td>12</td>\n",
       "      <td>7.294833</td>\n",
       "      <td>male</td>\n",
       "      <td>black</td>\n",
       "      <td>[18, 24]</td>\n",
       "      <td>pov</td>\n",
       "    </tr>\n",
       "    <tr>\n",
       "      <th>B17001B_011</th>\n",
       "      <td>0</td>\n",
       "      <td>12</td>\n",
       "      <td>7.294833</td>\n",
       "      <td>male</td>\n",
       "      <td>black</td>\n",
       "      <td>[25, 34]</td>\n",
       "      <td>pov</td>\n",
       "    </tr>\n",
       "  </tbody>\n",
       "</table>\n",
       "</div>"
      ],
      "text/plain": [
       "                                value_est  value_margin  value_std   sex  \\\n",
       "geoid              col_name                                                \n",
       "14000US06073000100 B17001B_006          0            12   7.294833  male   \n",
       "                   B17001B_007          0            12   7.294833  male   \n",
       "                   B17001B_009          0            12   7.294833  male   \n",
       "                   B17001B_010          0            12   7.294833  male   \n",
       "                   B17001B_011          0            12   7.294833  male   \n",
       "\n",
       "                               raceeth age_range  pov  \n",
       "geoid              col_name                            \n",
       "14000US06073000100 B17001B_006   black   [6, 11]  pov  \n",
       "                   B17001B_007   black  [12, 14]  pov  \n",
       "                   B17001B_009   black  [16, 17]  pov  \n",
       "                   B17001B_010   black  [18, 24]  pov  \n",
       "                   B17001B_011   black  [25, 34]  pov  "
      ]
     },
     "execution_count": 262,
     "metadata": {},
     "output_type": "execute_result"
    }
   ],
   "source": [
    "def get_raceeth(pkg, re_code, re_name):\n",
    "    \"\"\"Get a single race/ethnicity iteration, and process it so \n",
    "    it can be merged with others. \"\"\"\n",
    "    \n",
    "    pov_sex_age_url = pkg.reference('pov_sex_age_template').resolved_url\n",
    "    url = pov_sex_age_url.interpolate(context={'iteration':re_code.strip()})\n",
    "    \n",
    "    psa = url.dataframe()\n",
    "    psa = psa[psa.index.isin(sd_puma_tracts)]\n",
    "    \n",
    "    assert len(psa) > 0\n",
    "    \n",
    "    col_map= make_col_map(psa)\n",
    "    \n",
    "    t = psa.drop(columns=['STUSAB', 'COUNTY','NAME'])\n",
    "    t = t.stack().to_frame().reset_index()\n",
    "    t.columns = ['geoid','col_name','value']\n",
    "    \n",
    "    t['m_type'] = t.col_name.apply(lambda v: 'margin' if '_m90' in v else 'est')\n",
    "    t['col_name'] = t.col_name.apply(lambda v: v.replace('_m90',''))\n",
    "    t = t.set_index(['geoid','col_name','m_type']).unstack()\n",
    "    t['sex'] = [col_map[str(i[1]).replace('_m90','')].sex for i,r in t.iterrows() ]\n",
    "    t['raceeth'] = re_name\n",
    "    t['age_range'] = [col_map[str(i[1]).replace('_m90','')].age_range for i,r in t.iterrows() ]\n",
    "    t['pov'] = [col_map[str(i[1]).replace('_m90','')].pov for i,r in t.iterrows() ]\n",
    "\n",
    "    t.columns = [ '_'.join(e) if e[1] else e[0] for e in zip(*zip(*t.columns)) ]\n",
    "\n",
    "    t['value_std'] = t.value_margin/1.645\n",
    "    \n",
    "    return t[['value_est',  'value_margin', 'value_std', 'sex', 'raceeth', 'age_range', 'pov']]\n",
    "\n",
    "def concat_race_eth(pkg):\n",
    "    \n",
    "    \n",
    "    frames= []\n",
    "\n",
    "    tn = tqdm_notebook(list(race_iterations.itertuples()))\n",
    "    \n",
    "    for e in tn:\n",
    "        tn.set_description(e.raceeth)\n",
    "        frames.append(get_raceeth(pkg, e.code, e.raceeth))\n",
    " \n",
    "    return pd.concat(frames)\n",
    "\n",
    "df = concat_race_eth(pkg)\n",
    "\n",
    "# Select just the non-overlaping entries\n",
    "df = df[(df.sex != 'both') & (df.pov != 'all')& (df.raceeth != 'white') & (~df.age_range.isnull())].copy()\n",
    "\n",
    "assert df.value_est.sum() > 3_100_000 # Ought to be close to CA population \n",
    "\n",
    "df['raceeth'] = df['raceeth'].astype('category')\n",
    "df['raceeth'].cat.rename_categories({\n",
    "    'hnwhite':'white',\n",
    "    'hisp':'latino',\n",
    "}, inplace=True)\n",
    "df['raceeth'].replace({\n",
    "    'aian':'other', \n",
    "    'nhopi':'other', \n",
    "    'many':'other'}, inplace=True)\n",
    "\n",
    "control_ratio = sd_controlled_pop/df.value_est.sum()\n",
    "df['value_est_controlled'] = (df.value_est * control_ratio).round().astype(int)\n",
    "\n",
    "df['age_min'] = df.age_range.apply(lambda v: v.left)\n",
    "df['age_max'] = df.age_range.apply(lambda v: v.right)\n",
    "\n",
    "df.head()"
   ]
  },
  {
   "cell_type": "code",
   "execution_count": 274,
   "metadata": {},
   "outputs": [],
   "source": [
    "df18 = df[df.age_min >= 18]"
   ]
  },
  {
   "cell_type": "code",
   "execution_count": 270,
   "metadata": {},
   "outputs": [
    {
     "data": {
      "text/plain": [
       "(200960, 3127844, 3251386, 3253356)"
      ]
     },
     "execution_count": 270,
     "metadata": {},
     "output_type": "execute_result"
    }
   ],
   "source": [
    "len(df), df.value_est.sum(), df.value_est_controlled.sum(), sd_controlled_pop"
   ]
  },
  {
   "cell_type": "code",
   "execution_count": 275,
   "metadata": {},
   "outputs": [
    {
     "data": {
      "text/plain": [
       "(200960, 2643923, 2748648)"
      ]
     },
     "execution_count": 275,
     "metadata": {},
     "output_type": "execute_result"
    }
   ],
   "source": [
    "len(df), df18.value_est.sum(), df18.value_est_controlled.sum()"
   ]
  },
  {
   "cell_type": "code",
   "execution_count": 13,
   "metadata": {
    "scrolled": true
   },
   "outputs": [
    {
     "data": {
      "application/vnd.jupyter.widget-view+json": {
       "model_id": "47b6437ebb0d46109f2f6fae8ea23cc4",
       "version_major": 2,
       "version_minor": 0
      },
      "text/plain": [
       "HBox(children=(IntProgress(value=0, description='Create Estimates', max=4, style=ProgressStyle(description_wid…"
      ]
     },
     "metadata": {},
     "output_type": "display_data"
    }
   ],
   "source": [
    "from numpy.random import normal\n",
    "\n",
    "def yield_estimate_replicates(df):\n",
    "    for n, (i,r) in enumerate(df.reset_index().iterrows()):\n",
    "\n",
    "        s = int(normal(loc=r.value_est, scale=r.value_std))\n",
    "        s = s if s > 0 else 0\n",
    "\n",
    "        col_no = int(r.col_name.split('_')[1])\n",
    "        \n",
    "        yield r.geoid, r.col_name, s\n",
    "        \n",
    "def make_estimate_replicates(df, controll_sum = None):\n",
    "    \n",
    "    t =  pd.DataFrame.from_records(list(yield_estimate_replicates(df)), columns = 'geoid col_no est'.split())\n",
    "    \n",
    "    if controll_sum:\n",
    "        total = t.est.sum()\n",
    "        ratio = controll_sum/total\n",
    "        t['controlled_est'] = (t.est*ratio).round(0).astype(int)\n",
    "    \n",
    "    return t\n",
    "\n",
    "# Create some estimate replicates, so se can calc the std dev\n",
    "estimates = []\n",
    "\n",
    "from tqdm import tnrange, tqdm_notebook\n",
    "\n",
    "N = 4 # Should be larger in production\n",
    "\n",
    "for i in tnrange(N, desc='Create Estimates'):\n",
    "    est = make_estimate_replicates(df18, sd_controlled_pop)\n",
    "    est['replicate'] = i\n",
    "    estimates.append(est)\n",
    "    \n",
    "replicates = pd.concat(estimates)\n",
    "    "
   ]
  },
  {
   "cell_type": "code",
   "execution_count": 248,
   "metadata": {},
   "outputs": [
    {
     "data": {
      "text/html": [
       "<div>\n",
       "<style scoped>\n",
       "    .dataframe tbody tr th:only-of-type {\n",
       "        vertical-align: middle;\n",
       "    }\n",
       "\n",
       "    .dataframe tbody tr th {\n",
       "        vertical-align: top;\n",
       "    }\n",
       "\n",
       "    .dataframe thead th {\n",
       "        text-align: right;\n",
       "    }\n",
       "</style>\n",
       "<table border=\"1\" class=\"dataframe\">\n",
       "  <thead>\n",
       "    <tr style=\"text-align: right;\">\n",
       "      <th></th>\n",
       "      <th>geoid</th>\n",
       "      <th>col_no</th>\n",
       "      <th>est</th>\n",
       "      <th>controlled_est</th>\n",
       "      <th>replicate</th>\n",
       "    </tr>\n",
       "  </thead>\n",
       "  <tbody>\n",
       "    <tr>\n",
       "      <th>0</th>\n",
       "      <td>14000US06073000100</td>\n",
       "      <td>B17001B_006</td>\n",
       "      <td>0</td>\n",
       "      <td>0</td>\n",
       "      <td>0</td>\n",
       "    </tr>\n",
       "    <tr>\n",
       "      <th>1</th>\n",
       "      <td>14000US06073000100</td>\n",
       "      <td>B17001B_007</td>\n",
       "      <td>0</td>\n",
       "      <td>0</td>\n",
       "      <td>0</td>\n",
       "    </tr>\n",
       "    <tr>\n",
       "      <th>2</th>\n",
       "      <td>14000US06073000100</td>\n",
       "      <td>B17001B_009</td>\n",
       "      <td>0</td>\n",
       "      <td>0</td>\n",
       "      <td>0</td>\n",
       "    </tr>\n",
       "    <tr>\n",
       "      <th>3</th>\n",
       "      <td>14000US06073000100</td>\n",
       "      <td>B17001B_010</td>\n",
       "      <td>9</td>\n",
       "      <td>8</td>\n",
       "      <td>0</td>\n",
       "    </tr>\n",
       "    <tr>\n",
       "      <th>4</th>\n",
       "      <td>14000US06073000100</td>\n",
       "      <td>B17001B_011</td>\n",
       "      <td>0</td>\n",
       "      <td>0</td>\n",
       "      <td>0</td>\n",
       "    </tr>\n",
       "  </tbody>\n",
       "</table>\n",
       "</div>"
      ],
      "text/plain": [
       "                geoid       col_no  est  controlled_est  replicate\n",
       "0  14000US06073000100  B17001B_006    0               0          0\n",
       "1  14000US06073000100  B17001B_007    0               0          0\n",
       "2  14000US06073000100  B17001B_009    0               0          0\n",
       "3  14000US06073000100  B17001B_010    9               8          0\n",
       "4  14000US06073000100  B17001B_011    0               0          0"
      ]
     },
     "execution_count": 248,
     "metadata": {},
     "output_type": "execute_result"
    }
   ],
   "source": [
    "replicates[replicates.replicate == 0].head()"
   ]
  },
  {
   "cell_type": "code",
   "execution_count": 265,
   "metadata": {},
   "outputs": [
    {
     "data": {
      "text/plain": [
       "(3253356, 3262145, 3614458)"
      ]
     },
     "execution_count": 265,
     "metadata": {},
     "output_type": "execute_result"
    }
   ],
   "source": [
    "# Total population estimate\n",
    "sd_controlled_pop, replicates[replicates.replicate == 0].controlled_est.sum(), replicates[replicates.replicate == 0].est.sum()"
   ]
  },
  {
   "cell_type": "code",
   "execution_count": null,
   "metadata": {},
   "outputs": [],
   "source": [
    "#def yield_col_map():\n",
    "#    for k, v in col_map.items():\n",
    "#        if v.sex and v.age_range:\n",
    "#            yield k, v.sex, v.age_range.left, v.age_range.right, v.pov\n",
    "    \n",
    "\n",
    "#col_map_df = pd.DataFrame.from_records(list(yield_col_map()), columns = 'col_id sex age_min age_max pov'.split())"
   ]
  },
  {
   "cell_type": "code",
   "execution_count": 260,
   "metadata": {},
   "outputs": [
    {
     "name": "stdout",
     "output_type": "stream",
     "text": [
      "140\n"
     ]
    },
    {
     "data": {
      "text/html": [
       "<div>\n",
       "<style scoped>\n",
       "    .dataframe tbody tr th:only-of-type {\n",
       "        vertical-align: middle;\n",
       "    }\n",
       "\n",
       "    .dataframe tbody tr th {\n",
       "        vertical-align: top;\n",
       "    }\n",
       "\n",
       "    .dataframe thead th {\n",
       "        text-align: right;\n",
       "    }\n",
       "</style>\n",
       "<table border=\"1\" class=\"dataframe\">\n",
       "  <thead>\n",
       "    <tr style=\"text-align: right;\">\n",
       "      <th></th>\n",
       "      <th>age</th>\n",
       "      <th>age_min</th>\n",
       "      <th>age_max</th>\n",
       "      <th>pov</th>\n",
       "      <th>sex</th>\n",
       "      <th>raceeth</th>\n",
       "      <th>prob</th>\n",
       "    </tr>\n",
       "  </thead>\n",
       "  <tbody>\n",
       "    <tr>\n",
       "      <th>60</th>\n",
       "      <td>21.0</td>\n",
       "      <td>18</td>\n",
       "      <td>24</td>\n",
       "      <td>pov</td>\n",
       "      <td>male</td>\n",
       "      <td>white</td>\n",
       "      <td>0.042474</td>\n",
       "    </tr>\n",
       "    <tr>\n",
       "      <th>61</th>\n",
       "      <td>21.0</td>\n",
       "      <td>18</td>\n",
       "      <td>24</td>\n",
       "      <td>pov</td>\n",
       "      <td>male</td>\n",
       "      <td>asian</td>\n",
       "      <td>0.029804</td>\n",
       "    </tr>\n",
       "    <tr>\n",
       "      <th>62</th>\n",
       "      <td>21.0</td>\n",
       "      <td>18</td>\n",
       "      <td>24</td>\n",
       "      <td>pov</td>\n",
       "      <td>male</td>\n",
       "      <td>black</td>\n",
       "      <td>0.066237</td>\n",
       "    </tr>\n",
       "    <tr>\n",
       "      <th>63</th>\n",
       "      <td>21.0</td>\n",
       "      <td>18</td>\n",
       "      <td>24</td>\n",
       "      <td>pov</td>\n",
       "      <td>male</td>\n",
       "      <td>latino</td>\n",
       "      <td>0.072074</td>\n",
       "    </tr>\n",
       "    <tr>\n",
       "      <th>64</th>\n",
       "      <td>21.0</td>\n",
       "      <td>18</td>\n",
       "      <td>24</td>\n",
       "      <td>pov</td>\n",
       "      <td>male</td>\n",
       "      <td>other</td>\n",
       "      <td>0.054269</td>\n",
       "    </tr>\n",
       "  </tbody>\n",
       "</table>\n",
       "</div>"
      ],
      "text/plain": [
       "     age  age_min  age_max  pov   sex raceeth      prob\n",
       "60  21.0       18       24  pov  male   white  0.042474\n",
       "61  21.0       18       24  pov  male   asian  0.029804\n",
       "62  21.0       18       24  pov  male   black  0.066237\n",
       "63  21.0       18       24  pov  male  latino  0.072074\n",
       "64  21.0       18       24  pov  male   other  0.054269"
      ]
     },
     "execution_count": 260,
     "metadata": {},
     "output_type": "execute_result"
    }
   ],
   "source": [
    "rasp = pkg.reference('rasp_diabetes').dataframe()\n",
    "rasp['sex'] = rasp['sex'].astype('category')\n",
    "rasp.sex.cat.rename_categories({0:'female', 1:'male'}, inplace=True)\n",
    "rasp['raceeth'] = rasp['raceeth'].astype('category')\n",
    "rasp['pov'] = rasp['pov'].astype('category')\n",
    "rasp.pov.cat.rename_categories({0:'npov', 1:'pov'}, inplace=True)\n",
    "rasp = rasp[rasp.age > 18].copy()\n",
    "print(len(rasp))\n",
    "rasp.head()"
   ]
  },
  {
   "cell_type": "code",
   "execution_count": 278,
   "metadata": {},
   "outputs": [
    {
     "data": {
      "text/plain": [
       "140672"
      ]
     },
     "execution_count": 278,
     "metadata": {},
     "output_type": "execute_result"
    }
   ],
   "source": [
    "len(df18)"
   ]
  },
  {
   "cell_type": "code",
   "execution_count": 282,
   "metadata": {},
   "outputs": [
    {
     "data": {
      "text/html": [
       "<div>\n",
       "<style scoped>\n",
       "    .dataframe tbody tr th:only-of-type {\n",
       "        vertical-align: middle;\n",
       "    }\n",
       "\n",
       "    .dataframe tbody tr th {\n",
       "        vertical-align: top;\n",
       "    }\n",
       "\n",
       "    .dataframe thead th {\n",
       "        text-align: right;\n",
       "    }\n",
       "</style>\n",
       "<table border=\"1\" class=\"dataframe\">\n",
       "  <thead>\n",
       "    <tr style=\"text-align: right;\">\n",
       "      <th></th>\n",
       "      <th>age</th>\n",
       "      <th>age_min</th>\n",
       "      <th>age_max</th>\n",
       "      <th>pov</th>\n",
       "      <th>sex</th>\n",
       "      <th>raceeth</th>\n",
       "      <th>prob</th>\n",
       "    </tr>\n",
       "  </thead>\n",
       "  <tbody>\n",
       "    <tr>\n",
       "      <th>60</th>\n",
       "      <td>21.0</td>\n",
       "      <td>18</td>\n",
       "      <td>24</td>\n",
       "      <td>pov</td>\n",
       "      <td>male</td>\n",
       "      <td>white</td>\n",
       "      <td>0.042474</td>\n",
       "    </tr>\n",
       "    <tr>\n",
       "      <th>61</th>\n",
       "      <td>21.0</td>\n",
       "      <td>18</td>\n",
       "      <td>24</td>\n",
       "      <td>pov</td>\n",
       "      <td>male</td>\n",
       "      <td>asian</td>\n",
       "      <td>0.029804</td>\n",
       "    </tr>\n",
       "    <tr>\n",
       "      <th>62</th>\n",
       "      <td>21.0</td>\n",
       "      <td>18</td>\n",
       "      <td>24</td>\n",
       "      <td>pov</td>\n",
       "      <td>male</td>\n",
       "      <td>black</td>\n",
       "      <td>0.066237</td>\n",
       "    </tr>\n",
       "    <tr>\n",
       "      <th>63</th>\n",
       "      <td>21.0</td>\n",
       "      <td>18</td>\n",
       "      <td>24</td>\n",
       "      <td>pov</td>\n",
       "      <td>male</td>\n",
       "      <td>latino</td>\n",
       "      <td>0.072074</td>\n",
       "    </tr>\n",
       "    <tr>\n",
       "      <th>64</th>\n",
       "      <td>21.0</td>\n",
       "      <td>18</td>\n",
       "      <td>24</td>\n",
       "      <td>pov</td>\n",
       "      <td>male</td>\n",
       "      <td>other</td>\n",
       "      <td>0.054269</td>\n",
       "    </tr>\n",
       "  </tbody>\n",
       "</table>\n",
       "</div>"
      ],
      "text/plain": [
       "     age  age_min  age_max  pov   sex raceeth      prob\n",
       "60  21.0       18       24  pov  male   white  0.042474\n",
       "61  21.0       18       24  pov  male   asian  0.029804\n",
       "62  21.0       18       24  pov  male   black  0.066237\n",
       "63  21.0       18       24  pov  male  latino  0.072074\n",
       "64  21.0       18       24  pov  male   other  0.054269"
      ]
     },
     "execution_count": 282,
     "metadata": {},
     "output_type": "execute_result"
    }
   ],
   "source": []
  },
  {
   "cell_type": "code",
   "execution_count": 297,
   "metadata": {},
   "outputs": [
    {
     "name": "stdout",
     "output_type": "stream",
     "text": [
      "200960 140 140672\n"
     ]
    },
    {
     "data": {
      "text/html": [
       "<div>\n",
       "<style scoped>\n",
       "    .dataframe tbody tr th:only-of-type {\n",
       "        vertical-align: middle;\n",
       "    }\n",
       "\n",
       "    .dataframe tbody tr th {\n",
       "        vertical-align: top;\n",
       "    }\n",
       "\n",
       "    .dataframe thead th {\n",
       "        text-align: right;\n",
       "    }\n",
       "</style>\n",
       "<table border=\"1\" class=\"dataframe\">\n",
       "  <thead>\n",
       "    <tr style=\"text-align: right;\">\n",
       "      <th></th>\n",
       "      <th>level_0</th>\n",
       "      <th>geoid</th>\n",
       "      <th>value_est</th>\n",
       "      <th>value_margin</th>\n",
       "      <th>sex</th>\n",
       "      <th>raceeth</th>\n",
       "      <th>age_min</th>\n",
       "      <th>pov</th>\n",
       "      <th>index</th>\n",
       "      <th>age</th>\n",
       "      <th>prob</th>\n",
       "    </tr>\n",
       "  </thead>\n",
       "  <tbody>\n",
       "    <tr>\n",
       "      <th>0</th>\n",
       "      <td>0</td>\n",
       "      <td>14000US06073000100</td>\n",
       "      <td>0</td>\n",
       "      <td>12</td>\n",
       "      <td>male</td>\n",
       "      <td>black</td>\n",
       "      <td>18</td>\n",
       "      <td>pov</td>\n",
       "      <td>62</td>\n",
       "      <td>21.0</td>\n",
       "      <td>0.066237</td>\n",
       "    </tr>\n",
       "    <tr>\n",
       "      <th>1</th>\n",
       "      <td>1</td>\n",
       "      <td>14000US06073000100</td>\n",
       "      <td>0</td>\n",
       "      <td>12</td>\n",
       "      <td>male</td>\n",
       "      <td>black</td>\n",
       "      <td>25</td>\n",
       "      <td>pov</td>\n",
       "      <td>82</td>\n",
       "      <td>29.5</td>\n",
       "      <td>0.094178</td>\n",
       "    </tr>\n",
       "    <tr>\n",
       "      <th>2</th>\n",
       "      <td>2</td>\n",
       "      <td>14000US06073000100</td>\n",
       "      <td>0</td>\n",
       "      <td>12</td>\n",
       "      <td>male</td>\n",
       "      <td>black</td>\n",
       "      <td>35</td>\n",
       "      <td>pov</td>\n",
       "      <td>102</td>\n",
       "      <td>39.5</td>\n",
       "      <td>0.140174</td>\n",
       "    </tr>\n",
       "    <tr>\n",
       "      <th>3</th>\n",
       "      <td>3</td>\n",
       "      <td>14000US06073000100</td>\n",
       "      <td>0</td>\n",
       "      <td>12</td>\n",
       "      <td>male</td>\n",
       "      <td>black</td>\n",
       "      <td>45</td>\n",
       "      <td>pov</td>\n",
       "      <td>122</td>\n",
       "      <td>49.5</td>\n",
       "      <td>0.203585</td>\n",
       "    </tr>\n",
       "    <tr>\n",
       "      <th>4</th>\n",
       "      <td>4</td>\n",
       "      <td>14000US06073000100</td>\n",
       "      <td>0</td>\n",
       "      <td>12</td>\n",
       "      <td>male</td>\n",
       "      <td>black</td>\n",
       "      <td>55</td>\n",
       "      <td>pov</td>\n",
       "      <td>142</td>\n",
       "      <td>59.5</td>\n",
       "      <td>0.286135</td>\n",
       "    </tr>\n",
       "  </tbody>\n",
       "</table>\n",
       "</div>"
      ],
      "text/plain": [
       "   level_0               geoid  value_est  value_margin   sex raceeth  \\\n",
       "0        0  14000US06073000100          0            12  male   black   \n",
       "1        1  14000US06073000100          0            12  male   black   \n",
       "2        2  14000US06073000100          0            12  male   black   \n",
       "3        3  14000US06073000100          0            12  male   black   \n",
       "4        4  14000US06073000100          0            12  male   black   \n",
       "\n",
       "   age_min  pov  index   age      prob  \n",
       "0       18  pov     62  21.0  0.066237  \n",
       "1       25  pov     82  29.5  0.094178  \n",
       "2       35  pov    102  39.5  0.140174  \n",
       "3       45  pov    122  49.5  0.203585  \n",
       "4       55  pov    142  59.5  0.286135  "
      ]
     },
     "execution_count": 297,
     "metadata": {},
     "output_type": "execute_result"
    }
   ],
   "source": [
    "t = df18.reset_index().merge(rasp.reset_index(), on=['raceeth','age_min','pov','sex'], how='left')\n",
    "t['value_est'] = t['value_est_controlled']\n",
    "t = t[['geoid', 'value_est', 'value_margin', 'sex', 'raceeth', 'age_min', 'pov', 'index', 'age',  'prob']].copy()\n",
    "\n",
    "print(len(df), len(rasp), len(t))\n",
    "tract_probs = t.reset_index().copy()\n",
    "tract_probs.head()"
   ]
  },
  {
   "cell_type": "code",
   "execution_count": 298,
   "metadata": {},
   "outputs": [
    {
     "name": "stdout",
     "output_type": "stream",
     "text": [
      "140672\n"
     ]
    },
    {
     "data": {
      "text/html": [
       "<div>\n",
       "<style scoped>\n",
       "    .dataframe tbody tr th:only-of-type {\n",
       "        vertical-align: middle;\n",
       "    }\n",
       "\n",
       "    .dataframe tbody tr th {\n",
       "        vertical-align: top;\n",
       "    }\n",
       "\n",
       "    .dataframe thead th {\n",
       "        text-align: right;\n",
       "    }\n",
       "</style>\n",
       "<table border=\"1\" class=\"dataframe\">\n",
       "  <thead>\n",
       "    <tr style=\"text-align: right;\">\n",
       "      <th></th>\n",
       "      <th>value_est</th>\n",
       "      <th>value_margin</th>\n",
       "      <th>prob</th>\n",
       "      <th>n</th>\n",
       "      <th>samples</th>\n",
       "      <th>count</th>\n",
       "      <th>est_prob</th>\n",
       "    </tr>\n",
       "  </thead>\n",
       "  <tbody>\n",
       "    <tr>\n",
       "      <th>0</th>\n",
       "      <td>0</td>\n",
       "      <td>12</td>\n",
       "      <td>0.066237</td>\n",
       "      <td>0</td>\n",
       "      <td>[]</td>\n",
       "      <td>0</td>\n",
       "      <td>0.0</td>\n",
       "    </tr>\n",
       "    <tr>\n",
       "      <th>1</th>\n",
       "      <td>0</td>\n",
       "      <td>12</td>\n",
       "      <td>0.094178</td>\n",
       "      <td>0</td>\n",
       "      <td>[]</td>\n",
       "      <td>0</td>\n",
       "      <td>0.0</td>\n",
       "    </tr>\n",
       "    <tr>\n",
       "      <th>2</th>\n",
       "      <td>0</td>\n",
       "      <td>12</td>\n",
       "      <td>0.140174</td>\n",
       "      <td>0</td>\n",
       "      <td>[]</td>\n",
       "      <td>0</td>\n",
       "      <td>0.0</td>\n",
       "    </tr>\n",
       "    <tr>\n",
       "      <th>3</th>\n",
       "      <td>0</td>\n",
       "      <td>12</td>\n",
       "      <td>0.203585</td>\n",
       "      <td>0</td>\n",
       "      <td>[]</td>\n",
       "      <td>0</td>\n",
       "      <td>0.0</td>\n",
       "    </tr>\n",
       "    <tr>\n",
       "      <th>4</th>\n",
       "      <td>0</td>\n",
       "      <td>12</td>\n",
       "      <td>0.286135</td>\n",
       "      <td>0</td>\n",
       "      <td>[]</td>\n",
       "      <td>0</td>\n",
       "      <td>0.0</td>\n",
       "    </tr>\n",
       "  </tbody>\n",
       "</table>\n",
       "</div>"
      ],
      "text/plain": [
       "   value_est  value_margin      prob  n samples  count  est_prob\n",
       "0          0            12  0.066237  0      []      0       0.0\n",
       "1          0            12  0.094178  0      []      0       0.0\n",
       "2          0            12  0.140174  0      []      0       0.0\n",
       "3          0            12  0.203585  0      []      0       0.0\n",
       "4          0            12  0.286135  0      []      0       0.0"
      ]
     },
     "execution_count": 298,
     "metadata": {},
     "output_type": "execute_result"
    }
   ],
   "source": [
    "\n",
    "t = tract_probs[['value_est','value_margin', 'prob']].copy()\n",
    "\n",
    "n = np.random.normal(t.value_est,  t.value_margin/1.645).round(0).astype(int)\n",
    "n = np.where(n>0,n,0)\n",
    "\n",
    "# There are a whole lot of estimates of 0, and the ramdom sampling process above gives half9 of them \n",
    "# a non-zero value. \n",
    "n = np.where(t.value_est==0,0,n)\n",
    "\n",
    "t['n'] = n\n",
    "    \n",
    "t['samples'] =t.n.apply(lambda e : np.random.random_sample(e) )\n",
    "\n",
    "t['count'] = t.apply(lambda r: (r.samples<r.prob).sum(), axis=1)\n",
    " \n",
    "# That random sample process above works out, for large N, to be nearly exactly the same as:\n",
    "# However, the sampling process would allow for creating variances. \n",
    "t['est_prob'] = t['value_est'] * t['prob']\n",
    "    \n",
    "print(len(t)   )\n",
    "\n",
    "t.head()"
   ]
  },
  {
   "cell_type": "code",
   "execution_count": 299,
   "metadata": {},
   "outputs": [
    {
     "data": {
      "text/plain": [
       "(2748648, 140672)"
      ]
     },
     "execution_count": 299,
     "metadata": {},
     "output_type": "execute_result"
    }
   ],
   "source": [
    "t.value_est.sum(), len(t)"
   ]
  },
  {
   "cell_type": "code",
   "execution_count": 300,
   "metadata": {},
   "outputs": [
    {
     "data": {
      "text/plain": [
       "0.11146276151814759"
      ]
     },
     "execution_count": 300,
     "metadata": {},
     "output_type": "execute_result"
    }
   ],
   "source": [
    "\n",
    "t['est_prob'] = t['value_est'] * t['prob']\n",
    "t['est_prob'].sum()/t['value_est'].sum() "
   ]
  },
  {
   "cell_type": "code",
   "execution_count": 301,
   "metadata": {},
   "outputs": [
    {
     "data": {
      "text/plain": [
       "0.11385706718357534"
      ]
     },
     "execution_count": 301,
     "metadata": {},
     "output_type": "execute_result"
    }
   ],
   "source": [
    "t['count'].sum() /t['value_est'].sum()"
   ]
  },
  {
   "cell_type": "code",
   "execution_count": 302,
   "metadata": {},
   "outputs": [
    {
     "data": {
      "text/plain": [
       "0.11146276151814759"
      ]
     },
     "execution_count": 302,
     "metadata": {},
     "output_type": "execute_result"
    }
   ],
   "source": [
    "(t['value_est']*t['prob']).sum()/t['value_est'].sum()"
   ]
  },
  {
   "cell_type": "code",
   "execution_count": 303,
   "metadata": {},
   "outputs": [
    {
     "data": {
      "text/plain": [
       "2748648"
      ]
     },
     "execution_count": 303,
     "metadata": {},
     "output_type": "execute_result"
    }
   ],
   "source": [
    "t.value_est.sum()"
   ]
  },
  {
   "cell_type": "markdown",
   "metadata": {},
   "source": []
  },
  {
   "cell_type": "code",
   "execution_count": 291,
   "metadata": {},
   "outputs": [
    {
     "data": {
      "text/html": [
       "<div>\n",
       "<style scoped>\n",
       "    .dataframe tbody tr th:only-of-type {\n",
       "        vertical-align: middle;\n",
       "    }\n",
       "\n",
       "    .dataframe tbody tr th {\n",
       "        vertical-align: top;\n",
       "    }\n",
       "\n",
       "    .dataframe thead th {\n",
       "        text-align: right;\n",
       "    }\n",
       "</style>\n",
       "<table border=\"1\" class=\"dataframe\">\n",
       "  <thead>\n",
       "    <tr style=\"text-align: right;\">\n",
       "      <th></th>\n",
       "      <th>level_0</th>\n",
       "      <th>geoid</th>\n",
       "      <th>value_est</th>\n",
       "      <th>value_margin</th>\n",
       "      <th>sex</th>\n",
       "      <th>raceeth</th>\n",
       "      <th>age_min</th>\n",
       "      <th>pov</th>\n",
       "      <th>index</th>\n",
       "      <th>age</th>\n",
       "      <th>prob</th>\n",
       "    </tr>\n",
       "  </thead>\n",
       "  <tbody>\n",
       "    <tr>\n",
       "      <th>105504</th>\n",
       "      <td>105504</td>\n",
       "      <td>14000US06073000100</td>\n",
       "      <td>0</td>\n",
       "      <td>12</td>\n",
       "      <td>male</td>\n",
       "      <td>white</td>\n",
       "      <td>18</td>\n",
       "      <td>pov</td>\n",
       "      <td>60</td>\n",
       "      <td>21.0</td>\n",
       "      <td>0.042474</td>\n",
       "    </tr>\n",
       "    <tr>\n",
       "      <th>105505</th>\n",
       "      <td>105505</td>\n",
       "      <td>14000US06073000100</td>\n",
       "      <td>0</td>\n",
       "      <td>12</td>\n",
       "      <td>male</td>\n",
       "      <td>white</td>\n",
       "      <td>25</td>\n",
       "      <td>pov</td>\n",
       "      <td>80</td>\n",
       "      <td>29.5</td>\n",
       "      <td>0.061047</td>\n",
       "    </tr>\n",
       "    <tr>\n",
       "      <th>105506</th>\n",
       "      <td>105506</td>\n",
       "      <td>14000US06073000100</td>\n",
       "      <td>0</td>\n",
       "      <td>12</td>\n",
       "      <td>male</td>\n",
       "      <td>white</td>\n",
       "      <td>35</td>\n",
       "      <td>pov</td>\n",
       "      <td>100</td>\n",
       "      <td>39.5</td>\n",
       "      <td>0.092514</td>\n",
       "    </tr>\n",
       "    <tr>\n",
       "      <th>105507</th>\n",
       "      <td>105507</td>\n",
       "      <td>14000US06073000100</td>\n",
       "      <td>11</td>\n",
       "      <td>18</td>\n",
       "      <td>male</td>\n",
       "      <td>white</td>\n",
       "      <td>45</td>\n",
       "      <td>pov</td>\n",
       "      <td>120</td>\n",
       "      <td>49.5</td>\n",
       "      <td>0.137821</td>\n",
       "    </tr>\n",
       "    <tr>\n",
       "      <th>105508</th>\n",
       "      <td>105508</td>\n",
       "      <td>14000US06073000100</td>\n",
       "      <td>0</td>\n",
       "      <td>12</td>\n",
       "      <td>male</td>\n",
       "      <td>white</td>\n",
       "      <td>55</td>\n",
       "      <td>pov</td>\n",
       "      <td>140</td>\n",
       "      <td>59.5</td>\n",
       "      <td>0.200416</td>\n",
       "    </tr>\n",
       "  </tbody>\n",
       "</table>\n",
       "</div>"
      ],
      "text/plain": [
       "        level_0               geoid  value_est  value_margin   sex raceeth  \\\n",
       "105504   105504  14000US06073000100          0            12  male   white   \n",
       "105505   105505  14000US06073000100          0            12  male   white   \n",
       "105506   105506  14000US06073000100          0            12  male   white   \n",
       "105507   105507  14000US06073000100         11            18  male   white   \n",
       "105508   105508  14000US06073000100          0            12  male   white   \n",
       "\n",
       "        age_min  pov  index   age      prob  \n",
       "105504       18  pov     60  21.0  0.042474  \n",
       "105505       25  pov     80  29.5  0.061047  \n",
       "105506       35  pov    100  39.5  0.092514  \n",
       "105507       45  pov    120  49.5  0.137821  \n",
       "105508       55  pov    140  59.5  0.200416  "
      ]
     },
     "execution_count": 291,
     "metadata": {},
     "output_type": "execute_result"
    }
   ],
   "source": [
    "tract_probs[tract_probs.raceeth == 'white'].head()"
   ]
  },
  {
   "cell_type": "code",
   "execution_count": null,
   "metadata": {},
   "outputs": [],
   "source": []
  }
 ],
 "metadata": {
  "kernelspec": {
   "display_name": "Python 3",
   "language": "python",
   "name": "python3"
  },
  "language_info": {
   "codemirror_mode": {
    "name": "ipython",
    "version": 3
   },
   "file_extension": ".py",
   "mimetype": "text/x-python",
   "name": "python",
   "nbconvert_exporter": "python",
   "pygments_lexer": "ipython3",
   "version": "3.6.0"
  }
 },
 "nbformat": 4,
 "nbformat_minor": 2
}
