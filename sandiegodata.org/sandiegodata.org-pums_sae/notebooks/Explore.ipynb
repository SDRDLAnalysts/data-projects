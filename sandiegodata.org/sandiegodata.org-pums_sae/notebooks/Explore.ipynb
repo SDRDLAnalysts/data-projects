{
 "cells": [
  {
   "cell_type": "code",
   "execution_count": 1,
   "metadata": {},
   "outputs": [],
   "source": [
    "import seaborn as sns\n",
    "import metapack as mp\n",
    "import pandas as pd\n",
    "import numpy as np\n",
    "import matplotlib.pyplot as plt\n",
    "from IPython.display import display \n",
    "\n",
    "%matplotlib inline\n",
    "sns.set_context('notebook')\n",
    "\n",
    "mp.jupyter.init() # Initialize indexes and downloder context\n"
   ]
  },
  {
   "cell_type": "code",
   "execution_count": 2,
   "metadata": {},
   "outputs": [
    {
     "data": {
      "text/html": [
       "<h1>Small Area Estimation For San Diego</h1>\n",
       "<p><code>sandiegodata.org-pums_sae-1</code> Last Update: 2018-12-01T05:59:19</p>\n",
       "<p><em>Processing ACS PUMS and tracts for small area estimation</em></p>\n",
       "<h2>Contacts</h2>\n",
       "<ul>\n",
       "<li><strong>Wrangler</strong> <a href=\"mailto:eric@civicknowledge.com\">Eric Busboom</a>, <a href=\"http://civicknowledge.com\">Civic Knowledge</a></li>\n",
       "</ul>\n",
       "<h2>Resources</h2>\n",
       "<ul>\n",
       "<li><strong> <a href=\"notebooks/RaceAgeSexEstimates.ipynb#col_map_df\">column_dimensions</a></strong>. Links Age, Sex, Poverty status to column ids.</li>\n",
       "<li><strong> <a href=\"notebooks/RaceAgeSexEstimates.ipynb#replicates\">rasp_replicates</a></strong>. Replicates of race, age, sex and poverty estimates.</li>\n",
       "</ul>\n",
       "<h2>References</h2>\n",
       "<ul>\n",
       "<li><strong><a href=\"census://2015/5/CA/795/B03002\">race_hisp_pums</a></strong>. B03002_002 HISPANIC OR LATINO ORIGIN BY RACE, PUMS</li>\n",
       "<li><strong><a href=\"census://2015/5/CA/140/B03002\">race_hisp_tracts</a></strong>. B03002_002 HISPANIC OR LATINO ORIGIN BY RACE, tracts</li>\n",
       "<li><strong><a href=\"shape+ftp://ftp2.census.gov/geo/tiger/TIGER2015/TRACT/tl_2015_06_tract.zip\">ca_tract_boundaries</a></strong>. California Tract boundaries</li>\n",
       "<li><strong><a href=\"shape+ftp://ftp2.census.gov/geo/tiger/TIGER2018/PUMA/tl_2018_06_puma10.zip\">ca_pums_boundaries</a></strong>. California PUMS boundaries</li>\n",
       "<li><strong><a href=\"index:healthpolicy.ucla.edu-chis-adult-1#rasp_diabetes_reduced\">rasp_diabetes</a></strong>. Diabetes probabilities, by age, race, sex and poverty status</li>\n",
       "<li><strong><a href=\"census://2016/5/CA/140/B01001A\">sex_age_white_tracts</a></strong>. B01001A: Sex by Age (White Alone)</li>\n",
       "<li><strong><a href=\"census://2016/5/CA/795/B01001A\">sex_age_white_pums</a></strong>. B01001A: Sex by Age (White Alone)</li>\n",
       "<li><strong><a href=\"data/race_iterations.csv\">race_iterations</a></strong>. Race iteration table suffixes</li>\n",
       "<li><strong><a href=\"data/sandiego_puma_tract.csv\">sandiego_puma_tract</a></strong>. Pumas and associated tracts, for San Diego County</li>\n",
       "<li><strong><a href=\"foo\">pov_age</a></strong>. Table B17020: Poverty Status by Age</li>\n",
       "<li><strong><a href=\"census://2016/5/CA/140/B17001{iteration}\">pov_sex_age_template</a></strong>. Template for Table B17001: Poverty Status by Sex by Age</li>\n",
       "<li><strong><a href=\"foo\">pov</a></strong>. Table B17002: Ratio of Income to Poverty Level</li>\n",
       "<li><strong><a href=\"foo\">age_pov</a></strong>. Table B17024: Age by Ratio of Income to Poverty Level</li>\n",
       "</ul>"
      ],
      "text/plain": [
       "<metapack.doc.MetapackDoc at 0x11a3e34e0>"
      ]
     },
     "execution_count": 2,
     "metadata": {},
     "output_type": "execute_result"
    }
   ],
   "source": [
    "#pkg = mp.jupyter.open_package()\n",
    "pkg = mp.jupyter.open_source_package()\n",
    "pkg"
   ]
  },
  {
   "cell_type": "code",
   "execution_count": 3,
   "metadata": {},
   "outputs": [],
   "source": [
    "race_iterations = pkg.reference('race_iterations').dataframe()\n",
    "\n",
    "# List of PUMS in San Giego county, so we can restrict census data to just SD County\n",
    "sandiego_puma_tract_pkg =  pkg.reference('sandiego_puma_tract').dataframe()\n",
    "sandiego_puma_tract = list(sandiego_puma_tract_pkg.puma_geoid.unique()) + \\\n",
    "                      list(sandiego_puma_tract_pkg.tract_geoid.unique())"
   ]
  },
  {
   "cell_type": "code",
   "execution_count": 4,
   "metadata": {},
   "outputs": [],
   "source": [
    "def make_col_map(t):\n",
    "    from collections import namedtuple\n",
    "\n",
    "    sex = None\n",
    "    age = None\n",
    "    pov = 'all'\n",
    "\n",
    "    def parse_age(v):\n",
    "\n",
    "        if v and 'year' in v:\n",
    "            parts = v.split()\n",
    "            if parts[0] == '75':\n",
    "                return  pd.Interval(left=75, right=120, closed='both')\n",
    "            elif len(parts) == 4:\n",
    "                return  pd.Interval(left=int(parts[0]), right=int(parts[2]), closed='both') \n",
    "\n",
    "        return None\n",
    "\n",
    "    col_map = {}\n",
    "\n",
    "    Dimensions = namedtuple('Dimensions', ['sex', 'age_range', 'pov'])\n",
    "\n",
    "    for e in t.table.columns:\n",
    "\n",
    "        sd = e.short_description\n",
    "        if '_m90' in e.unique_id:\n",
    "            continue\n",
    "        if sd:\n",
    "            if 'Male' in sd:\n",
    "                sex = 'male'\n",
    "            elif 'Female' in sd:\n",
    "                sex = 'female'\n",
    "            elif 'Total' in sd:\n",
    "                sex = 'total'\n",
    "            elif 'below poverty level' in sd:\n",
    "                pov = 'pov'\n",
    "            elif 'above poverty level' in sd:\n",
    "                pov = 'npov'\n",
    "            \n",
    "        col_map[e.unique_id] = Dimensions( sex, parse_age(sd), pov)\n",
    "\n",
    "    return col_map    "
   ]
  },
  {
   "cell_type": "code",
   "execution_count": 5,
   "metadata": {
    "scrolled": false
   },
   "outputs": [],
   "source": [
    "def get_raceeth(pkg, re_code, re_name):\n",
    "    \"\"\"Get a single race/ethnicity iteration, and process it so \n",
    "    it can be merged with others. \"\"\"\n",
    "    \n",
    "    pov_sex_age_url = pkg.reference('pov_sex_age_template').resolved_url\n",
    "    url = pov_sex_age_url.interpolate(context={'iteration':re_code.strip()})\n",
    "    \n",
    "    psa = url.dataframe()\n",
    "    psa = psa[psa.index.isin(sandiego_puma_tract)]\n",
    "    col_map= make_col_map(psa)\n",
    "    \n",
    "    \n",
    "    t = psa.drop(columns=['STUSAB', 'COUNTY','NAME'])\n",
    "    t = t.stack().to_frame().reset_index()\n",
    "    t.columns = ['geoid','col_name','value']\n",
    "    t['m_type'] = t.col_name.apply(lambda v: 'margin' if '_m90' in v else 'est')\n",
    "    t['col_name'] = t.col_name.apply(lambda v: v.replace('_m90',''))\n",
    "    t = t.set_index(['geoid','col_name','m_type']).unstack()\n",
    "    t['sex'] = [col_map[str(i[1]).replace('_m90','')].sex for i,r in t.iterrows() ]\n",
    "    t['raceeth'] = re_name\n",
    "    t['age_range'] = [col_map[str(i[1]).replace('_m90','')].age_range for i,r in t.iterrows() ]\n",
    "    t['pov'] = [col_map[str(i[1]).replace('_m90','')].pov for i,r in t.iterrows() ]\n",
    "    return t\n"
   ]
  },
  {
   "cell_type": "code",
   "execution_count": 6,
   "metadata": {},
   "outputs": [
    {
     "ename": "NameError",
     "evalue": "name 'sd_pumas' is not defined",
     "output_type": "error",
     "traceback": [
      "\u001b[0;31m---------------------------------------------------------------------------\u001b[0m",
      "\u001b[0;31mNameError\u001b[0m                                 Traceback (most recent call last)",
      "\u001b[0;32m<ipython-input-6-74bd63856dd9>\u001b[0m in \u001b[0;36m<module>\u001b[0;34m\u001b[0m\n\u001b[0;32m----> 1\u001b[0;31m \u001b[0msd_pumas\u001b[0m\u001b[0;34m\u001b[0m\u001b[0m\n\u001b[0m",
      "\u001b[0;31mNameError\u001b[0m: name 'sd_pumas' is not defined"
     ]
    }
   ],
   "source": [
    "sd_pumas"
   ]
  },
  {
   "cell_type": "code",
   "execution_count": null,
   "metadata": {},
   "outputs": [],
   "source": [
    "frames= []\n",
    "\n",
    "for e in race_iterations.itertuples():\n",
    "    print(e)\n",
    "    frames.append(get_raceeth(pkg, e.code, e.raceeth))\n",
    "\n",
    "df = pd.concat(frames)"
   ]
  },
  {
   "cell_type": "code",
   "execution_count": null,
   "metadata": {},
   "outputs": [],
   "source": [
    "df"
   ]
  },
  {
   "cell_type": "code",
   "execution_count": null,
   "metadata": {},
   "outputs": [],
   "source": [
    "t = df[(df.sex != 'both') & (df.pov != 'all')& (df.raceeth != 'white') & (~df.age_range.isnull())].copy()\n",
    "# Collapse the multi-level columns index\n",
    "t.columns = [ '_'.join(e) if e[1] else e[0] for e in zip(*zip(*t.columns)) ]\n",
    "t.head()\n"
   ]
  },
  {
   "cell_type": "code",
   "execution_count": null,
   "metadata": {},
   "outputs": [],
   "source": [
    "t.value_est.sum()"
   ]
  },
  {
   "cell_type": "code",
   "execution_count": null,
   "metadata": {},
   "outputs": [],
   "source": [
    "t['value_std'] = t.value_margin/1.645\n",
    "puma_ras = t\n",
    "puma_ras.head()"
   ]
  },
  {
   "cell_type": "code",
   "execution_count": null,
   "metadata": {},
   "outputs": [],
   "source": [
    "# Get the sum of the population of all PUMS\n",
    "from rowgenerators import parse_app_url\n",
    "t = parse_app_url('census://2016/5/CA/795/B01003').dataframe()\n",
    "t = t[t.index.isin(sd_pumas)]\n",
    "sd_puma_pop = t.B01003_001.sum()\n",
    "\n",
    "# Get the controlled population for SD county. THe margin for this estimate is zero\n",
    "# because it's tied to administrative data. \n",
    "from rowgenerators import parse_app_url\n",
    "t = parse_app_url('census://2016/5/CA/50/B01003').dataframe()\n",
    "sd_controlled_pop = t.loc['05000US06073'].B01003_001 \n",
    "\n",
    "# Apparently, the PUMA population is also controlles. \n",
    "assert sd_puma_pop == sd_controlled_pop\n",
    "\n",
    "# However, the sums from the poverty status by sex by age table is not\n",
    "# controlled ( and would not expect it to be ) so it's a different number. \n",
    "#\n",
    "# Interestingly, the controlled population number is not with in the 90% margins of \n",
    "# the sum of the table esimates. \n",
    "from rowgenerators import parse_app_url\n",
    "t = parse_app_url('census://2016/5/CA/795/B17001').dataframe()\n",
    "t = t[t.index.isin(sd_pumas)]\n",
    "t.B17001_001.sum(), t.B17001_001.sum() - sd_controlled_pop, t.B17001_001.sum_m90()\n"
   ]
  },
  {
   "cell_type": "code",
   "execution_count": null,
   "metadata": {},
   "outputs": [],
   "source": [
    "from numpy.random import normal\n",
    "\n",
    "def yield_estimate_replicates(df):\n",
    "    for n, (i,r) in enumerate(df.reset_index().iterrows()):\n",
    "\n",
    "        s = int(normal(loc=r.value_est, scale=r.value_std))\n",
    "        s = s if s > 0 else 0\n",
    "\n",
    "        col_no = int(r.col_name.split('_')[1])\n",
    "        \n",
    "        yield r.geoid, r.col_name, s\n",
    "        \n",
    "def make_estimate_replicates(df, controll_sum = None):\n",
    "    \n",
    "    t =  pd.DataFrame.from_records(list(yield_estimate_replicates(df)), columns = 'geoid col_no est'.split())\n",
    "    \n",
    "    if controll_sum:\n",
    "        total = t.est.sum()\n",
    "        ratio = controll_sum/total\n",
    "        t['controlled_est'] = (t.est*ratio).round(0).astype(int)\n",
    "    \n",
    "    return t\n",
    "    "
   ]
  },
  {
   "cell_type": "code",
   "execution_count": null,
   "metadata": {},
   "outputs": [],
   "source": [
    "# Create some estimate replicates, so se can calc the std dev\n",
    "estimates = []\n",
    "\n",
    "from tqdm import tnrange, tqdm_notebook\n",
    "\n",
    "for i in tnrange(10, desc='Create Estimates'):\n",
    "    est = make_estimate_replicates(puma_ras)\n",
    "    estimates.append(est.est.sum())\n",
    "    \n",
    "sim_pop_est = pd.Series(estimates).mean()\n",
    "sim_pop_est, pd.Series(estimates).std() * 1.645\n",
    "    \n",
    "    "
   ]
  },
  {
   "cell_type": "code",
   "execution_count": null,
   "metadata": {},
   "outputs": [],
   "source": [
    "est = make_estimate_replicates(puma_ras, sd_controlled_pop)\n",
    "est.head()"
   ]
  },
  {
   "cell_type": "code",
   "execution_count": null,
   "metadata": {},
   "outputs": [],
   "source": [
    "len(est)"
   ]
  },
  {
   "cell_type": "code",
   "execution_count": null,
   "metadata": {},
   "outputs": [],
   "source": [
    "rasp = pkg.reference('rasp_diabetes').dataframe()\n",
    "rasp"
   ]
  },
  {
   "cell_type": "code",
   "execution_count": null,
   "metadata": {},
   "outputs": [],
   "source": []
  }
 ],
 "metadata": {
  "kernelspec": {
   "display_name": "Python 3",
   "language": "python",
   "name": "python3"
  },
  "language_info": {
   "codemirror_mode": {
    "name": "ipython",
    "version": 3
   },
   "file_extension": ".py",
   "mimetype": "text/x-python",
   "name": "python",
   "nbconvert_exporter": "python",
   "pygments_lexer": "ipython3",
   "version": "3.6.0"
  }
 },
 "nbformat": 4,
 "nbformat_minor": 2
}
