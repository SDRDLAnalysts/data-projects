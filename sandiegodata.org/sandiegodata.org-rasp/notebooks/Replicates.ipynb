{
 "cells": [
  {
   "cell_type": "code",
   "execution_count": 1,
   "metadata": {},
   "outputs": [],
   "source": [
    "import seaborn as sns\n",
    "import metapack as mp\n",
    "import pandas as pd\n",
    "import numpy as np\n",
    "import matplotlib.pyplot as plt\n",
    "from IPython.display import display \n",
    "from tqdm import tqdm_notebook, tnrange\n",
    "\n",
    "%matplotlib inline\n",
    "sns.set_context('notebook')\n",
    "mp.jupyter.init()\n"
   ]
  },
  {
   "cell_type": "code",
   "execution_count": 2,
   "metadata": {},
   "outputs": [
    {
     "data": {
      "text/html": [
       "<h1>Race, Age, Sex and Poverty Estimates for San Diego County</h1>\n",
       "<p><code>sandiegodata.org-rasp-1</code> Last Update: 2018-12-05T23:26:29</p>\n",
       "<p><em>Tract level estimates for race, age, sex and poverty, from the ACS.</em></p>\n",
       "<h2>Contacts</h2>\n",
       "<ul>\n",
       "<li><strong>Wrangler</strong> <a href=\"mailto:eric@civicknowledge.com\">Eric Busboom</a>, <a href=\"http://civicknowledge.com\">Civic Knowledge</a></li>\n",
       "</ul>\n",
       "<h2>Resources</h2>\n",
       "<ul>\n",
       "<li><strong> <a href=\"data/rasp_tracts_sd.csv\">rasp_tracts_sd</a></strong>. Population estimates by race, age, sex and poverty status, for San Diego county</li>\n",
       "<li><strong> <a href=\"notebooks/Replicates.ipynb#reps\">rasp_tracts_sd_replicates</a></strong>. Replicates of the rasp_tracts_sd dataset</li>\n",
       "</ul>\n",
       "<h2>References</h2>\n",
       "<ul>\n",
       "<li><strong><a href=\"census://2016/5/CA/140/B17001{iteration}\">pov_sex_age_template</a></strong>. Template for Table B17001: Poverty Status by Sex by Age</li>\n",
       "<li><strong><a href=\"data/race_iterations.csv\">race_iterations</a></strong>. Race iteration table suffixes</li>\n",
       "<li><strong><a href=\"data/sandiego_puma_tract.csv\">sandiego_puma_tract</a></strong>. Pumas and associated tracts, for San Diego County</li>\n",
       "</ul>"
      ],
      "text/plain": [
       "<metapack.doc.MetapackDoc at 0x118fb8dd8>"
      ]
     },
     "execution_count": 2,
     "metadata": {},
     "output_type": "execute_result"
    }
   ],
   "source": [
    "pkg = mp.jupyter.open_package()\n",
    "#pkg = mp.jupyter.open_source_package()\n",
    "pkg"
   ]
  },
  {
   "cell_type": "code",
   "execution_count": 3,
   "metadata": {},
   "outputs": [
    {
     "data": {
      "text/plain": [
       "370520"
      ]
     },
     "execution_count": 3,
     "metadata": {},
     "output_type": "execute_result"
    }
   ],
   "source": [
    "rasp = pkg.resource('rasp_tracts_sd').dataframe()\n",
    "len(rasp)"
   ]
  },
  {
   "cell_type": "code",
   "execution_count": 4,
   "metadata": {},
   "outputs": [
    {
     "data": {
      "text/html": [
       "<div>\n",
       "<style scoped>\n",
       "    .dataframe tbody tr th:only-of-type {\n",
       "        vertical-align: middle;\n",
       "    }\n",
       "\n",
       "    .dataframe tbody tr th {\n",
       "        vertical-align: top;\n",
       "    }\n",
       "\n",
       "    .dataframe thead th {\n",
       "        text-align: right;\n",
       "    }\n",
       "</style>\n",
       "<table border=\"1\" class=\"dataframe\">\n",
       "  <thead>\n",
       "    <tr style=\"text-align: right;\">\n",
       "      <th></th>\n",
       "      <th>geoid</th>\n",
       "      <th>col_name</th>\n",
       "      <th>value_est</th>\n",
       "      <th>value_margin</th>\n",
       "      <th>sex</th>\n",
       "      <th>raceeth</th>\n",
       "      <th>age_range</th>\n",
       "      <th>pov</th>\n",
       "      <th>age_min</th>\n",
       "      <th>age_max</th>\n",
       "      <th>overlaping</th>\n",
       "    </tr>\n",
       "  </thead>\n",
       "  <tbody>\n",
       "    <tr>\n",
       "      <th>0</th>\n",
       "      <td>14000US06073000100</td>\n",
       "      <td>B17001A_001</td>\n",
       "      <td>2455</td>\n",
       "      <td>214</td>\n",
       "      <td>both</td>\n",
       "      <td>white</td>\n",
       "      <td>00-120</td>\n",
       "      <td>all</td>\n",
       "      <td>0</td>\n",
       "      <td>120</td>\n",
       "      <td>1</td>\n",
       "    </tr>\n",
       "    <tr>\n",
       "      <th>1</th>\n",
       "      <td>14000US06073000100</td>\n",
       "      <td>B17001A_002</td>\n",
       "      <td>102</td>\n",
       "      <td>70</td>\n",
       "      <td>both</td>\n",
       "      <td>white</td>\n",
       "      <td>00-120</td>\n",
       "      <td>below</td>\n",
       "      <td>0</td>\n",
       "      <td>120</td>\n",
       "      <td>1</td>\n",
       "    </tr>\n",
       "    <tr>\n",
       "      <th>2</th>\n",
       "      <td>14000US06073000100</td>\n",
       "      <td>B17001A_003</td>\n",
       "      <td>12</td>\n",
       "      <td>16</td>\n",
       "      <td>male</td>\n",
       "      <td>white</td>\n",
       "      <td>00-120</td>\n",
       "      <td>below</td>\n",
       "      <td>0</td>\n",
       "      <td>120</td>\n",
       "      <td>1</td>\n",
       "    </tr>\n",
       "    <tr>\n",
       "      <th>3</th>\n",
       "      <td>14000US06073000100</td>\n",
       "      <td>B17001A_004</td>\n",
       "      <td>0</td>\n",
       "      <td>12</td>\n",
       "      <td>male</td>\n",
       "      <td>white</td>\n",
       "      <td>00-004</td>\n",
       "      <td>below</td>\n",
       "      <td>0</td>\n",
       "      <td>4</td>\n",
       "      <td>1</td>\n",
       "    </tr>\n",
       "    <tr>\n",
       "      <th>4</th>\n",
       "      <td>14000US06073000100</td>\n",
       "      <td>B17001A_005</td>\n",
       "      <td>0</td>\n",
       "      <td>12</td>\n",
       "      <td>male</td>\n",
       "      <td>white</td>\n",
       "      <td>05-005</td>\n",
       "      <td>below</td>\n",
       "      <td>5</td>\n",
       "      <td>5</td>\n",
       "      <td>1</td>\n",
       "    </tr>\n",
       "  </tbody>\n",
       "</table>\n",
       "</div>"
      ],
      "text/plain": [
       "                geoid     col_name  value_est  value_margin   sex raceeth  \\\n",
       "0  14000US06073000100  B17001A_001       2455           214  both   white   \n",
       "1  14000US06073000100  B17001A_002        102            70  both   white   \n",
       "2  14000US06073000100  B17001A_003         12            16  male   white   \n",
       "3  14000US06073000100  B17001A_004          0            12  male   white   \n",
       "4  14000US06073000100  B17001A_005          0            12  male   white   \n",
       "\n",
       "  age_range    pov  age_min  age_max  overlaping  \n",
       "0    00-120    all        0      120           1  \n",
       "1    00-120  below        0      120           1  \n",
       "2    00-120  below        0      120           1  \n",
       "3    00-004  below        0        4           1  \n",
       "4    05-005  below        5        5           1  "
      ]
     },
     "execution_count": 4,
     "metadata": {},
     "output_type": "execute_result"
    }
   ],
   "source": [
    "rasp.head()"
   ]
  },
  {
   "cell_type": "code",
   "execution_count": 13,
   "metadata": {},
   "outputs": [],
   "source": [
    "def make_replicates(rasp, N=40):\n",
    "    \n",
    "    reps = pd.DataFrame({'estimate':rasp.value_est, 'stddev':rasp.value_margin/1.645})\n",
    "    \n",
    "    for i in tnrange(N, desc = 'Make replicate'):\n",
    "\n",
    "        # There are a whole lot of estimates of 0, and the ramdom sampling process above gives half of them \n",
    "        # a non-zero value. \n",
    "        #n = np.where(rasp.value_est==0,0,\n",
    "        #            np.random.normal(rasp.value_est,  rasp.value_margin/1.645).round(0).astype(int))\n",
    "        n = np.random.normal(reps.estimate,  reps.stddev)\n",
    "\n",
    "        reps['rep{:02}'.format(i+1)] = n #.round(0).astype(int)\n",
    "        \n",
    "    return reps"
   ]
  },
  {
   "cell_type": "code",
   "execution_count": 14,
   "metadata": {},
   "outputs": [
    {
     "data": {
      "application/vnd.jupyter.widget-view+json": {
       "model_id": "95f7273dabb44abea9c385973ae2f6fd",
       "version_major": 2,
       "version_minor": 0
      },
      "text/plain": [
       "HBox(children=(IntProgress(value=0, description='Make replicate', max=40, style=ProgressStyle(description_widt…"
      ]
     },
     "metadata": {},
     "output_type": "display_data"
    },
    {
     "name": "stdout",
     "output_type": "stream",
     "text": [
      "\n"
     ]
    }
   ],
   "source": [
    "reps = make_replicates(rasp)\n",
    "\n",
    "reps_only = reps[list(c for c in reps.columns if c.startswith('rep'))]\n",
    "reps['reps_mean'] = reps_only.mean(axis=1) #.round(0).astype(int)\n",
    "reps['reps_std'] = reps_only.std(axis=1)"
   ]
  },
  {
   "cell_type": "code",
   "execution_count": 8,
   "metadata": {},
   "outputs": [
    {
     "data": {
      "text/plain": [
       "35540912.20214871"
      ]
     },
     "execution_count": 8,
     "metadata": {},
     "output_type": "execute_result"
    }
   ],
   "source": [
    "n.sum()"
   ]
  },
  {
   "cell_type": "code",
   "execution_count": 9,
   "metadata": {},
   "outputs": [
    {
     "data": {
      "text/plain": [
       "(-1324.051558357416,\n",
       " -0.003573495515376811,\n",
       " 26005.15955129841,\n",
       " 0.07018557581587609)"
      ]
     },
     "execution_count": 9,
     "metadata": {},
     "output_type": "execute_result"
    }
   ],
   "source": [
    "# Check that the mean and std of the replicates is similar to the estimate\n",
    "t = reps[['estimate','reps_mean','stddev','reps_std']].copy()\n",
    "t['est_diff'] = t.estimate - t.reps_mean\n",
    "t['std_diff'] = t.stddev - t.reps_std\n",
    "t.est_diff.sum(), t.est_diff.sum()/len(t) , t.std_diff.sum(), t.std_diff.sum()/len(t)"
   ]
  },
  {
   "cell_type": "code",
   "execution_count": 10,
   "metadata": {},
   "outputs": [
    {
     "data": {
      "text/plain": [
       "(-1508, -0.0040699557378818954, -40180, -0.10844218935550037)"
      ]
     },
     "execution_count": 10,
     "metadata": {},
     "output_type": "execute_result"
    }
   ],
   "source": [
    "# Check again, after rounding. \n",
    "# Check that the mean and std of the replicates is similar to the estimate\n",
    "\n",
    "t = reps[['estimate','reps_mean','stddev','reps_std']].copy().round(0).astype(int)\n",
    "t['reps_mean'] = reps_only.mean(axis=1).round(0).astype(int)\n",
    "t['reps_std'] = reps_only.std(axis=1).round(0).astype(int)\n",
    "\n",
    "t['est_diff'] = t.estimate - t.reps_mean\n",
    "t['std_diff'] = t.stddev - t.reps_std\n",
    "t.est_diff.sum(), t.est_diff.sum()/len(t) , t.std_diff.sum(), t.std_diff.sum()/len(t)"
   ]
  },
  {
   "cell_type": "code",
   "execution_count": 11,
   "metadata": {},
   "outputs": [],
   "source": [
    "# Check that the rasp and reps are aligned\n",
    "m = rasp.join(reps)\n",
    "assert all(m.value_est == m.estimate)"
   ]
  }
 ],
 "metadata": {
  "kernelspec": {
   "display_name": "Python 3",
   "language": "python",
   "name": "python3"
  },
  "language_info": {
   "codemirror_mode": {
    "name": "ipython",
    "version": 3
   },
   "file_extension": ".py",
   "mimetype": "text/x-python",
   "name": "python",
   "nbconvert_exporter": "python",
   "pygments_lexer": "ipython3",
   "version": "3.6.0"
  }
 },
 "nbformat": 4,
 "nbformat_minor": 2
}
