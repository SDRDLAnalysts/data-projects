{
 "cells": [
  {
   "cell_type": "code",
   "execution_count": 1,
   "metadata": {
    "": true,
    "prolog": true
   },
   "outputs": [],
   "source": [
    "#2018-12-05 20:39:04.249461\n",
    "%load_ext metapack.jupyter.magic"
   ]
  },
  {
   "cell_type": "code",
   "execution_count": 2,
   "metadata": {
    "": true,
    "prolog": true
   },
   "outputs": [],
   "source": [
    "CACHE_DIR='/Users/eric/Library/Application Support/metapack/'\n",
    "RESOURCE_NAME='rasp_tracts_sd'\n",
    "RESOLVED_URL='file:///Users/eric/proj/virt-proj/data-project/sdrdl-data-projects/sandiegodata.org/sandiegodata.org-rasp/notebooks/RaspTracts.ipynb#df'\n",
    "WORKING_DIR='/Users/eric/proj/virt-proj/data-project/sdrdl-data-projects/sandiegodata.org/sandiegodata.org-rasp'\n",
    "METATAB_DOC='metapack+file:///Users/eric/proj/virt-proj/data-project/sdrdl-data-projects/sandiegodata.org/sandiegodata.org-rasp/metadata.csv'\n",
    "METATAB_WORKING_DIR='/Users/eric/proj/virt-proj/data-project/sdrdl-data-projects/sandiegodata.org/sandiegodata.org-rasp'\n",
    "METATAB_PACKAGE='metapack+file:///Users/eric/proj/virt-proj/data-project/sdrdl-data-projects/sandiegodata.org/sandiegodata.org-rasp/'\n",
    "name='rasp_tracts_sd'\n",
    "description='Population estimates by race, age, sex and poverty status, for San Diego county'\n",
    "url='notebooks/RaspTracts.ipynb#df'"
   ]
  },
  {
   "cell_type": "code",
   "execution_count": 3,
   "metadata": {
    "": true,
    "prolog": true
   },
   "outputs": [],
   "source": [
    "METAPACK_BUILDING=True"
   ]
  },
  {
   "cell_type": "code",
   "execution_count": 4,
   "metadata": {},
   "outputs": [],
   "source": [
    "import seaborn as sns\n",
    "import metapack as mp\n",
    "import pandas as pd\n",
    "import numpy as np\n",
    "import matplotlib.pyplot as plt\n",
    "from IPython.display import display \n",
    "from tqdm import tqdm_notebook\n",
    "\n",
    "%matplotlib inline\n",
    "sns.set_context('notebook')\n",
    "mp.jupyter.init()\n"
   ]
  },
  {
   "cell_type": "code",
   "execution_count": 5,
   "metadata": {},
   "outputs": [
    {
     "data": {
      "text/html": [
       "<h1>Race, Age, Sex and Poverty Estimates for San Diego County</h1>\n",
       "<p><code>sandiegodata.org-rasp-1</code> Last Update: 2018-12-05T23:35:46</p>\n",
       "<p><em>Tract level estimates for race, age, sex and poverty, from the ACS.</em></p>\n",
       "<h2>Contacts</h2>\n",
       "<ul>\n",
       "<li><strong>Wrangler</strong> <a href=\"mailto:eric@civicknowledge.com\">Eric Busboom</a>, <a href=\"http://civicknowledge.com\">Civic Knowledge</a></li>\n",
       "</ul>\n",
       "<h2>Resources</h2>\n",
       "<ul>\n",
       "<li><strong> <a href=\"notebooks/RaspTracts.ipynb#df\">rasp_tracts_sd</a></strong>. Population estimates by race, age, sex and poverty status, for San Diego county</li>\n",
       "</ul>\n",
       "<h2>References</h2>\n",
       "<ul>\n",
       "<li><strong><a href=\"census://2016/5/CA/140/B17001{iteration}\">pov_sex_age_template</a></strong>. Template for Table B17001: Poverty Status by Sex by Age</li>\n",
       "<li><strong><a href=\"data/race_iterations.csv\">race_iterations</a></strong>. Race iteration table suffixes</li>\n",
       "<li><strong><a href=\"data/sandiego_puma_tract.csv\">sandiego_puma_tract</a></strong>. Pumas and associated tracts, for San Diego County</li>\n",
       "<li><strong><a href=\"notebooks/Replicates.ipynb#reps\">rasp_tracts_sd_replicates</a></strong>. Replicates of the rasp_tracts_sd dataset</li>\n",
       "</ul>"
      ],
      "text/plain": [
       "<metapack.doc.MetapackDoc at 0x117fbbba8>"
      ]
     },
     "execution_count": 5,
     "metadata": {},
     "output_type": "execute_result"
    }
   ],
   "source": [
    "#pkg = mp.jupyter.open_package()\n",
    "pkg = mp.jupyter.open_source_package()\n",
    "pkg"
   ]
  },
  {
   "cell_type": "code",
   "execution_count": 6,
   "metadata": {},
   "outputs": [],
   "source": [
    "race_iterations = pkg.reference('race_iterations').dataframe().fillna('') # All race's empty code becomes NaN\n",
    "\n",
    "# List of PUMS in San Giego county, so we can restrict census data to just SD County\n",
    "sandiego_puma_tract =  pkg.reference('sandiego_puma_tract').dataframe()\n",
    "sd_pumas = list(sandiego_puma_tract.puma_geoid.unique())\n",
    "sd_tracts = list(sandiego_puma_tract.tract_geoid.unique())\n",
    "sd_puma_tracts = sd_pumas + sd_tracts"
   ]
  },
  {
   "cell_type": "code",
   "execution_count": 7,
   "metadata": {},
   "outputs": [
    {
     "data": {
      "text/plain": [
       "(3172544, -80812, 9788.614048985688)"
      ]
     },
     "execution_count": 7,
     "metadata": {},
     "output_type": "execute_result"
    }
   ],
   "source": [
    "# Get the sum of the population of all PUMS\n",
    "from rowgenerators import parse_app_url\n",
    "t = parse_app_url('census://2016/5/CA/795/B01003').dataframe()\n",
    "t = t[t.index.isin(sd_pumas)]\n",
    "sd_puma_pop = t.B01003_001.sum()\n",
    "\n",
    "# Get the controlled population for SD county. THe margin for this estimate is zero\n",
    "# because it's tied to administrative data. \n",
    "from rowgenerators import parse_app_url\n",
    "t = parse_app_url('census://2016/5/CA/50/B01003').dataframe()\n",
    "sd_controlled_pop = t.loc['05000US06073'].B01003_001 \n",
    "\n",
    "# Apparently, the PUMA population is also controlles. \n",
    "assert sd_puma_pop == sd_controlled_pop\n",
    "\n",
    "# However, the sums from the poverty status by sex by age table is not\n",
    "# controlled ( and would not expect it to be ) so it's a different number. \n",
    "#\n",
    "# Interestingly, the controlled population number is not with in the 90% margins of \n",
    "# the sum of the table esimates. \n",
    "from rowgenerators import parse_app_url\n",
    "t = parse_app_url('census://2016/5/CA/795/B17001').dataframe()\n",
    "t = t[t.index.isin(sd_pumas)]\n",
    "t.B17001_001.sum(), t.B17001_001.sum() - sd_controlled_pop, t.B17001_001.sum_m90()"
   ]
  },
  {
   "cell_type": "code",
   "execution_count": 8,
   "metadata": {},
   "outputs": [
    {
     "data": {
      "application/vnd.jupyter.widget-view+json": {
       "model_id": "68ae19039eae46599f8e6947b6c6c0c8",
       "version_major": 2,
       "version_minor": 0
      },
      "text/plain": [
       "HBox(children=(IntProgress(value=0, max=10), HTML(value='')))"
      ]
     },
     "metadata": {},
     "output_type": "display_data"
    },
    {
     "name": "stdout",
     "output_type": "stream",
     "text": [
      "\n"
     ]
    }
   ],
   "source": [
    "def make_col_map(t):\n",
    "    from collections import namedtuple\n",
    "\n",
    "    sex = None\n",
    "    age = None\n",
    "    pov = 'all'\n",
    "\n",
    "    def parse_age(v):\n",
    "        \n",
    "        if v is None:\n",
    "            return None\n",
    "        \n",
    "        elif v and 'year' in v:\n",
    "            parts = v.split()\n",
    "            \n",
    "            if parts[0] == '75':\n",
    "                return  pd.Interval(left=75, right=120, closed='both')\n",
    "            elif parts[0] == '5':\n",
    "                return  pd.Interval(left=5, right=5, closed='both')\n",
    "            elif parts[0] == '15':\n",
    "                return  pd.Interval(left=15, right=15, closed='both')\n",
    "            elif parts[0] == 'Under':\n",
    "                return  pd.Interval(left=0, right=4, closed='both')\n",
    "            elif len(parts) == 4:\n",
    "                return  pd.Interval(left=int(parts[0]), right=int(parts[2]), closed='both') \n",
    "            else:\n",
    "                raise ValueError(\"Can't parse age string: {}\".format(v))\n",
    "        else:\n",
    "            return  pd.Interval(left=0, right=120, closed='both') \n",
    "\n",
    "    col_map = {}\n",
    "\n",
    "    Dimensions = namedtuple('Dimensions', ['sex', 'age_range', 'pov'])\n",
    "\n",
    "    for e in t.table.columns:\n",
    "\n",
    "        sd = e.short_description\n",
    "        if '_m90' in e.unique_id:\n",
    "            continue\n",
    "        if sd:\n",
    "            if 'Male' in sd:\n",
    "                sex = 'male'\n",
    "            elif 'Female' in sd:\n",
    "                sex = 'female'\n",
    "            elif 'Total' in sd:\n",
    "                sex = 'both'\n",
    "            elif 'below poverty level' in sd:\n",
    "                pov = 'below'\n",
    "            elif 'above poverty level' in sd:\n",
    "                pov = 'above'\n",
    "            \n",
    "        col_map[e.unique_id] = Dimensions( sex, parse_age(sd), pov)\n",
    "\n",
    "    return col_map \n",
    "\n",
    "def get_raceeth(pkg, re_code, re_name):\n",
    "    \"\"\"Get a single race/ethnicity iteration, and process it so \n",
    "    it can be merged with others. \"\"\"\n",
    "    \n",
    "    pov_sex_age_url = pkg.reference('pov_sex_age_template').resolved_url\n",
    "    url = pov_sex_age_url.interpolate(context={'iteration':re_code.strip()})\n",
    "    \n",
    "    psa = url.dataframe()\n",
    "    psa = psa[psa.index.isin(sd_puma_tracts)]\n",
    "    \n",
    "    \n",
    "    \n",
    "    assert len(psa) > 0\n",
    "    \n",
    "    col_map= make_col_map(psa)\n",
    "    \n",
    "    t = psa.drop(columns=['STUSAB', 'COUNTY','NAME'])\n",
    "    t = t.stack().to_frame().reset_index()\n",
    "    t.columns = ['geoid','col_name','value']\n",
    "    \n",
    "    t['m_type'] = t.col_name.apply(lambda v: 'margin' if '_m90' in v else 'est')\n",
    "    t['col_name'] = t.col_name.apply(lambda v: v.replace('_m90',''))\n",
    "    t = t.set_index(['geoid','col_name','m_type']).unstack()\n",
    "    t['sex'] = [col_map[str(i[1]).replace('_m90','')].sex for i,r in t.iterrows() ]\n",
    "    t['raceeth'] = re_name\n",
    "    t['age_range'] = [col_map[str(i[1]).replace('_m90','')].age_range for i,r in t.iterrows() ]\n",
    "    t['pov'] = [col_map[str(i[1]).replace('_m90','')].pov for i,r in t.iterrows() ]\n",
    "\n",
    "    t.columns = [ '_'.join(e) if e[1] else e[0] for e in zip(*zip(*t.columns)) ]\n",
    "    \n",
    "    return t[['value_est',  'value_margin', 'sex', 'raceeth', 'age_range', 'pov']]\n",
    "\n",
    "def concat_race_eth(pkg):\n",
    "    \n",
    "\n",
    "    frames= []\n",
    "\n",
    "    tn = tqdm_notebook(list(race_iterations.itertuples()))\n",
    "    \n",
    "    for e in tn:\n",
    "        tn.set_description(e.raceeth)\n",
    "        frames.append(get_raceeth(pkg, e.code, e.raceeth))\n",
    " \n",
    "    return pd.concat(frames)\n",
    "\n",
    "df = concat_race_eth(pkg).reset_index()\n",
    "\n",
    "df['age_min'] = df.age_range.apply(lambda v: v.left)\n",
    "df['age_max'] = df.age_range.apply(lambda v: v.right)\n",
    "df['age_range'] = df.age_range.apply(lambda v: \"{:02d}-{:03d}\".format(v.left, v.right))\n",
    "df.head()\n",
    "# Select just the non-overlaping entries\n",
    "#df = df[(df.sex != 'both') & (df.pov != 'all')& (df.raceeth != 'white') & (~df.age_range.isnull())].copy()\n",
    "\n",
    "\n",
    "assert df.value_est.sum() > 3_100_000 # Ought to be close to CA population "
   ]
  },
  {
   "cell_type": "code",
   "execution_count": 9,
   "metadata": {},
   "outputs": [
    {
     "data": {
      "text/plain": [
       "3452837"
      ]
     },
     "execution_count": 9,
     "metadata": {},
     "output_type": "execute_result"
    }
   ],
   "source": [
    "df[(df.age_range.isnull())].head()\n",
    "df['overlapping'] = 0 \n",
    "df['overlapping'] = df.overlapping.where(df.pov != 'all', 1)\n",
    "df['overlapping'] = df.overlapping.where(df.sex != 'both', 1)\n",
    "df['overlapping'] = df.overlapping.where(df.age_range !=  '00-120', 1)\n",
    "df['overlapping'] = df.overlapping.where(df.raceeth != 'white', 1)\n",
    "df['overlapping'] = df.overlapping.where(df.raceeth != 'all', 1)\n",
    "df[df.overlapping == 0].value_est.sum()"
   ]
  },
  {
   "cell_type": "code",
   "execution_count": 10,
   "metadata": {},
   "outputs": [
    {
     "data": {
      "text/html": [
       "<div>\n",
       "<style scoped>\n",
       "    .dataframe tbody tr th:only-of-type {\n",
       "        vertical-align: middle;\n",
       "    }\n",
       "\n",
       "    .dataframe tbody tr th {\n",
       "        vertical-align: top;\n",
       "    }\n",
       "\n",
       "    .dataframe thead th {\n",
       "        text-align: right;\n",
       "    }\n",
       "</style>\n",
       "<table border=\"1\" class=\"dataframe\">\n",
       "  <thead>\n",
       "    <tr style=\"text-align: right;\">\n",
       "      <th></th>\n",
       "      <th>geoid</th>\n",
       "      <th>col_name</th>\n",
       "      <th>value_est</th>\n",
       "      <th>value_margin</th>\n",
       "      <th>sex</th>\n",
       "      <th>raceeth</th>\n",
       "      <th>age_range</th>\n",
       "      <th>pov</th>\n",
       "      <th>age_min</th>\n",
       "      <th>age_max</th>\n",
       "      <th>overlapping</th>\n",
       "    </tr>\n",
       "  </thead>\n",
       "  <tbody>\n",
       "    <tr>\n",
       "      <th>333468</th>\n",
       "      <td>14000US06073000100</td>\n",
       "      <td>B17001_001</td>\n",
       "      <td>2773</td>\n",
       "      <td>185</td>\n",
       "      <td>both</td>\n",
       "      <td>all</td>\n",
       "      <td>00-120</td>\n",
       "      <td>all</td>\n",
       "      <td>0</td>\n",
       "      <td>120</td>\n",
       "      <td>1</td>\n",
       "    </tr>\n",
       "    <tr>\n",
       "      <th>333527</th>\n",
       "      <td>14000US06073000201</td>\n",
       "      <td>B17001_001</td>\n",
       "      <td>2158</td>\n",
       "      <td>241</td>\n",
       "      <td>both</td>\n",
       "      <td>all</td>\n",
       "      <td>00-120</td>\n",
       "      <td>all</td>\n",
       "      <td>0</td>\n",
       "      <td>120</td>\n",
       "      <td>1</td>\n",
       "    </tr>\n",
       "    <tr>\n",
       "      <th>333586</th>\n",
       "      <td>14000US06073000202</td>\n",
       "      <td>B17001_001</td>\n",
       "      <td>4769</td>\n",
       "      <td>414</td>\n",
       "      <td>both</td>\n",
       "      <td>all</td>\n",
       "      <td>00-120</td>\n",
       "      <td>all</td>\n",
       "      <td>0</td>\n",
       "      <td>120</td>\n",
       "      <td>1</td>\n",
       "    </tr>\n",
       "    <tr>\n",
       "      <th>333645</th>\n",
       "      <td>14000US06073000300</td>\n",
       "      <td>B17001_001</td>\n",
       "      <td>4790</td>\n",
       "      <td>374</td>\n",
       "      <td>both</td>\n",
       "      <td>all</td>\n",
       "      <td>00-120</td>\n",
       "      <td>all</td>\n",
       "      <td>0</td>\n",
       "      <td>120</td>\n",
       "      <td>1</td>\n",
       "    </tr>\n",
       "    <tr>\n",
       "      <th>333704</th>\n",
       "      <td>14000US06073000400</td>\n",
       "      <td>B17001_001</td>\n",
       "      <td>3629</td>\n",
       "      <td>287</td>\n",
       "      <td>both</td>\n",
       "      <td>all</td>\n",
       "      <td>00-120</td>\n",
       "      <td>all</td>\n",
       "      <td>0</td>\n",
       "      <td>120</td>\n",
       "      <td>1</td>\n",
       "    </tr>\n",
       "  </tbody>\n",
       "</table>\n",
       "</div>"
      ],
      "text/plain": [
       "                     geoid    col_name  value_est  value_margin   sex raceeth  \\\n",
       "333468  14000US06073000100  B17001_001       2773           185  both     all   \n",
       "333527  14000US06073000201  B17001_001       2158           241  both     all   \n",
       "333586  14000US06073000202  B17001_001       4769           414  both     all   \n",
       "333645  14000US06073000300  B17001_001       4790           374  both     all   \n",
       "333704  14000US06073000400  B17001_001       3629           287  both     all   \n",
       "\n",
       "       age_range  pov  age_min  age_max  overlapping  \n",
       "333468    00-120  all        0      120            1  \n",
       "333527    00-120  all        0      120            1  \n",
       "333586    00-120  all        0      120            1  \n",
       "333645    00-120  all        0      120            1  \n",
       "333704    00-120  all        0      120            1  "
      ]
     },
     "execution_count": 10,
     "metadata": {},
     "output_type": "execute_result"
    }
   ],
   "source": [
    "df[(df.pov == 'all') & (df.raceeth=='all')].head()"
   ]
  },
  {
   "cell_type": "code",
   "execution_count": 11,
   "metadata": {},
   "outputs": [
    {
     "data": {
      "text/plain": [
       "3172544"
      ]
     },
     "execution_count": 11,
     "metadata": {},
     "output_type": "execute_result"
    }
   ],
   "source": [
    "df[df.col_name == 'B17001_001'].value_est.sum()"
   ]
  },
  {
   "cell_type": "code",
   "execution_count": 12,
   "metadata": {
    "epilog": true,
    "mt_dataframes": true
   },
   "outputs": [
    {
     "name": "stdout",
     "output_type": "stream",
     "text": [
      "{\n",
      "    \"df_name\": \"df\",\n",
      "    \"path\": \"/Users/eric/Library/Application Support/metapack/_materialized_data/sandiegodata.org-rasp-1/df.csv\"\n",
      "}\n"
     ]
    }
   ],
   "source": [
    "%mt_materialize df '/Users/eric/Library/Application Support/metapack/_materialized_data/sandiegodata.org-rasp-1' "
   ]
  },
  {
   "cell_type": "code",
   "execution_count": 13,
   "metadata": {
    "epilog": true,
    "mt_materialize": true
   },
   "outputs": [
    {
     "name": "stdout",
     "output_type": "stream",
     "text": [
      "[]\n"
     ]
    }
   ],
   "source": [
    "\n",
    "%mt_materialize_all '/Users/eric/Library/Application Support/metapack/_materialized_data/sandiegodata.org-rasp-1'\n"
   ]
  },
  {
   "cell_type": "code",
   "execution_count": 14,
   "metadata": {
    "epilog": true,
    "mt_final_metatab": true
   },
   "outputs": [
    {
     "name": "stdout",
     "output_type": "stream",
     "text": [
      "Declare: metatab-latest\n",
      "Section: Resources\n"
     ]
    }
   ],
   "source": [
    "\n",
    "%mt_show_metatab\n",
    "\n"
   ]
  },
  {
   "cell_type": "code",
   "execution_count": 15,
   "metadata": {
    "epilog": true,
    "mt_show_libdirs": true
   },
   "outputs": [
    {
     "name": "stdout",
     "output_type": "stream",
     "text": [
      "[]\n"
     ]
    }
   ],
   "source": [
    "\n",
    "%mt_show_libdirs\n",
    "\n"
   ]
  }
 ],
 "metadata": {
  "kernelspec": {
   "display_name": "Python 3",
   "language": "python",
   "name": "python3"
  },
  "language_info": {
   "codemirror_mode": {
    "name": "ipython",
    "version": 3
   },
   "file_extension": ".py",
   "mimetype": "text/x-python",
   "name": "python",
   "nbconvert_exporter": "python",
   "pygments_lexer": "ipython3",
   "version": "3.6.0"
  }
 },
 "nbformat": 4,
 "nbformat_minor": 2
}
