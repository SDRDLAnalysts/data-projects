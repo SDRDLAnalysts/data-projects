{
 "cells": [
  {
   "cell_type": "code",
   "execution_count": 1,
   "metadata": {},
   "outputs": [],
   "source": [
    "import seaborn as sns\n",
    "import metapack as mp\n",
    "import pandas as pd\n",
    "import numpy as np\n",
    "import matplotlib.pyplot as plt\n",
    "from IPython.display import display \n",
    "\n",
    "%matplotlib inline\n",
    "sns.set_context('notebook')\n",
    "mp.jupyter.init()\n"
   ]
  },
  {
   "cell_type": "code",
   "execution_count": 2,
   "metadata": {},
   "outputs": [
    {
     "data": {
      "text/html": [
       "<h1>Small Area Estimates for Diabetes in San Diego</h1>\n",
       "<p><code>sandiegodata.org-diabetes_sae-1</code> Last Update: 2018-12-05T23:54:30</p>\n",
       "<p>__</p>\n",
       "<h2>Contacts</h2>\n",
       "<ul>\n",
       "<li><strong>Wrangler</strong> <a href=\"mailto:eric@civicknowledge.com\">Eric Busboom</a>, <a href=\"http://civicknowledge.com\">Civic Knowledge</a></li>\n",
       "</ul>\n",
       "<h2>References</h2>\n",
       "<ul>\n",
       "<li><strong><a href=\"index:healthpolicy.ucla.edu-chis-adult-1#rasp_diabetes_reduced\">rasp_diabetes</a></strong>. Diabetes probabilities, by age, race, sex and poverty status</li>\n",
       "<li><strong><a href=\"index:sandiegodata.org-rasp-1#rasp_tracts_sd\">rasp_tracts</a></strong>. Race, age, sex and poverty status of population by tract in San Diego County</li>\n",
       "</ul>"
      ],
      "text/plain": [
       "<metapack.doc.MetapackDoc at 0x119a66630>"
      ]
     },
     "execution_count": 2,
     "metadata": {},
     "output_type": "execute_result"
    }
   ],
   "source": [
    "pkg = mp.jupyter.open_package()\n",
    "#pkg = mp.jupyter.open_source_package()\n",
    "pkg"
   ]
  },
  {
   "cell_type": "code",
   "execution_count": 3,
   "metadata": {},
   "outputs": [],
   "source": [
    "dia = pkg.reference('rasp_diabetes').dataframe()\n",
    "tracts = pkg.reference('rasp_tracts').dataframe()\n",
    "\n",
    "tracts['raceeth'] = tracts.raceeth.replace({'aian':'other', 'many': 'other','nhopi':'other'})"
   ]
  },
  {
   "cell_type": "code",
   "execution_count": 4,
   "metadata": {},
   "outputs": [
    {
     "data": {
      "text/plain": [
       "hisp       28\n",
       "other      28\n",
       "black      28\n",
       "asian      28\n",
       "nhwhite    28\n",
       "Name: raceeth, dtype: int64"
      ]
     },
     "execution_count": 4,
     "metadata": {},
     "output_type": "execute_result"
    }
   ],
   "source": [
    "dia.raceeth.value_counts()"
   ]
  },
  {
   "cell_type": "code",
   "execution_count": 5,
   "metadata": {},
   "outputs": [
    {
     "data": {
      "text/plain": [
       "other      148208\n",
       "nhwhite     37052\n",
       "all         37052\n",
       "black       37052\n",
       "asian       37052\n",
       "hisp        37052\n",
       "white       37052\n",
       "Name: raceeth, dtype: int64"
      ]
     },
     "execution_count": 5,
     "metadata": {},
     "output_type": "execute_result"
    }
   ],
   "source": [
    "tracts.raceeth.value_counts()"
   ]
  },
  {
   "cell_type": "code",
   "execution_count": 6,
   "metadata": {},
   "outputs": [],
   "source": [
    "dia18 = dia[dia.age_min >= 18]\n",
    "tracts18 = tracts[tracts.age_min >= 18]"
   ]
  },
  {
   "cell_type": "code",
   "execution_count": 7,
   "metadata": {},
   "outputs": [
    {
     "data": {
      "text/html": [
       "<div>\n",
       "<style scoped>\n",
       "    .dataframe tbody tr th:only-of-type {\n",
       "        vertical-align: middle;\n",
       "    }\n",
       "\n",
       "    .dataframe tbody tr th {\n",
       "        vertical-align: top;\n",
       "    }\n",
       "\n",
       "    .dataframe thead th {\n",
       "        text-align: right;\n",
       "    }\n",
       "</style>\n",
       "<table border=\"1\" class=\"dataframe\">\n",
       "  <thead>\n",
       "    <tr style=\"text-align: right;\">\n",
       "      <th></th>\n",
       "      <th>raceeth</th>\n",
       "      <th>age_range</th>\n",
       "      <th>sex</th>\n",
       "      <th>pov</th>\n",
       "      <th>prob</th>\n",
       "    </tr>\n",
       "  </thead>\n",
       "  <tbody>\n",
       "    <tr>\n",
       "      <th>0</th>\n",
       "      <td>nhwhite</td>\n",
       "      <td>18-024</td>\n",
       "      <td>male</td>\n",
       "      <td>below</td>\n",
       "      <td>0.042474</td>\n",
       "    </tr>\n",
       "    <tr>\n",
       "      <th>1</th>\n",
       "      <td>asian</td>\n",
       "      <td>18-024</td>\n",
       "      <td>male</td>\n",
       "      <td>below</td>\n",
       "      <td>0.029804</td>\n",
       "    </tr>\n",
       "    <tr>\n",
       "      <th>2</th>\n",
       "      <td>black</td>\n",
       "      <td>18-024</td>\n",
       "      <td>male</td>\n",
       "      <td>below</td>\n",
       "      <td>0.066237</td>\n",
       "    </tr>\n",
       "    <tr>\n",
       "      <th>3</th>\n",
       "      <td>hisp</td>\n",
       "      <td>18-024</td>\n",
       "      <td>male</td>\n",
       "      <td>below</td>\n",
       "      <td>0.072074</td>\n",
       "    </tr>\n",
       "    <tr>\n",
       "      <th>4</th>\n",
       "      <td>other</td>\n",
       "      <td>18-024</td>\n",
       "      <td>male</td>\n",
       "      <td>below</td>\n",
       "      <td>0.054269</td>\n",
       "    </tr>\n",
       "  </tbody>\n",
       "</table>\n",
       "</div>"
      ],
      "text/plain": [
       "   raceeth age_range   sex    pov      prob\n",
       "0  nhwhite    18-024  male  below  0.042474\n",
       "1    asian    18-024  male  below  0.029804\n",
       "2    black    18-024  male  below  0.066237\n",
       "3     hisp    18-024  male  below  0.072074\n",
       "4    other    18-024  male  below  0.054269"
      ]
     },
     "execution_count": 7,
     "metadata": {},
     "output_type": "execute_result"
    }
   ],
   "source": [
    "\n",
    "dia_merge = pd.DataFrame(\n",
    "{\n",
    "    'raceeth': dia18.raceeth,\n",
    "    'age_range': dia18.apply(lambda r: '{:02d}-{:03d}'.format(r.age_min, r.age_max), axis=1),\n",
    "    'sex': dia18.sex.apply(lambda v: 'male' if v == 1 else 'female' ),\n",
    "    'pov':  dia18.pov.apply(lambda v: 'below' if v == 1 else 'above' ),\n",
    "    'prob': dia18.prob\n",
    "})\n",
    "\n",
    "dia_merge.head()"
   ]
  },
  {
   "cell_type": "code",
   "execution_count": null,
   "metadata": {},
   "outputs": [],
   "source": []
  },
  {
   "cell_type": "code",
   "execution_count": 8,
   "metadata": {},
   "outputs": [
    {
     "data": {
      "text/html": [
       "<div>\n",
       "<style scoped>\n",
       "    .dataframe tbody tr th:only-of-type {\n",
       "        vertical-align: middle;\n",
       "    }\n",
       "\n",
       "    .dataframe tbody tr th {\n",
       "        vertical-align: top;\n",
       "    }\n",
       "\n",
       "    .dataframe thead th {\n",
       "        text-align: right;\n",
       "    }\n",
       "</style>\n",
       "<table border=\"1\" class=\"dataframe\">\n",
       "  <thead>\n",
       "    <tr style=\"text-align: right;\">\n",
       "      <th></th>\n",
       "      <th>geoid</th>\n",
       "      <th>col_name</th>\n",
       "      <th>value_est</th>\n",
       "      <th>value_margin</th>\n",
       "      <th>sex</th>\n",
       "      <th>raceeth</th>\n",
       "      <th>age_range</th>\n",
       "      <th>pov</th>\n",
       "      <th>age_min</th>\n",
       "      <th>age_max</th>\n",
       "      <th>overlapping</th>\n",
       "    </tr>\n",
       "  </thead>\n",
       "  <tbody>\n",
       "    <tr>\n",
       "      <th>37061</th>\n",
       "      <td>14000US06073000100</td>\n",
       "      <td>B17001B_010</td>\n",
       "      <td>0</td>\n",
       "      <td>12</td>\n",
       "      <td>male</td>\n",
       "      <td>black</td>\n",
       "      <td>18-024</td>\n",
       "      <td>below</td>\n",
       "      <td>18</td>\n",
       "      <td>24</td>\n",
       "      <td>0</td>\n",
       "    </tr>\n",
       "    <tr>\n",
       "      <th>37062</th>\n",
       "      <td>14000US06073000100</td>\n",
       "      <td>B17001B_011</td>\n",
       "      <td>0</td>\n",
       "      <td>12</td>\n",
       "      <td>male</td>\n",
       "      <td>black</td>\n",
       "      <td>25-034</td>\n",
       "      <td>below</td>\n",
       "      <td>25</td>\n",
       "      <td>34</td>\n",
       "      <td>0</td>\n",
       "    </tr>\n",
       "    <tr>\n",
       "      <th>37063</th>\n",
       "      <td>14000US06073000100</td>\n",
       "      <td>B17001B_012</td>\n",
       "      <td>0</td>\n",
       "      <td>12</td>\n",
       "      <td>male</td>\n",
       "      <td>black</td>\n",
       "      <td>35-044</td>\n",
       "      <td>below</td>\n",
       "      <td>35</td>\n",
       "      <td>44</td>\n",
       "      <td>0</td>\n",
       "    </tr>\n",
       "    <tr>\n",
       "      <th>37064</th>\n",
       "      <td>14000US06073000100</td>\n",
       "      <td>B17001B_013</td>\n",
       "      <td>0</td>\n",
       "      <td>12</td>\n",
       "      <td>male</td>\n",
       "      <td>black</td>\n",
       "      <td>45-054</td>\n",
       "      <td>below</td>\n",
       "      <td>45</td>\n",
       "      <td>54</td>\n",
       "      <td>0</td>\n",
       "    </tr>\n",
       "    <tr>\n",
       "      <th>37065</th>\n",
       "      <td>14000US06073000100</td>\n",
       "      <td>B17001B_014</td>\n",
       "      <td>0</td>\n",
       "      <td>12</td>\n",
       "      <td>male</td>\n",
       "      <td>black</td>\n",
       "      <td>55-064</td>\n",
       "      <td>below</td>\n",
       "      <td>55</td>\n",
       "      <td>64</td>\n",
       "      <td>0</td>\n",
       "    </tr>\n",
       "  </tbody>\n",
       "</table>\n",
       "</div>"
      ],
      "text/plain": [
       "                    geoid     col_name  value_est  value_margin   sex raceeth  \\\n",
       "37061  14000US06073000100  B17001B_010          0            12  male   black   \n",
       "37062  14000US06073000100  B17001B_011          0            12  male   black   \n",
       "37063  14000US06073000100  B17001B_012          0            12  male   black   \n",
       "37064  14000US06073000100  B17001B_013          0            12  male   black   \n",
       "37065  14000US06073000100  B17001B_014          0            12  male   black   \n",
       "\n",
       "      age_range    pov  age_min  age_max  overlapping  \n",
       "37061    18-024  below       18       24            0  \n",
       "37062    25-034  below       25       34            0  \n",
       "37063    35-044  below       35       44            0  \n",
       "37064    45-054  below       45       54            0  \n",
       "37065    55-064  below       55       64            0  "
      ]
     },
     "execution_count": 8,
     "metadata": {},
     "output_type": "execute_result"
    }
   ],
   "source": [
    "#\n",
    "tracts_merge = tracts18[tracts18.raceeth != 'white'].copy()\n",
    "tracts_merge.head()\n"
   ]
  },
  {
   "cell_type": "code",
   "execution_count": 9,
   "metadata": {},
   "outputs": [
    {
     "data": {
      "text/html": [
       "<div>\n",
       "<style scoped>\n",
       "    .dataframe tbody tr th:only-of-type {\n",
       "        vertical-align: middle;\n",
       "    }\n",
       "\n",
       "    .dataframe tbody tr th {\n",
       "        vertical-align: top;\n",
       "    }\n",
       "\n",
       "    .dataframe thead th {\n",
       "        text-align: right;\n",
       "    }\n",
       "</style>\n",
       "<table border=\"1\" class=\"dataframe\">\n",
       "  <thead>\n",
       "    <tr style=\"text-align: right;\">\n",
       "      <th></th>\n",
       "      <th>geoid</th>\n",
       "      <th>col_name</th>\n",
       "      <th>value_est</th>\n",
       "      <th>value_margin</th>\n",
       "      <th>sex</th>\n",
       "      <th>raceeth</th>\n",
       "      <th>age_range</th>\n",
       "      <th>pov</th>\n",
       "      <th>age_min</th>\n",
       "      <th>age_max</th>\n",
       "      <th>overlapping</th>\n",
       "    </tr>\n",
       "  </thead>\n",
       "  <tbody>\n",
       "    <tr>\n",
       "      <th>37061</th>\n",
       "      <td>14000US06073000100</td>\n",
       "      <td>B17001B_010</td>\n",
       "      <td>0</td>\n",
       "      <td>12</td>\n",
       "      <td>male</td>\n",
       "      <td>black</td>\n",
       "      <td>18-024</td>\n",
       "      <td>below</td>\n",
       "      <td>18</td>\n",
       "      <td>24</td>\n",
       "      <td>0</td>\n",
       "    </tr>\n",
       "    <tr>\n",
       "      <th>37062</th>\n",
       "      <td>14000US06073000100</td>\n",
       "      <td>B17001B_011</td>\n",
       "      <td>0</td>\n",
       "      <td>12</td>\n",
       "      <td>male</td>\n",
       "      <td>black</td>\n",
       "      <td>25-034</td>\n",
       "      <td>below</td>\n",
       "      <td>25</td>\n",
       "      <td>34</td>\n",
       "      <td>0</td>\n",
       "    </tr>\n",
       "    <tr>\n",
       "      <th>37063</th>\n",
       "      <td>14000US06073000100</td>\n",
       "      <td>B17001B_012</td>\n",
       "      <td>0</td>\n",
       "      <td>12</td>\n",
       "      <td>male</td>\n",
       "      <td>black</td>\n",
       "      <td>35-044</td>\n",
       "      <td>below</td>\n",
       "      <td>35</td>\n",
       "      <td>44</td>\n",
       "      <td>0</td>\n",
       "    </tr>\n",
       "    <tr>\n",
       "      <th>37064</th>\n",
       "      <td>14000US06073000100</td>\n",
       "      <td>B17001B_013</td>\n",
       "      <td>0</td>\n",
       "      <td>12</td>\n",
       "      <td>male</td>\n",
       "      <td>black</td>\n",
       "      <td>45-054</td>\n",
       "      <td>below</td>\n",
       "      <td>45</td>\n",
       "      <td>54</td>\n",
       "      <td>0</td>\n",
       "    </tr>\n",
       "    <tr>\n",
       "      <th>37065</th>\n",
       "      <td>14000US06073000100</td>\n",
       "      <td>B17001B_014</td>\n",
       "      <td>0</td>\n",
       "      <td>12</td>\n",
       "      <td>male</td>\n",
       "      <td>black</td>\n",
       "      <td>55-064</td>\n",
       "      <td>below</td>\n",
       "      <td>55</td>\n",
       "      <td>64</td>\n",
       "      <td>0</td>\n",
       "    </tr>\n",
       "  </tbody>\n",
       "</table>\n",
       "</div>"
      ],
      "text/plain": [
       "                    geoid     col_name  value_est  value_margin   sex raceeth  \\\n",
       "37061  14000US06073000100  B17001B_010          0            12  male   black   \n",
       "37062  14000US06073000100  B17001B_011          0            12  male   black   \n",
       "37063  14000US06073000100  B17001B_012          0            12  male   black   \n",
       "37064  14000US06073000100  B17001B_013          0            12  male   black   \n",
       "37065  14000US06073000100  B17001B_014          0            12  male   black   \n",
       "\n",
       "      age_range    pov  age_min  age_max  overlapping  \n",
       "37061    18-024  below       18       24            0  \n",
       "37062    25-034  below       25       34            0  \n",
       "37063    35-044  below       35       44            0  \n",
       "37064    45-054  below       45       54            0  \n",
       "37065    55-064  below       55       64            0  "
      ]
     },
     "execution_count": 9,
     "metadata": {},
     "output_type": "execute_result"
    }
   ],
   "source": [
    "tracts_merge.head()"
   ]
  },
  {
   "cell_type": "code",
   "execution_count": 10,
   "metadata": {},
   "outputs": [
    {
     "data": {
      "text/plain": [
       "3452837"
      ]
     },
     "execution_count": 10,
     "metadata": {},
     "output_type": "execute_result"
    }
   ],
   "source": [
    "tracts[tracts.overlapping == 0].value_est.sum()"
   ]
  },
  {
   "cell_type": "code",
   "execution_count": 11,
   "metadata": {},
   "outputs": [],
   "source": [
    "m = tracts_merge.merge(dia_merge, on=['raceeth','age_range','sex','pov'], how='left')\n"
   ]
  },
  {
   "cell_type": "code",
   "execution_count": 12,
   "metadata": {},
   "outputs": [
    {
     "data": {
      "text/plain": [
       "(2643923, 33854, 0.012970538326764541)"
      ]
     },
     "execution_count": 12,
     "metadata": {},
     "output_type": "execute_result"
    }
   ],
   "source": [
    "# For 2017 data, this should be about 3337685 ( whole pop) * 78.2%% (% 18 or older ) == 2610069\n",
    "s = m[m.overlapping== 0].value_est.sum()\n",
    "s, s-2610069, (s-2610069)/2610069"
   ]
  },
  {
   "cell_type": "code",
   "execution_count": 32,
   "metadata": {},
   "outputs": [
    {
     "data": {
      "text/plain": [
       "(294786.61927791283,\n",
       " 0.11149591696804817,\n",
       " 240804.1503975769,\n",
       " 0.09107835228090111)"
      ]
     },
     "execution_count": 32,
     "metadata": {},
     "output_type": "execute_result"
    }
   ],
   "source": [
    "t = m[m.overlapping==0].copy() \n",
    "\n",
    "adjust = 0.091/0.1114\n",
    "t['adj_prob'] = t.prob * adjust\n",
    "\n",
    "\n",
    "d =(t.prob*t.value_est).sum()\n",
    "d2 = (t.adj_prob*t.value_est).sum()\n",
    "d, d/s, d2, d2/s"
   ]
  },
  {
   "cell_type": "code",
   "execution_count": 34,
   "metadata": {},
   "outputs": [
    {
     "data": {
      "text/plain": [
       "(15136.370366683024, 0.0057249664103996315, 0.0046765883603803095)"
      ]
     },
     "execution_count": 34,
     "metadata": {},
     "output_type": "execute_result"
    }
   ],
   "source": [
    "t = m[(m.overlapping==0) & (m.raceeth=='black')].copy() \n",
    "t['adj_prob'] = t.prob * adjust\n",
    "\n",
    "d =(t.prob*t.value_est).sum()\n",
    "d2 = (t.adj_prob*t.value_est).sum()\n",
    "d, d/s, d2/s"
   ]
  },
  {
   "cell_type": "code",
   "execution_count": null,
   "metadata": {},
   "outputs": [],
   "source": []
  }
 ],
 "metadata": {
  "kernelspec": {
   "display_name": "Python 3",
   "language": "python",
   "name": "python3"
  },
  "language_info": {
   "codemirror_mode": {
    "name": "ipython",
    "version": 3
   },
   "file_extension": ".py",
   "mimetype": "text/x-python",
   "name": "python",
   "nbconvert_exporter": "python",
   "pygments_lexer": "ipython3",
   "version": "3.6.0"
  }
 },
 "nbformat": 4,
 "nbformat_minor": 2
}
