{
 "cells": [
  {
   "cell_type": "code",
   "execution_count": 1,
   "metadata": {},
   "outputs": [],
   "source": [
    "import seaborn as sns\n",
    "import metapack as mp\n",
    "import pandas as pd\n",
    "import numpy as np\n",
    "import matplotlib.pyplot as plt\n",
    "from IPython.display import display \n",
    "\n",
    "%matplotlib inline\n",
    "sns.set_context('notebook')\n",
    "mp.jupyter.init()\n"
   ]
  },
  {
   "cell_type": "code",
   "execution_count": 2,
   "metadata": {},
   "outputs": [
    {
     "data": {
      "text/html": [
       "<h1>Small Area Estimates for Diabetes in San Diego</h1>\n",
       "<p><code>sandiegodata.org-diabetes_sae-1</code> Last Update: 2018-12-05T23:54:30</p>\n",
       "<p>__</p>\n",
       "<h2>Contacts</h2>\n",
       "<ul>\n",
       "<li><strong>Wrangler</strong> <a href=\"mailto:eric@civicknowledge.com\">Eric Busboom</a>, <a href=\"http://civicknowledge.com\">Civic Knowledge</a></li>\n",
       "</ul>\n",
       "<h2>References</h2>\n",
       "<ul>\n",
       "<li><strong><a href=\"index:healthpolicy.ucla.edu-chis-adult-1#rasp_diabetes\">rasp_diabetes</a></strong>. Diabetes probabilities, by age, race, sex and poverty status</li>\n",
       "<li><strong><a href=\"index:sandiegodata.org-rasp-1#rasp_tracts_sd\">rasp_tracts</a></strong>. Race, age, sex and poverty status of population by tract in San Diego County</li>\n",
       "</ul>"
      ],
      "text/plain": [
       "<metapack.doc.MetapackDoc at 0x11d489470>"
      ]
     },
     "execution_count": 2,
     "metadata": {},
     "output_type": "execute_result"
    }
   ],
   "source": [
    "#pkg = mp.jupyter.open_package()\n",
    "pkg = mp.jupyter.open_source_package()\n",
    "pkg"
   ]
  },
  {
   "cell_type": "code",
   "execution_count": 3,
   "metadata": {},
   "outputs": [],
   "source": [
    "dia = pkg.reference('rasp_diabetes').dataframe()\n",
    "tracts = pkg.reference('rasp_tracts').dataframe()\n",
    "\n",
    "tracts['raceeth'] = tracts.raceeth.replace({'aian':'other', 'many': 'other','nhopi':'other'})\n"
   ]
  },
  {
   "cell_type": "code",
   "execution_count": 4,
   "metadata": {},
   "outputs": [
    {
     "data": {
      "text/plain": [
       "(29309514, 2643923)"
      ]
     },
     "execution_count": 4,
     "metadata": {},
     "output_type": "execute_result"
    }
   ],
   "source": [
    "dia_adult_pop = dia.group_pop.sum() # Adult pop of California, at least according to this dataset\n",
    "\n",
    "# The Census ACS has a different idea about what the adult pop of SD County is. \n",
    "tracts_adult_pop = tracts[(tracts.age_min >= 18) & (tracts.overlapping == 0)].value_est.sum()\n",
    "\n",
    "dia_adult_pop, tracts_adult_pop\n"
   ]
  },
  {
   "cell_type": "code",
   "execution_count": 5,
   "metadata": {},
   "outputs": [
    {
     "data": {
      "text/plain": [
       "black      28\n",
       "other      28\n",
       "asian      28\n",
       "hisp       28\n",
       "nhwhite    28\n",
       "Name: raceeth, dtype: int64"
      ]
     },
     "execution_count": 5,
     "metadata": {},
     "output_type": "execute_result"
    }
   ],
   "source": [
    "dia.raceeth.value_counts()"
   ]
  },
  {
   "cell_type": "code",
   "execution_count": 6,
   "metadata": {},
   "outputs": [
    {
     "data": {
      "text/plain": [
       "other      148208\n",
       "black       37052\n",
       "hisp        37052\n",
       "all         37052\n",
       "asian       37052\n",
       "white       37052\n",
       "nhwhite     37052\n",
       "Name: raceeth, dtype: int64"
      ]
     },
     "execution_count": 6,
     "metadata": {},
     "output_type": "execute_result"
    }
   ],
   "source": [
    "tracts.raceeth.value_counts()"
   ]
  },
  {
   "cell_type": "code",
   "execution_count": 7,
   "metadata": {},
   "outputs": [
    {
     "data": {
      "text/html": [
       "<div>\n",
       "<style scoped>\n",
       "    .dataframe tbody tr th:only-of-type {\n",
       "        vertical-align: middle;\n",
       "    }\n",
       "\n",
       "    .dataframe tbody tr th {\n",
       "        vertical-align: top;\n",
       "    }\n",
       "\n",
       "    .dataframe thead th {\n",
       "        text-align: right;\n",
       "    }\n",
       "</style>\n",
       "<table border=\"1\" class=\"dataframe\">\n",
       "  <thead>\n",
       "    <tr style=\"text-align: right;\">\n",
       "      <th></th>\n",
       "      <th>geoid</th>\n",
       "      <th>col_name</th>\n",
       "      <th>value_est</th>\n",
       "      <th>value_margin</th>\n",
       "      <th>sex</th>\n",
       "      <th>raceeth</th>\n",
       "      <th>age_range</th>\n",
       "      <th>pov</th>\n",
       "      <th>age_min</th>\n",
       "      <th>age_max</th>\n",
       "      <th>overlapping</th>\n",
       "    </tr>\n",
       "  </thead>\n",
       "  <tbody>\n",
       "    <tr>\n",
       "      <th>0</th>\n",
       "      <td>14000US06073000100</td>\n",
       "      <td>B17001A_001</td>\n",
       "      <td>2455</td>\n",
       "      <td>214</td>\n",
       "      <td>both</td>\n",
       "      <td>white</td>\n",
       "      <td>00-120</td>\n",
       "      <td>all</td>\n",
       "      <td>0</td>\n",
       "      <td>120</td>\n",
       "      <td>1</td>\n",
       "    </tr>\n",
       "    <tr>\n",
       "      <th>1</th>\n",
       "      <td>14000US06073000100</td>\n",
       "      <td>B17001A_002</td>\n",
       "      <td>102</td>\n",
       "      <td>70</td>\n",
       "      <td>both</td>\n",
       "      <td>white</td>\n",
       "      <td>00-120</td>\n",
       "      <td>below</td>\n",
       "      <td>0</td>\n",
       "      <td>120</td>\n",
       "      <td>1</td>\n",
       "    </tr>\n",
       "    <tr>\n",
       "      <th>2</th>\n",
       "      <td>14000US06073000100</td>\n",
       "      <td>B17001A_003</td>\n",
       "      <td>12</td>\n",
       "      <td>16</td>\n",
       "      <td>male</td>\n",
       "      <td>white</td>\n",
       "      <td>00-120</td>\n",
       "      <td>below</td>\n",
       "      <td>0</td>\n",
       "      <td>120</td>\n",
       "      <td>1</td>\n",
       "    </tr>\n",
       "    <tr>\n",
       "      <th>3</th>\n",
       "      <td>14000US06073000100</td>\n",
       "      <td>B17001A_004</td>\n",
       "      <td>0</td>\n",
       "      <td>12</td>\n",
       "      <td>male</td>\n",
       "      <td>white</td>\n",
       "      <td>00-004</td>\n",
       "      <td>below</td>\n",
       "      <td>0</td>\n",
       "      <td>4</td>\n",
       "      <td>1</td>\n",
       "    </tr>\n",
       "    <tr>\n",
       "      <th>4</th>\n",
       "      <td>14000US06073000100</td>\n",
       "      <td>B17001A_005</td>\n",
       "      <td>0</td>\n",
       "      <td>12</td>\n",
       "      <td>male</td>\n",
       "      <td>white</td>\n",
       "      <td>05-005</td>\n",
       "      <td>below</td>\n",
       "      <td>5</td>\n",
       "      <td>5</td>\n",
       "      <td>1</td>\n",
       "    </tr>\n",
       "  </tbody>\n",
       "</table>\n",
       "</div>"
      ],
      "text/plain": [
       "                geoid     col_name  value_est  value_margin   sex raceeth  \\\n",
       "0  14000US06073000100  B17001A_001       2455           214  both   white   \n",
       "1  14000US06073000100  B17001A_002        102            70  both   white   \n",
       "2  14000US06073000100  B17001A_003         12            16  male   white   \n",
       "3  14000US06073000100  B17001A_004          0            12  male   white   \n",
       "4  14000US06073000100  B17001A_005          0            12  male   white   \n",
       "\n",
       "  age_range    pov  age_min  age_max  overlapping  \n",
       "0    00-120    all        0      120            1  \n",
       "1    00-120  below        0      120            1  \n",
       "2    00-120  below        0      120            1  \n",
       "3    00-004  below        0        4            1  \n",
       "4    05-005  below        5        5            1  "
      ]
     },
     "execution_count": 7,
     "metadata": {},
     "output_type": "execute_result"
    }
   ],
   "source": [
    "tracts.head()"
   ]
  },
  {
   "cell_type": "code",
   "execution_count": 8,
   "metadata": {},
   "outputs": [
    {
     "data": {
      "text/html": [
       "<div>\n",
       "<style scoped>\n",
       "    .dataframe tbody tr th:only-of-type {\n",
       "        vertical-align: middle;\n",
       "    }\n",
       "\n",
       "    .dataframe tbody tr th {\n",
       "        vertical-align: top;\n",
       "    }\n",
       "\n",
       "    .dataframe thead th {\n",
       "        text-align: right;\n",
       "    }\n",
       "</style>\n",
       "<table border=\"1\" class=\"dataframe\">\n",
       "  <thead>\n",
       "    <tr style=\"text-align: right;\">\n",
       "      <th></th>\n",
       "      <th>raceeth</th>\n",
       "      <th>age_range</th>\n",
       "      <th>sex</th>\n",
       "      <th>pov</th>\n",
       "      <th>rate</th>\n",
       "    </tr>\n",
       "  </thead>\n",
       "  <tbody>\n",
       "    <tr>\n",
       "      <th>0</th>\n",
       "      <td>asian</td>\n",
       "      <td>18-024</td>\n",
       "      <td>female</td>\n",
       "      <td>above</td>\n",
       "      <td>0.007575</td>\n",
       "    </tr>\n",
       "    <tr>\n",
       "      <th>1</th>\n",
       "      <td>asian</td>\n",
       "      <td>18-024</td>\n",
       "      <td>female</td>\n",
       "      <td>below</td>\n",
       "      <td>0.007575</td>\n",
       "    </tr>\n",
       "    <tr>\n",
       "      <th>2</th>\n",
       "      <td>asian</td>\n",
       "      <td>18-024</td>\n",
       "      <td>male</td>\n",
       "      <td>above</td>\n",
       "      <td>0.007575</td>\n",
       "    </tr>\n",
       "    <tr>\n",
       "      <th>3</th>\n",
       "      <td>asian</td>\n",
       "      <td>18-024</td>\n",
       "      <td>male</td>\n",
       "      <td>below</td>\n",
       "      <td>0.007575</td>\n",
       "    </tr>\n",
       "    <tr>\n",
       "      <th>4</th>\n",
       "      <td>asian</td>\n",
       "      <td>25-034</td>\n",
       "      <td>female</td>\n",
       "      <td>above</td>\n",
       "      <td>0.000067</td>\n",
       "    </tr>\n",
       "  </tbody>\n",
       "</table>\n",
       "</div>"
      ],
      "text/plain": [
       "  raceeth age_range     sex    pov      rate\n",
       "0   asian    18-024  female  above  0.007575\n",
       "1   asian    18-024  female  below  0.007575\n",
       "2   asian    18-024    male  above  0.007575\n",
       "3   asian    18-024    male  below  0.007575\n",
       "4   asian    25-034  female  above  0.000067"
      ]
     },
     "execution_count": 8,
     "metadata": {},
     "output_type": "execute_result"
    }
   ],
   "source": [
    "\n",
    "dia_merge = pd.DataFrame(\n",
    "{\n",
    "    'raceeth': dia.raceeth,\n",
    "    'age_range': dia.age_group.replace({'75-085':'75-120'}),\n",
    "    'sex': dia.sex.apply(lambda v: 'male' if v == 1 else 'female' ),\n",
    "    'pov':  dia.pov.apply(lambda v: 'below' if v == 1 else 'above' ),\n",
    "    'rate': dia.imputed_rate\n",
    "})\n",
    "\n",
    "dia_merge.head()"
   ]
  },
  {
   "cell_type": "code",
   "execution_count": 9,
   "metadata": {},
   "outputs": [
    {
     "data": {
      "text/html": [
       "<div>\n",
       "<style scoped>\n",
       "    .dataframe tbody tr th:only-of-type {\n",
       "        vertical-align: middle;\n",
       "    }\n",
       "\n",
       "    .dataframe tbody tr th {\n",
       "        vertical-align: top;\n",
       "    }\n",
       "\n",
       "    .dataframe thead th {\n",
       "        text-align: right;\n",
       "    }\n",
       "</style>\n",
       "<table border=\"1\" class=\"dataframe\">\n",
       "  <thead>\n",
       "    <tr style=\"text-align: right;\">\n",
       "      <th></th>\n",
       "      <th>geoid</th>\n",
       "      <th>col_name</th>\n",
       "      <th>value_est</th>\n",
       "      <th>value_margin</th>\n",
       "      <th>sex</th>\n",
       "      <th>raceeth</th>\n",
       "      <th>age_range</th>\n",
       "      <th>pov</th>\n",
       "      <th>age_min</th>\n",
       "      <th>age_max</th>\n",
       "      <th>overlapping</th>\n",
       "    </tr>\n",
       "  </thead>\n",
       "  <tbody>\n",
       "    <tr>\n",
       "      <th>37052</th>\n",
       "      <td>14000US06073000100</td>\n",
       "      <td>B17001B_001</td>\n",
       "      <td>0</td>\n",
       "      <td>12</td>\n",
       "      <td>both</td>\n",
       "      <td>black</td>\n",
       "      <td>00-120</td>\n",
       "      <td>all</td>\n",
       "      <td>0</td>\n",
       "      <td>120</td>\n",
       "      <td>1</td>\n",
       "    </tr>\n",
       "    <tr>\n",
       "      <th>37053</th>\n",
       "      <td>14000US06073000100</td>\n",
       "      <td>B17001B_002</td>\n",
       "      <td>0</td>\n",
       "      <td>12</td>\n",
       "      <td>both</td>\n",
       "      <td>black</td>\n",
       "      <td>00-120</td>\n",
       "      <td>below</td>\n",
       "      <td>0</td>\n",
       "      <td>120</td>\n",
       "      <td>1</td>\n",
       "    </tr>\n",
       "    <tr>\n",
       "      <th>37054</th>\n",
       "      <td>14000US06073000100</td>\n",
       "      <td>B17001B_003</td>\n",
       "      <td>0</td>\n",
       "      <td>12</td>\n",
       "      <td>male</td>\n",
       "      <td>black</td>\n",
       "      <td>00-120</td>\n",
       "      <td>below</td>\n",
       "      <td>0</td>\n",
       "      <td>120</td>\n",
       "      <td>1</td>\n",
       "    </tr>\n",
       "    <tr>\n",
       "      <th>37055</th>\n",
       "      <td>14000US06073000100</td>\n",
       "      <td>B17001B_004</td>\n",
       "      <td>0</td>\n",
       "      <td>12</td>\n",
       "      <td>male</td>\n",
       "      <td>black</td>\n",
       "      <td>00-004</td>\n",
       "      <td>below</td>\n",
       "      <td>0</td>\n",
       "      <td>4</td>\n",
       "      <td>0</td>\n",
       "    </tr>\n",
       "    <tr>\n",
       "      <th>37056</th>\n",
       "      <td>14000US06073000100</td>\n",
       "      <td>B17001B_005</td>\n",
       "      <td>0</td>\n",
       "      <td>12</td>\n",
       "      <td>male</td>\n",
       "      <td>black</td>\n",
       "      <td>05-005</td>\n",
       "      <td>below</td>\n",
       "      <td>5</td>\n",
       "      <td>5</td>\n",
       "      <td>0</td>\n",
       "    </tr>\n",
       "  </tbody>\n",
       "</table>\n",
       "</div>"
      ],
      "text/plain": [
       "                    geoid     col_name  value_est  value_margin   sex raceeth  \\\n",
       "37052  14000US06073000100  B17001B_001          0            12  both   black   \n",
       "37053  14000US06073000100  B17001B_002          0            12  both   black   \n",
       "37054  14000US06073000100  B17001B_003          0            12  male   black   \n",
       "37055  14000US06073000100  B17001B_004          0            12  male   black   \n",
       "37056  14000US06073000100  B17001B_005          0            12  male   black   \n",
       "\n",
       "      age_range    pov  age_min  age_max  overlapping  \n",
       "37052    00-120    all        0      120            1  \n",
       "37053    00-120  below        0      120            1  \n",
       "37054    00-120  below        0      120            1  \n",
       "37055    00-004  below        0        4            0  \n",
       "37056    05-005  below        5        5            0  "
      ]
     },
     "execution_count": 9,
     "metadata": {},
     "output_type": "execute_result"
    }
   ],
   "source": [
    "#\n",
    "tracts_merge = tracts[tracts.raceeth != 'white'].copy()\n",
    "tracts_merge.head()\n"
   ]
  },
  {
   "cell_type": "code",
   "execution_count": 10,
   "metadata": {},
   "outputs": [
    {
     "data": {
      "text/plain": [
       "3452837"
      ]
     },
     "execution_count": 10,
     "metadata": {},
     "output_type": "execute_result"
    }
   ],
   "source": [
    "tracts[tracts.overlapping == 0].value_est.sum()"
   ]
  },
  {
   "cell_type": "code",
   "execution_count": 11,
   "metadata": {},
   "outputs": [
    {
     "data": {
      "text/html": [
       "<div>\n",
       "<style scoped>\n",
       "    .dataframe tbody tr th:only-of-type {\n",
       "        vertical-align: middle;\n",
       "    }\n",
       "\n",
       "    .dataframe tbody tr th {\n",
       "        vertical-align: top;\n",
       "    }\n",
       "\n",
       "    .dataframe thead th {\n",
       "        text-align: right;\n",
       "    }\n",
       "</style>\n",
       "<table border=\"1\" class=\"dataframe\">\n",
       "  <thead>\n",
       "    <tr style=\"text-align: right;\">\n",
       "      <th></th>\n",
       "      <th>geoid</th>\n",
       "      <th>col_name</th>\n",
       "      <th>value_est</th>\n",
       "      <th>value_margin</th>\n",
       "      <th>sex</th>\n",
       "      <th>raceeth</th>\n",
       "      <th>age_range</th>\n",
       "      <th>pov</th>\n",
       "      <th>age_min</th>\n",
       "      <th>age_max</th>\n",
       "      <th>overlapping</th>\n",
       "      <th>rate</th>\n",
       "    </tr>\n",
       "  </thead>\n",
       "  <tbody>\n",
       "    <tr>\n",
       "      <th>9</th>\n",
       "      <td>14000US06073000100</td>\n",
       "      <td>B17001B_010</td>\n",
       "      <td>0</td>\n",
       "      <td>12</td>\n",
       "      <td>male</td>\n",
       "      <td>black</td>\n",
       "      <td>18-024</td>\n",
       "      <td>below</td>\n",
       "      <td>18</td>\n",
       "      <td>24</td>\n",
       "      <td>0</td>\n",
       "      <td>0.004529</td>\n",
       "    </tr>\n",
       "    <tr>\n",
       "      <th>10</th>\n",
       "      <td>14000US06073000100</td>\n",
       "      <td>B17001B_011</td>\n",
       "      <td>0</td>\n",
       "      <td>12</td>\n",
       "      <td>male</td>\n",
       "      <td>black</td>\n",
       "      <td>25-034</td>\n",
       "      <td>below</td>\n",
       "      <td>25</td>\n",
       "      <td>34</td>\n",
       "      <td>0</td>\n",
       "      <td>0.024107</td>\n",
       "    </tr>\n",
       "    <tr>\n",
       "      <th>11</th>\n",
       "      <td>14000US06073000100</td>\n",
       "      <td>B17001B_012</td>\n",
       "      <td>0</td>\n",
       "      <td>12</td>\n",
       "      <td>male</td>\n",
       "      <td>black</td>\n",
       "      <td>35-044</td>\n",
       "      <td>below</td>\n",
       "      <td>35</td>\n",
       "      <td>44</td>\n",
       "      <td>0</td>\n",
       "      <td>0.079815</td>\n",
       "    </tr>\n",
       "    <tr>\n",
       "      <th>12</th>\n",
       "      <td>14000US06073000100</td>\n",
       "      <td>B17001B_013</td>\n",
       "      <td>0</td>\n",
       "      <td>12</td>\n",
       "      <td>male</td>\n",
       "      <td>black</td>\n",
       "      <td>45-054</td>\n",
       "      <td>below</td>\n",
       "      <td>45</td>\n",
       "      <td>54</td>\n",
       "      <td>0</td>\n",
       "      <td>0.124868</td>\n",
       "    </tr>\n",
       "    <tr>\n",
       "      <th>13</th>\n",
       "      <td>14000US06073000100</td>\n",
       "      <td>B17001B_014</td>\n",
       "      <td>0</td>\n",
       "      <td>12</td>\n",
       "      <td>male</td>\n",
       "      <td>black</td>\n",
       "      <td>55-064</td>\n",
       "      <td>below</td>\n",
       "      <td>55</td>\n",
       "      <td>64</td>\n",
       "      <td>0</td>\n",
       "      <td>0.265294</td>\n",
       "    </tr>\n",
       "  </tbody>\n",
       "</table>\n",
       "</div>"
      ],
      "text/plain": [
       "                 geoid     col_name  value_est  value_margin   sex raceeth  \\\n",
       "9   14000US06073000100  B17001B_010          0            12  male   black   \n",
       "10  14000US06073000100  B17001B_011          0            12  male   black   \n",
       "11  14000US06073000100  B17001B_012          0            12  male   black   \n",
       "12  14000US06073000100  B17001B_013          0            12  male   black   \n",
       "13  14000US06073000100  B17001B_014          0            12  male   black   \n",
       "\n",
       "   age_range    pov  age_min  age_max  overlapping      rate  \n",
       "9     18-024  below       18       24            0  0.004529  \n",
       "10    25-034  below       25       34            0  0.024107  \n",
       "11    35-044  below       35       44            0  0.079815  \n",
       "12    45-054  below       45       54            0  0.124868  \n",
       "13    55-064  below       55       64            0  0.265294  "
      ]
     },
     "execution_count": 11,
     "metadata": {},
     "output_type": "execute_result"
    }
   ],
   "source": [
    "m = tracts_merge.merge(dia_merge, on=['raceeth','age_range','sex','pov'], how='left')\n",
    "\n",
    "m = m[~m.rate.isnull() & (m.overlapping == 0)]\n",
    "m.head()"
   ]
  },
  {
   "cell_type": "code",
   "execution_count": 12,
   "metadata": {},
   "outputs": [
    {
     "data": {
      "text/plain": [
       "2643923"
      ]
     },
     "execution_count": 12,
     "metadata": {},
     "output_type": "execute_result"
    }
   ],
   "source": [
    "m.value_est.sum()"
   ]
  },
  {
   "cell_type": "code",
   "execution_count": 13,
   "metadata": {},
   "outputs": [
    {
     "data": {
      "text/plain": [
       "(2643923, 33854, 0.012970538326764541)"
      ]
     },
     "execution_count": 13,
     "metadata": {},
     "output_type": "execute_result"
    }
   ],
   "source": [
    "# For 2017 data, this should be about 3337685 ( whole pop) * 78.2%% (% 18 or older ) == 2610069\n",
    "s = m[m.overlapping== 0].value_est.sum()\n",
    "s, s-2610069, (s-2610069)/2610069"
   ]
  },
  {
   "cell_type": "code",
   "execution_count": 14,
   "metadata": {},
   "outputs": [
    {
     "data": {
      "text/plain": [
       "(226252.36856408906, 0.08557449236006082, 0.0931079706025058)"
      ]
     },
     "execution_count": 14,
     "metadata": {},
     "output_type": "execute_result"
    }
   ],
   "source": [
    "# The percentages here, 8.6%, doesn't match the AskCHIS value for SD of 9.1%, but if you \n",
    "# adjust for the differences in the population between the two datasets, it almost does (9.3%)\n",
    "t = m[m.overlapping==0].copy() \n",
    "\n",
    "d =(t.rate*t.value_est).sum()\n",
    "\n",
    "d, d/s, (d/s) * (2643923/2430000)"
   ]
  },
  {
   "cell_type": "code",
   "execution_count": 26,
   "metadata": {},
   "outputs": [],
   "source": [
    "m['diabetes_est'] = m.value_est * m.rate\n",
    "t = m.groupby('geoid').sum().copy()\n",
    "t['tract_diabetes_rate'] = (t.diabetes_est / t.value_est* 100).round(0)"
   ]
  },
  {
   "cell_type": "code",
   "execution_count": 28,
   "metadata": {},
   "outputs": [],
   "source": [
    "t[['diabetes_est','tract_diabetes_rate']].to_csv('tract_diabetes.csv')"
   ]
  },
  {
   "cell_type": "code",
   "execution_count": 73,
   "metadata": {
    "scrolled": false
   },
   "outputs": [
    {
     "data": {
      "text/html": [
       "<div>\n",
       "<style scoped>\n",
       "    .dataframe tbody tr th:only-of-type {\n",
       "        vertical-align: middle;\n",
       "    }\n",
       "\n",
       "    .dataframe tbody tr th {\n",
       "        vertical-align: top;\n",
       "    }\n",
       "\n",
       "    .dataframe thead th {\n",
       "        text-align: right;\n",
       "    }\n",
       "</style>\n",
       "<table border=\"1\" class=\"dataframe\">\n",
       "  <thead>\n",
       "    <tr style=\"text-align: right;\">\n",
       "      <th>raceeth</th>\n",
       "      <th>asian</th>\n",
       "      <th>black</th>\n",
       "      <th>hisp</th>\n",
       "      <th>nhwhite</th>\n",
       "      <th>other</th>\n",
       "      <th>total</th>\n",
       "    </tr>\n",
       "    <tr>\n",
       "      <th>geoid</th>\n",
       "      <th></th>\n",
       "      <th></th>\n",
       "      <th></th>\n",
       "      <th></th>\n",
       "      <th></th>\n",
       "      <th></th>\n",
       "    </tr>\n",
       "  </thead>\n",
       "  <tbody>\n",
       "    <tr>\n",
       "      <th>14000US06073000100</th>\n",
       "      <td>0.090034</td>\n",
       "      <td>NaN</td>\n",
       "      <td>0.240076</td>\n",
       "      <td>0.100720</td>\n",
       "      <td>0.149703</td>\n",
       "      <td>0.117236</td>\n",
       "    </tr>\n",
       "    <tr>\n",
       "      <th>14000US06073000201</th>\n",
       "      <td>0.083256</td>\n",
       "      <td>0.101111</td>\n",
       "      <td>0.093961</td>\n",
       "      <td>0.085595</td>\n",
       "      <td>0.094269</td>\n",
       "      <td>0.087723</td>\n",
       "    </tr>\n",
       "    <tr>\n",
       "      <th>14000US06073000202</th>\n",
       "      <td>0.084176</td>\n",
       "      <td>0.073590</td>\n",
       "      <td>0.096333</td>\n",
       "      <td>0.054982</td>\n",
       "      <td>0.084927</td>\n",
       "      <td>0.065198</td>\n",
       "    </tr>\n",
       "    <tr>\n",
       "      <th>14000US06073000300</th>\n",
       "      <td>0.045533</td>\n",
       "      <td>0.108271</td>\n",
       "      <td>0.086672</td>\n",
       "      <td>0.069047</td>\n",
       "      <td>0.025907</td>\n",
       "      <td>0.068951</td>\n",
       "    </tr>\n",
       "    <tr>\n",
       "      <th>14000US06073000400</th>\n",
       "      <td>0.048468</td>\n",
       "      <td>0.028781</td>\n",
       "      <td>0.045808</td>\n",
       "      <td>0.056943</td>\n",
       "      <td>0.049220</td>\n",
       "      <td>0.053447</td>\n",
       "    </tr>\n",
       "  </tbody>\n",
       "</table>\n",
       "</div>"
      ],
      "text/plain": [
       "raceeth                asian     black      hisp   nhwhite     other     total\n",
       "geoid                                                                         \n",
       "14000US06073000100  0.090034       NaN  0.240076  0.100720  0.149703  0.117236\n",
       "14000US06073000201  0.083256  0.101111  0.093961  0.085595  0.094269  0.087723\n",
       "14000US06073000202  0.084176  0.073590  0.096333  0.054982  0.084927  0.065198\n",
       "14000US06073000300  0.045533  0.108271  0.086672  0.069047  0.025907  0.068951\n",
       "14000US06073000400  0.048468  0.028781  0.045808  0.056943  0.049220  0.053447"
      ]
     },
     "execution_count": 73,
     "metadata": {},
     "output_type": "execute_result"
    }
   ],
   "source": [
    "t1 = m.groupby(['geoid', 'raceeth']).sum()[['value_est','diabetes_est']]\n",
    "\n",
    "t2 = m.groupby('geoid').sum()[['value_est','diabetes_est']]\n",
    "t2['raceeth'] = 'total'\n",
    "\n",
    "t1 = t1.reset_index()\n",
    "t2 = t2.reset_index()[t1.columns]\n",
    "\n",
    "t =  pd.concat([t1, t2], ignore_index=True, sort=False).sort_values(['geoid','raceeth'])\n",
    "t['rate'] = t.diabetes_est / t.value_est\n",
    "tract_diabetes = t.set_index(['geoid','raceeth'])['rate'].unstack()\n",
    "tract_diabetes.head()"
   ]
  },
  {
   "cell_type": "code",
   "execution_count": null,
   "metadata": {},
   "outputs": [],
   "source": []
  }
 ],
 "metadata": {
  "kernelspec": {
   "display_name": "Python 3",
   "language": "python",
   "name": "python3"
  },
  "language_info": {
   "codemirror_mode": {
    "name": "ipython",
    "version": 3
   },
   "file_extension": ".py",
   "mimetype": "text/x-python",
   "name": "python",
   "nbconvert_exporter": "python",
   "pygments_lexer": "ipython3",
   "version": "3.6.0"
  }
 },
 "nbformat": 4,
 "nbformat_minor": 2
}
