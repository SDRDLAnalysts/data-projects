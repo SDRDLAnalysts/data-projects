{
 "cells": [
  {
   "cell_type": "code",
   "execution_count": 1,
   "metadata": {},
   "outputs": [],
   "source": [
    "import seaborn as sns\n",
    "import metapack as mp\n",
    "import pandas as pd\n",
    "import numpy as np\n",
    "import matplotlib.pyplot as plt\n",
    "from IPython.display import display \n",
    "\n",
    "import datetime\n",
    "from cityiq import Config, CityIq\n",
    "from cityiq.api import Asset, Location\n",
    "from cityiq.scrape import EventScraper\n",
    "\n",
    "%matplotlib inline\n",
    "sns.set_context('notebook')\n",
    "mp.jupyter.init()\n"
   ]
  },
  {
   "cell_type": "code",
   "execution_count": 2,
   "metadata": {},
   "outputs": [
    {
     "data": {
      "text/html": [
       "<h1>San Diego City IQ Assets and Locations</h1>\n",
       "<p><code>sandiego.gov-cityiq_objects-1</code> Last Update: 2019-02-16T05:06:02</p>\n",
       "<p><em>All assets types extracted form the San Diego City Iq system</em></p>\n",
       "<p>These datafile are extracts of the assets and locations from the San Diego\n",
       "CityIQ system. Refer to the <a href=\"https://ie-cities-docs.run.aws-usw02-pr.ice.predix.io/#c_overview\n",
       " _of_general_apis.html\">CityIQ developer\n",
       "documentation</a> for details about these data records. The data are\n",
       "extracted using the <a href=\"https://pypi.org/project/cityiq/\">cityiq Python package</a>.\n",
       "See the ExtractAssets.ipynb notebook for the extract process.</p>\n",
       "<h2>Contacts</h2>\n",
       "<ul>\n",
       "<li><strong>Wrangler</strong> <a href=\"mailto:eric@civicknowledge.com\">Eric Busboom</a>, <a href=\"http://civicknowledge.com\">Civic Knowledge</a></li>\n",
       "</ul>\n",
       "<h2>Resources</h2>\n",
       "<ul>\n",
       "<li><strong> <a href=\"notebooks/ExtractAssets.ipynb#assets\">assets</a></strong>. All assets</li>\n",
       "<li><strong> <a href=\"notebooks/ExtractAssets.ipynb#locations\">locations</a></strong>. All locations: walkways, traffic lanes and parking zones</li>\n",
       "</ul>\n",
       "<h2>References</h2>\n",
       "<ul>\n",
       "<li><strong><a href=\"index:sangis.org-roads-sandiego#all_roads\">sdroads</a></strong>. Roads in San Diego</li>\n",
       "<li><strong><a href=\"metapack+http://library.metatab.org/sandiegodata.org-geography-2018.csv\">geography</a></strong>. San Diego tracts and communities</li>\n",
       "</ul>"
      ],
      "text/plain": [
       "<metapack.doc.MetapackDoc at 0x124bcb860>"
      ]
     },
     "execution_count": 2,
     "metadata": {},
     "output_type": "execute_result"
    }
   ],
   "source": [
    "#pkg = mp.jupyter.open_package()\n",
    "pkg = mp.jupyter.open_source_package()\n",
    "pkg"
   ]
  },
  {
   "cell_type": "code",
   "execution_count": 3,
   "metadata": {},
   "outputs": [],
   "source": [
    "\n",
    "tz = datetime.datetime.now(datetime.timezone.utc).astimezone().tzinfo\n",
    "\n",
    "config = Config()\n",
    "ciq = CityIq(config, start_time='20180901')"
   ]
  },
  {
   "cell_type": "code",
   "execution_count": 4,
   "metadata": {},
   "outputs": [],
   "source": [
    "roads = pkg.reference('sdroads').geoframe()\n",
    "sdroads = roads[(roads.lpsjur == 'SD') | (roads.rpsjur == 'SD')].copy()\n",
    "\n",
    "# Convert to EPSG:2875 ( California zone 6, feet ) so we can make the buffer in feet\n",
    "sdroads = sdroads.to_crs({'init':'epsg:2875'})\n",
    "\n",
    "# Buffer the roads to be big enough to enclose the assets\n",
    "sdroads['geometry'] = sdroads.geometry.apply(lambda g : g.buffer(60,cap_style=1, join_style=2))\n",
    "\n",
    "sdroads = sdroads.to_crs( {'init':'epsg:4326'} )\n",
    "# sdroads.to_csv('sdroads.csv')"
   ]
  },
  {
   "cell_type": "code",
   "execution_count": 5,
   "metadata": {},
   "outputs": [
    {
     "name": "stdout",
     "output_type": "stream",
     "text": [
      "26774\n"
     ]
    },
    {
     "data": {
      "text/plain": [
       "(54, 26774)"
      ]
     },
     "execution_count": 5,
     "metadata": {},
     "output_type": "execute_result"
    }
   ],
   "source": [
    "assets = gpd.GeoDataFrame(ciq.asset_dataframe, geometry='geometry')\n",
    "l1 = len(assets)\n",
    "print(len(assets))\n",
    "assets.crs = {'init':'epsg:4326'} \n",
    "\n",
    "ac = assets.copy()\n",
    "ac['geometry'] = ac.centroid.to_crs({'init':'epsg:2875'}).buffer(20).to_crs( {'init':'epsg:4326'} )\n",
    "\n",
    "t = gpd.sjoin(ac, sdroads, how='left')\n",
    "t = t[list(assets)[:-1] + \n",
    "           ['roadsegid', 'speed', 'oneway','abloaddr', 'abhiaddr', 'rd30full'] +\n",
    "           ['geometry'] ].drop_duplicates(subset='assetUid')\n",
    "\n",
    "assets = t.drop(columns='geometry').join(assets['geometry'])\n",
    "\n",
    "assert len(assets) == l1\n",
    "           \n",
    "# How many assets and locations did not get linked to roads?\n",
    "len(assets[assets.speed.isnull()]), len(assets)\n",
    "           "
   ]
  },
  {
   "cell_type": "code",
   "execution_count": 6,
   "metadata": {},
   "outputs": [],
   "source": [
    "locations = gpd.GeoDataFrame(ciq.locations_dataframe, geometry='geometry')\n",
    "\n",
    "l1 = len(locations)\n",
    "locations.crs = {'init':'epsg:4326'}\n",
    "lc = locations.copy()\n",
    "\n",
    "lc['geometry'] =  locations.centroid.to_crs({'init':'epsg:2875'}).buffer(20).to_crs( {'init':'epsg:4326'} )\n",
    "\n",
    "t = gpd.sjoin(lc, sdroads, how='left')\n",
    "\n",
    "t = t[list(lc)[:-1] + \n",
    "           ['roadsegid', 'speed', 'oneway','abloaddr', 'abhiaddr', 'rd30full'] +\n",
    "           ['geometry'] ].drop_duplicates(subset='locationUid')\n",
    "\n",
    "locations = t.drop(columns='geometry').join(locations['geometry'])\n",
    "\n",
    "\n",
    "assert len(locations) == l1"
   ]
  },
  {
   "cell_type": "code",
   "execution_count": 13,
   "metadata": {},
   "outputs": [
    {
     "data": {
      "text/plain": [
       "'metapack+http://library.metatab.org/sandiegodata.org-geography-2018.csv'"
      ]
     },
     "execution_count": 13,
     "metadata": {},
     "output_type": "execute_result"
    }
   ],
   "source": [
    "pkg.reference('geography').url"
   ]
  },
  {
   "cell_type": "code",
   "execution_count": null,
   "metadata": {},
   "outputs": [],
   "source": []
  }
 ],
 "metadata": {
  "kernelspec": {
   "display_name": "Python 3",
   "language": "python",
   "name": "python3"
  },
  "language_info": {
   "codemirror_mode": {
    "name": "ipython",
    "version": 3
   },
   "file_extension": ".py",
   "mimetype": "text/x-python",
   "name": "python",
   "nbconvert_exporter": "python",
   "pygments_lexer": "ipython3",
   "version": "3.6.0"
  }
 },
 "nbformat": 4,
 "nbformat_minor": 2
}
