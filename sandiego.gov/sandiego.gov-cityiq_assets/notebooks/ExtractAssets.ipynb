{
 "cells": [
  {
   "cell_type": "code",
   "execution_count": 1,
   "metadata": {},
   "outputs": [],
   "source": [
    "import seaborn as sns\n",
    "import metapack as mp\n",
    "import pandas as pd\n",
    "import numpy as np\n",
    "import matplotlib.pyplot as plt\n",
    "from IPython.display import display \n",
    "\n",
    "import datetime\n",
    "from cityiq import Config, CityIq\n",
    "from cityiq.api import Asset, Location\n",
    "from cityiq.scrape import EventScraper\n",
    "\n",
    "%matplotlib inline\n",
    "sns.set_context('notebook')\n",
    "mp.jupyter.init()\n"
   ]
  },
  {
   "cell_type": "code",
   "execution_count": 2,
   "metadata": {},
   "outputs": [
    {
     "data": {
      "text/html": [
       "<h1>San Diego City IQ Assets and Locations</h1>\n",
       "<p><code>sandiego.gov-cityiq_objects-3</code> Last Update: 2019-02-17T23:10:20</p>\n",
       "<p><em>All assets types extracted form the San Diego City Iq system</em></p>\n",
       "<p>These datafile are extracts of the assets and locations from the San Diego\n",
       "CityIQ system. Refer to the <a href=\"https://ie-cities-docs.run.aws-usw02-pr.ice.predix.io/#c_overview\n",
       " _of_general_apis.html\">CityIQ developer\n",
       "documentation</a> for details about these data records. The data are\n",
       "extracted using the <a href=\"https://pypi.org/project/cityiq/\">cityiq Python package</a>.\n",
       "See the ExtractAssets.ipynb notebook for the extract process.</p>\n",
       "<h2>Contacts</h2>\n",
       "<ul>\n",
       "<li><strong>Wrangler</strong> <a href=\"mailto:eric@civicknowledge.com\">Eric Busboom</a>, <a href=\"http://civicknowledge.com\">Civic Knowledge</a></li>\n",
       "</ul>\n",
       "<h2>Resources</h2>\n",
       "<ul>\n",
       "<li><strong> <a href=\"notebooks/ExtractAssets.ipynb#assets\">assets</a></strong>. All assets</li>\n",
       "<li><strong> <a href=\"notebooks/ExtractAssets.ipynb#locations\">locations</a></strong>. All locations: walkways, traffic lanes and parking zones</li>\n",
       "</ul>\n",
       "<h2>References</h2>\n",
       "<ul>\n",
       "<li><strong><a href=\"index:sangis.org-roads-sandiego#all_roads\">sdroads</a></strong>. Roads in San Diego</li>\n",
       "<li><strong><a href=\"metapack+http://library.metatab.org/sandiegodata.org-geography-2018.csv#tract_boundaries\">tract_boundaries</a></strong>. San Diego tracts and communities</li>\n",
       "<li><strong><a href=\"metapack+http://library.metatab.org/sandiegodata.org-geography-2018.csv#sd_community_boundaries\">sd_community_boundaries</a></strong>. San Diego tracts and communities</li>\n",
       "</ul>"
      ],
      "text/plain": [
       "<metapack.doc.MetapackDoc at 0x11b044940>"
      ]
     },
     "execution_count": 2,
     "metadata": {},
     "output_type": "execute_result"
    }
   ],
   "source": [
    "#pkg = mp.jupyter.open_package()\n",
    "pkg = mp.jupyter.open_source_package()\n",
    "pkg"
   ]
  },
  {
   "cell_type": "code",
   "execution_count": 15,
   "metadata": {},
   "outputs": [
    {
     "data": {
      "text/plain": [
       "{'init': 'epsg:4326'}"
      ]
     },
     "execution_count": 15,
     "metadata": {},
     "output_type": "execute_result"
    }
   ],
   "source": [
    "tracts = pkg.reference('tract_boundaries').geoframe()\n",
    "comm = pkg.reference('sd_community_boundaries').geoframe()\n"
   ]
  },
  {
   "cell_type": "code",
   "execution_count": 4,
   "metadata": {},
   "outputs": [],
   "source": [
    "\n",
    "tz = datetime.datetime.now(datetime.timezone.utc).astimezone().tzinfo\n",
    "\n",
    "config = Config()\n",
    "ciq = CityIq(config, start_time='20180901')"
   ]
  },
  {
   "cell_type": "code",
   "execution_count": 5,
   "metadata": {},
   "outputs": [],
   "source": [
    "roads = pkg.reference('sdroads').geoframe()\n",
    "sdroads = roads[(roads.lpsjur == 'SD') | (roads.rpsjur == 'SD')].copy()\n",
    "\n",
    "# Convert to EPSG:2875 ( California zone 6, feet ) so we can make the buffer in feet\n",
    "sdroads = sdroads.to_crs({'init':'epsg:2875'})\n",
    "\n",
    "# Buffer the roads to be big enough to enclose the assets\n",
    "sdroads['geometry'] = sdroads.geometry.apply(lambda g : g.buffer(60,cap_style=1, join_style=2))\n",
    "\n",
    "sdroads = sdroads.to_crs( {'init':'epsg:4326'} )\n",
    "# sdroads.to_csv('sdroads.csv')"
   ]
  },
  {
   "cell_type": "code",
   "execution_count": 28,
   "metadata": {},
   "outputs": [
    {
     "name": "stdout",
     "output_type": "stream",
     "text": [
      "26774\n"
     ]
    },
    {
     "data": {
      "text/plain": [
       "(54, 26774)"
      ]
     },
     "execution_count": 28,
     "metadata": {},
     "output_type": "execute_result"
    }
   ],
   "source": [
    "assets = gpd.GeoDataFrame(ciq.asset_dataframe, geometry='geometry')\n",
    "l1 = len(assets)\n",
    "print(len(assets))\n",
    "assets.crs = {'init':'epsg:4326'} \n",
    "\n",
    "ac = assets.copy()\n",
    "ac['geometry'] = ac.centroid.to_crs({'init':'epsg:2875'}).buffer(20).to_crs( {'init':'epsg:4326'} )\n",
    "\n",
    "# Link to roads\n",
    "t = gpd.sjoin(ac, sdroads, how='left').drop(columns=['index_right'])\n",
    "\n",
    "# Link to communities\n",
    "t = gpd.sjoin(t, comm[comm['type'] == 'sd_community'][['geometry','name']], how='left').drop(columns=['index_right'])\n",
    "\n",
    "# Link to tracts\n",
    "t = gpd.sjoin(t, tracts[['geometry','geoid']], how='left')\n",
    "\n",
    "t = t[list(assets)[:-1] + \n",
    "           ['name','geoid','roadsegid', 'speed', 'oneway','abloaddr', 'abhiaddr', 'rd30full'] +\n",
    "           ['geometry'] ].drop_duplicates(subset='assetUid')\\\n",
    "           .rename(columns={'name':'community_name','geoid':'tract_geoid'})\n",
    "\n",
    "assets = t.drop(columns='geometry').join(assets['geometry'])\n",
    "\n",
    "assert len(assets) == l1\n",
    "           \n",
    "# How many assets and locations did not get linked to roads?\n",
    "len(assets[assets.speed.isnull()]), len(assets)\n",
    "           "
   ]
  },
  {
   "cell_type": "code",
   "execution_count": 36,
   "metadata": {},
   "outputs": [],
   "source": [
    "locations = gpd.GeoDataFrame(ciq.locations_dataframe, geometry='geometry')\n",
    "\n",
    "l1 = len(locations)\n",
    "locations.crs = {'init':'epsg:4326'}\n",
    "lc = locations.copy()\n",
    "\n",
    "lc['geometry'] =  locations.centroid.to_crs({'init':'epsg:2875'}).buffer(20).to_crs( {'init':'epsg:4326'} )\n",
    "\n",
    "# Link to roads\n",
    "t = gpd.sjoin(lc, sdroads, how='left').drop(columns=['index_right'])\n",
    "\n",
    "# Link to communities\n",
    "t = gpd.sjoin(t, comm[comm['type'] == 'sd_community'][['geometry','name']], how='left').drop(columns=['index_right'])\n",
    "\n",
    "# Link to tracts\n",
    "t = gpd.sjoin(t, tracts[['geometry','geoid']], how='left')\n",
    "\n",
    "t = t[list(lc)[:-1] + \n",
    "           ['name','geoid','roadsegid', 'speed', 'oneway','abloaddr', 'abhiaddr', 'rd30full'] +\n",
    "           ['geometry'] ].drop_duplicates(subset='locationUid')\\\n",
    "           .rename(columns={'name':'community_name','geoid':'tract_geoid'})\n",
    "\n",
    "locations = t.drop(columns='geometry').join(locations['geometry'])\n",
    "\n",
    "\n",
    "assert len(locations) == l1"
   ]
  },
  {
   "cell_type": "code",
   "execution_count": 38,
   "metadata": {},
   "outputs": [
    {
     "data": {
      "text/html": [
       "<div>\n",
       "<style scoped>\n",
       "    .dataframe tbody tr th:only-of-type {\n",
       "        vertical-align: middle;\n",
       "    }\n",
       "\n",
       "    .dataframe tbody tr th {\n",
       "        vertical-align: top;\n",
       "    }\n",
       "\n",
       "    .dataframe thead th {\n",
       "        text-align: right;\n",
       "    }\n",
       "</style>\n",
       "<table border=\"1\" class=\"dataframe\">\n",
       "  <thead>\n",
       "    <tr style=\"text-align: right;\">\n",
       "      <th></th>\n",
       "      <th>locationUid</th>\n",
       "      <th>locationType</th>\n",
       "      <th>parentLocationUid</th>\n",
       "      <th>community_name</th>\n",
       "      <th>tract_geoid</th>\n",
       "      <th>roadsegid</th>\n",
       "      <th>speed</th>\n",
       "      <th>oneway</th>\n",
       "      <th>abloaddr</th>\n",
       "      <th>abhiaddr</th>\n",
       "      <th>rd30full</th>\n",
       "      <th>geometry</th>\n",
       "    </tr>\n",
       "  </thead>\n",
       "  <tbody>\n",
       "    <tr>\n",
       "      <th>0</th>\n",
       "      <td>004361eb</td>\n",
       "      <td>WALKWAY</td>\n",
       "      <td>004361eb</td>\n",
       "      <td>Downtown</td>\n",
       "      <td>14000US00000006974</td>\n",
       "      <td>40052.0</td>\n",
       "      <td>35.0</td>\n",
       "      <td>T</td>\n",
       "      <td>2100.0</td>\n",
       "      <td>2199.0</td>\n",
       "      <td>KETTNER BLVD</td>\n",
       "      <td>LINESTRING (-117.1706148251287 32.726548905684...</td>\n",
       "    </tr>\n",
       "    <tr>\n",
       "      <th>1</th>\n",
       "      <td>00456472</td>\n",
       "      <td>TRAFFIC_LANE</td>\n",
       "      <td>00456472</td>\n",
       "      <td>Downtown</td>\n",
       "      <td>14000US00000006974</td>\n",
       "      <td>40052.0</td>\n",
       "      <td>35.0</td>\n",
       "      <td>T</td>\n",
       "      <td>2100.0</td>\n",
       "      <td>2199.0</td>\n",
       "      <td>KETTNER BLVD</td>\n",
       "      <td>LINESTRING (-117.1705245131968 32.726558517207...</td>\n",
       "    </tr>\n",
       "    <tr>\n",
       "      <th>2</th>\n",
       "      <td>0051796c</td>\n",
       "      <td>WALKWAY</td>\n",
       "      <td>0051796c</td>\n",
       "      <td>Downtown</td>\n",
       "      <td>14000US00000006974</td>\n",
       "      <td>54946.0</td>\n",
       "      <td>20.0</td>\n",
       "      <td>F</td>\n",
       "      <td>1600.0</td>\n",
       "      <td>1699.0</td>\n",
       "      <td>STATE ST</td>\n",
       "      <td>LINESTRING (-117.1666581391174 32.722214661862...</td>\n",
       "    </tr>\n",
       "    <tr>\n",
       "      <th>3</th>\n",
       "      <td>00537bf3</td>\n",
       "      <td>TRAFFIC_LANE</td>\n",
       "      <td>00537bf3</td>\n",
       "      <td>Downtown</td>\n",
       "      <td>14000US00000007137</td>\n",
       "      <td>54946.0</td>\n",
       "      <td>20.0</td>\n",
       "      <td>F</td>\n",
       "      <td>1600.0</td>\n",
       "      <td>1699.0</td>\n",
       "      <td>STATE ST</td>\n",
       "      <td>LINESTRING (-117.166581746989 32.7222178855665...</td>\n",
       "    </tr>\n",
       "    <tr>\n",
       "      <th>4</th>\n",
       "      <td>005f90ed</td>\n",
       "      <td>WALKWAY</td>\n",
       "      <td>005f90ed</td>\n",
       "      <td>Downtown</td>\n",
       "      <td>14000US00000006974</td>\n",
       "      <td>54945.0</td>\n",
       "      <td>20.0</td>\n",
       "      <td>F</td>\n",
       "      <td>1700.0</td>\n",
       "      <td>1799.0</td>\n",
       "      <td>STATE ST</td>\n",
       "      <td>LINESTRING (-117.1665182431566 32.723810889902...</td>\n",
       "    </tr>\n",
       "  </tbody>\n",
       "</table>\n",
       "</div>"
      ],
      "text/plain": [
       "  locationUid  locationType parentLocationUid community_name  \\\n",
       "0    004361eb       WALKWAY          004361eb       Downtown   \n",
       "1    00456472  TRAFFIC_LANE          00456472       Downtown   \n",
       "2    0051796c       WALKWAY          0051796c       Downtown   \n",
       "3    00537bf3  TRAFFIC_LANE          00537bf3       Downtown   \n",
       "4    005f90ed       WALKWAY          005f90ed       Downtown   \n",
       "\n",
       "          tract_geoid  roadsegid  speed oneway  abloaddr  abhiaddr  \\\n",
       "0  14000US00000006974    40052.0   35.0      T    2100.0    2199.0   \n",
       "1  14000US00000006974    40052.0   35.0      T    2100.0    2199.0   \n",
       "2  14000US00000006974    54946.0   20.0      F    1600.0    1699.0   \n",
       "3  14000US00000007137    54946.0   20.0      F    1600.0    1699.0   \n",
       "4  14000US00000006974    54945.0   20.0      F    1700.0    1799.0   \n",
       "\n",
       "       rd30full                                           geometry  \n",
       "0  KETTNER BLVD  LINESTRING (-117.1706148251287 32.726548905684...  \n",
       "1  KETTNER BLVD  LINESTRING (-117.1705245131968 32.726558517207...  \n",
       "2      STATE ST  LINESTRING (-117.1666581391174 32.722214661862...  \n",
       "3      STATE ST  LINESTRING (-117.166581746989 32.7222178855665...  \n",
       "4      STATE ST  LINESTRING (-117.1665182431566 32.723810889902...  "
      ]
     },
     "execution_count": 38,
     "metadata": {},
     "output_type": "execute_result"
    }
   ],
   "source": [
    "locations.head()"
   ]
  },
  {
   "cell_type": "code",
   "execution_count": null,
   "metadata": {},
   "outputs": [],
   "source": []
  }
 ],
 "metadata": {
  "kernelspec": {
   "display_name": "Python 3",
   "language": "python",
   "name": "python3"
  },
  "language_info": {
   "codemirror_mode": {
    "name": "ipython",
    "version": 3
   },
   "file_extension": ".py",
   "mimetype": "text/x-python",
   "name": "python",
   "nbconvert_exporter": "python",
   "pygments_lexer": "ipython3",
   "version": "3.6.0"
  }
 },
 "nbformat": 4,
 "nbformat_minor": 2
}
