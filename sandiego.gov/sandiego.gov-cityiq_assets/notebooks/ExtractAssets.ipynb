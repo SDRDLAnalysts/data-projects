{
 "cells": [
  {
   "cell_type": "code",
   "execution_count": 1,
   "metadata": {},
   "outputs": [],
   "source": [
    "import seaborn as sns\n",
    "import metapack as mp\n",
    "import pandas as pd\n",
    "import numpy as np\n",
    "import matplotlib.pyplot as plt\n",
    "from IPython.display import display \n",
    "\n",
    "import datetime\n",
    "from cityiq import Config, CityIq\n",
    "from cityiq.api import Asset, Location\n",
    "from cityiq.scrape import EventScraper\n",
    "\n",
    "%matplotlib inline\n",
    "sns.set_context('notebook')\n",
    "mp.jupyter.init()\n"
   ]
  },
  {
   "cell_type": "code",
   "execution_count": 2,
   "metadata": {},
   "outputs": [
    {
     "data": {
      "text/html": [
       "<h1>San Diego City IQ Assets</h1>\n",
       "<p><code>sandiego.gov-cityiq_assets-1</code> Last Update: 2019-02-12T05:02:14</p>\n",
       "<p><em>All assets types extracted form the San Diego City Iq system</em></p>\n",
       "<h2>Contacts</h2>\n",
       "<ul>\n",
       "<li><strong>Wrangler</strong> <a href=\"mailto:eric@civicknowledge.com\">Eric Busboom</a>, <a href=\"http://civicknowledge.com\">Civic Knowledge</a></li>\n",
       "</ul>"
      ],
      "text/plain": [
       "<metapack.doc.MetapackDoc at 0x12bf07208>"
      ]
     },
     "execution_count": 2,
     "metadata": {},
     "output_type": "execute_result"
    }
   ],
   "source": [
    "#pkg = mp.jupyter.open_package()\n",
    "pkg = mp.jupyter.open_source_package()\n",
    "pkg"
   ]
  },
  {
   "cell_type": "code",
   "execution_count": 3,
   "metadata": {},
   "outputs": [],
   "source": [
    "\n",
    "tz = datetime.datetime.now(datetime.timezone.utc).astimezone().tzinfo\n",
    "\n",
    "config = Config()\n",
    "ciq = CityIq(config, start_time='20180901')"
   ]
  },
  {
   "cell_type": "code",
   "execution_count": 4,
   "metadata": {},
   "outputs": [
    {
     "data": {
      "text/html": [
       "<div>\n",
       "<style scoped>\n",
       "    .dataframe tbody tr th:only-of-type {\n",
       "        vertical-align: middle;\n",
       "    }\n",
       "\n",
       "    .dataframe tbody tr th {\n",
       "        vertical-align: top;\n",
       "    }\n",
       "\n",
       "    .dataframe thead th {\n",
       "        text-align: right;\n",
       "    }\n",
       "</style>\n",
       "<table border=\"1\" class=\"dataframe\">\n",
       "  <thead>\n",
       "    <tr style=\"text-align: right;\">\n",
       "      <th></th>\n",
       "      <th>locationUid</th>\n",
       "      <th>locationType</th>\n",
       "      <th>parentLocationUid</th>\n",
       "      <th>geometry</th>\n",
       "    </tr>\n",
       "  </thead>\n",
       "  <tbody>\n",
       "    <tr>\n",
       "      <th>0</th>\n",
       "      <td>004361eb</td>\n",
       "      <td>WALKWAY</td>\n",
       "      <td>004361eb</td>\n",
       "      <td>LINESTRING (-117.1706148251287 32.726548905684...</td>\n",
       "    </tr>\n",
       "    <tr>\n",
       "      <th>1</th>\n",
       "      <td>00456472</td>\n",
       "      <td>TRAFFIC_LANE</td>\n",
       "      <td>00456472</td>\n",
       "      <td>LINESTRING (-117.1705245131968 32.726558517207...</td>\n",
       "    </tr>\n",
       "    <tr>\n",
       "      <th>2</th>\n",
       "      <td>0051796c</td>\n",
       "      <td>WALKWAY</td>\n",
       "      <td>0051796c</td>\n",
       "      <td>LINESTRING (-117.1666581391174 32.722214661862...</td>\n",
       "    </tr>\n",
       "    <tr>\n",
       "      <th>3</th>\n",
       "      <td>00537bf3</td>\n",
       "      <td>TRAFFIC_LANE</td>\n",
       "      <td>00537bf3</td>\n",
       "      <td>LINESTRING (-117.166581746989 32.7222178855665...</td>\n",
       "    </tr>\n",
       "    <tr>\n",
       "      <th>4</th>\n",
       "      <td>005f90ed</td>\n",
       "      <td>WALKWAY</td>\n",
       "      <td>005f90ed</td>\n",
       "      <td>LINESTRING (-117.1665182431566 32.723810889902...</td>\n",
       "    </tr>\n",
       "  </tbody>\n",
       "</table>\n",
       "</div>"
      ],
      "text/plain": [
       "  locationUid  locationType parentLocationUid  \\\n",
       "0    004361eb       WALKWAY          004361eb   \n",
       "1    00456472  TRAFFIC_LANE          00456472   \n",
       "2    0051796c       WALKWAY          0051796c   \n",
       "3    00537bf3  TRAFFIC_LANE          00537bf3   \n",
       "4    005f90ed       WALKWAY          005f90ed   \n",
       "\n",
       "                                            geometry  \n",
       "0  LINESTRING (-117.1706148251287 32.726548905684...  \n",
       "1  LINESTRING (-117.1705245131968 32.726558517207...  \n",
       "2  LINESTRING (-117.1666581391174 32.722214661862...  \n",
       "3  LINESTRING (-117.166581746989 32.7222178855665...  \n",
       "4  LINESTRING (-117.1665182431566 32.723810889902...  "
      ]
     },
     "execution_count": 4,
     "metadata": {},
     "output_type": "execute_result"
    }
   ],
   "source": [
    "locations = gpd.GeoDataFrame(ciq.locations_dataframe, geometry='geometry')\n",
    "assets = gpd.GeoDataFrame(ciq.asset_dataframe, geometry='geometry')\n",
    "\n",
    "locations.head()"
   ]
  },
  {
   "cell_type": "code",
   "execution_count": 6,
   "metadata": {},
   "outputs": [
    {
     "data": {
      "text/plain": [
       "6616"
      ]
     },
     "execution_count": 6,
     "metadata": {},
     "output_type": "execute_result"
    }
   ],
   "source": [
    "len(locations)"
   ]
  },
  {
   "cell_type": "code",
   "execution_count": 7,
   "metadata": {},
   "outputs": [
    {
     "data": {
      "text/html": [
       "<div>\n",
       "<style scoped>\n",
       "    .dataframe tbody tr th:only-of-type {\n",
       "        vertical-align: middle;\n",
       "    }\n",
       "\n",
       "    .dataframe tbody tr th {\n",
       "        vertical-align: top;\n",
       "    }\n",
       "\n",
       "    .dataframe thead th {\n",
       "        text-align: right;\n",
       "    }\n",
       "</style>\n",
       "<table border=\"1\" class=\"dataframe\">\n",
       "  <thead>\n",
       "    <tr style=\"text-align: right;\">\n",
       "      <th></th>\n",
       "      <th>assetUid</th>\n",
       "      <th>assetType</th>\n",
       "      <th>parentAssetUid</th>\n",
       "      <th>mediaType</th>\n",
       "      <th>events</th>\n",
       "      <th>geometry</th>\n",
       "    </tr>\n",
       "  </thead>\n",
       "  <tbody>\n",
       "    <tr>\n",
       "      <th>0</th>\n",
       "      <td>000223ee-a868-474b-abcb-12ff1bad00a3</td>\n",
       "      <td>CAMERA</td>\n",
       "      <td>131d67b7-daaf-4252-9202-5df347a6c2a3</td>\n",
       "      <td>IMAGE,VIDEO</td>\n",
       "      <td></td>\n",
       "      <td>POINT (-117.1600173 32.71143062)</td>\n",
       "    </tr>\n",
       "    <tr>\n",
       "      <th>1</th>\n",
       "      <td>0002e3bb-5a9a-4083-9a96-fad0d22877b9</td>\n",
       "      <td>MIC</td>\n",
       "      <td>e8beafbf-7836-48c3-bb14-440970eecd6d</td>\n",
       "      <td>AUDIO</td>\n",
       "      <td></td>\n",
       "      <td>POINT (-117.1493049 32.70997207)</td>\n",
       "    </tr>\n",
       "    <tr>\n",
       "      <th>2</th>\n",
       "      <td>0003806e-e409-449f-aab1-fc95f6e88d4e</td>\n",
       "      <td>CAMERA</td>\n",
       "      <td>f91ec557-f03e-4189-8b83-5aa8d28fbf14</td>\n",
       "      <td>IMAGE,VIDEO</td>\n",
       "      <td></td>\n",
       "      <td>POINT (-117.1566029 32.70934863)</td>\n",
       "    </tr>\n",
       "    <tr>\n",
       "      <th>3</th>\n",
       "      <td>000a4ac7-224b-4fb7-a2e2-cd0592d2b2de</td>\n",
       "      <td>CAMERA</td>\n",
       "      <td>741ce488-72fa-4216-a65d-216f7bdf8b7d</td>\n",
       "      <td>IMAGE,VIDEO</td>\n",
       "      <td></td>\n",
       "      <td>POINT (-117.148666 32.71585673)</td>\n",
       "    </tr>\n",
       "    <tr>\n",
       "      <th>4</th>\n",
       "      <td>000b2365-5309-422a-9be6-1b7127ca18db</td>\n",
       "      <td>NODE</td>\n",
       "      <td>None</td>\n",
       "      <td>None</td>\n",
       "      <td></td>\n",
       "      <td>POINT (-117.264282290807 32.8105285177251)</td>\n",
       "    </tr>\n",
       "  </tbody>\n",
       "</table>\n",
       "</div>"
      ],
      "text/plain": [
       "                               assetUid assetType  \\\n",
       "0  000223ee-a868-474b-abcb-12ff1bad00a3    CAMERA   \n",
       "1  0002e3bb-5a9a-4083-9a96-fad0d22877b9       MIC   \n",
       "2  0003806e-e409-449f-aab1-fc95f6e88d4e    CAMERA   \n",
       "3  000a4ac7-224b-4fb7-a2e2-cd0592d2b2de    CAMERA   \n",
       "4  000b2365-5309-422a-9be6-1b7127ca18db      NODE   \n",
       "\n",
       "                         parentAssetUid    mediaType events  \\\n",
       "0  131d67b7-daaf-4252-9202-5df347a6c2a3  IMAGE,VIDEO          \n",
       "1  e8beafbf-7836-48c3-bb14-440970eecd6d        AUDIO          \n",
       "2  f91ec557-f03e-4189-8b83-5aa8d28fbf14  IMAGE,VIDEO          \n",
       "3  741ce488-72fa-4216-a65d-216f7bdf8b7d  IMAGE,VIDEO          \n",
       "4                                  None         None          \n",
       "\n",
       "                                     geometry  \n",
       "0            POINT (-117.1600173 32.71143062)  \n",
       "1            POINT (-117.1493049 32.70997207)  \n",
       "2            POINT (-117.1566029 32.70934863)  \n",
       "3             POINT (-117.148666 32.71585673)  \n",
       "4  POINT (-117.264282290807 32.8105285177251)  "
      ]
     },
     "execution_count": 7,
     "metadata": {},
     "output_type": "execute_result"
    }
   ],
   "source": [
    "assets.head()"
   ]
  },
  {
   "cell_type": "code",
   "execution_count": 8,
   "metadata": {},
   "outputs": [
    {
     "data": {
      "text/plain": [
       "WALKWAY         2722\n",
       "TRAFFIC_LANE    2546\n",
       "PARKING_ZONE    1348\n",
       "Name: locationType, dtype: int64"
      ]
     },
     "execution_count": 8,
     "metadata": {},
     "output_type": "execute_result"
    }
   ],
   "source": [
    "locations.locationType.value_counts()"
   ]
  },
  {
   "cell_type": "code",
   "execution_count": 9,
   "metadata": {},
   "outputs": [
    {
     "data": {
      "text/plain": [
       "CAMERA        12360\n",
       "MIC            5615\n",
       "EM_SENSOR      3184\n",
       "NODE           2808\n",
       "ENV_SENSOR     2807\n",
       "Name: assetType, dtype: int64"
      ]
     },
     "execution_count": 9,
     "metadata": {},
     "output_type": "execute_result"
    }
   ],
   "source": [
    "assets.assetType.value_counts()"
   ]
  },
  {
   "cell_type": "code",
   "execution_count": 10,
   "metadata": {},
   "outputs": [
    {
     "name": "stdout",
     "output_type": "stream",
     "text": [
      "/Users/eric/proj/virt-proj/data-project/sdrdl-data-projects/sandiego.gov/sandiego.gov-cityiq_assets/notebooks\r\n"
     ]
    }
   ],
   "source": [
    "!pwd\n"
   ]
  },
  {
   "cell_type": "code",
   "execution_count": null,
   "metadata": {},
   "outputs": [],
   "source": []
  }
 ],
 "metadata": {
  "kernelspec": {
   "display_name": "Python 3",
   "language": "python",
   "name": "python3"
  },
  "language_info": {
   "codemirror_mode": {
    "name": "ipython",
    "version": 3
   },
   "file_extension": ".py",
   "mimetype": "text/x-python",
   "name": "python",
   "nbconvert_exporter": "python",
   "pygments_lexer": "ipython3",
   "version": "3.6.0"
  }
 },
 "nbformat": 4,
 "nbformat_minor": 2
}
