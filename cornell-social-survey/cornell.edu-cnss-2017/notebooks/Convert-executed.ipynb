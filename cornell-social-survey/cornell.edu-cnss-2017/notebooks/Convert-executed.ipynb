{
 "cells": [
  {
   "cell_type": "code",
   "execution_count": 1,
   "metadata": {
    "": true,
    "prolog": true
   },
   "outputs": [],
   "source": [
    "#2018-08-24 12:57:28.637050\n",
    "%load_ext metapack.jupyter.magic"
   ]
  },
  {
   "cell_type": "code",
   "execution_count": 2,
   "metadata": {
    "": true,
    "prolog": true
   },
   "outputs": [],
   "source": [
    "CACHE_DIR='/Users/eric/Library/Application Support/metapack/'\n",
    "RESOURCE_NAME='cnss_2017'\n",
    "RESOLVED_URL='file:///Users/eric/proj/virt-proj/data-project/sdrdl-data-projects/cornell-social-survey/cornell.edu-cnss-2017/notebooks/Convert.ipynb#df'\n",
    "WORKING_DIR='/Users/eric/proj/virt-proj/data-project/sdrdl-data-projects/cornell-social-survey/cornell.edu-cnss-2017'\n",
    "METATAB_DOC='metapack+file:///Users/eric/proj/virt-proj/data-project/sdrdl-data-projects/cornell-social-survey/cornell.edu-cnss-2017/metadata.csv'\n",
    "METATAB_WORKING_DIR='/Users/eric/proj/virt-proj/data-project/sdrdl-data-projects/cornell-social-survey/cornell.edu-cnss-2017'\n",
    "METATAB_PACKAGE='metapack+file:///Users/eric/proj/virt-proj/data-project/sdrdl-data-projects/cornell-social-survey/cornell.edu-cnss-2017/'\n",
    "name='cnss_2017'\n",
    "description='CNSS 2017, with categorical values'\n",
    "url='notebooks/Convert.ipynb#df'"
   ]
  },
  {
   "cell_type": "code",
   "execution_count": 3,
   "metadata": {
    "": true,
    "prolog": true
   },
   "outputs": [],
   "source": [
    "METAPACK_BUILDING=True"
   ]
  },
  {
   "cell_type": "code",
   "execution_count": 4,
   "metadata": {},
   "outputs": [],
   "source": [
    "import matplotlib.pyplot as plt \n",
    "import metapack as mp\n",
    "import pandas as pd\n",
    "import numpy as np\n",
    "import seaborn as sns\n",
    "sns.set(color_codes=True)\n",
    "%matplotlib inline"
   ]
  },
  {
   "cell_type": "code",
   "execution_count": 5,
   "metadata": {},
   "outputs": [
    {
     "name": "stdout",
     "output_type": "stream",
     "text": [
      "The metapack.jupyter.magic extension is already loaded. To reload it, use:\n",
      "  %reload_ext metapack.jupyter.magic\n"
     ]
    }
   ],
   "source": [
    "%load_ext metapack.jupyter.magic"
   ]
  },
  {
   "cell_type": "code",
   "execution_count": 6,
   "metadata": {},
   "outputs": [
    {
     "data": {
      "text/html": [
       "<h2>Cornell National Social Survey (CNSS), 2017</h2>\n",
       "<p><p><em>Cornell National Social Survey is a random-sample survey of adults aged 18 and over. In 2017, participants were asked their opinions on a range of topics.</em></p>\n",
       "<p><small>cornell.edu-cnss-2017-1 from metapack+file:///Users/eric/proj/virt-proj/data-project/sdrdl-data-projects/cornell-social-survey/cornell.edu-cnss-2017/metadata.csv</small></p></p>\n",
       "<p>To use this package, you will have to download the research file manually,\n",
       "placing the file in the data directory. Cornell requires you to accept terms\n",
       "and conditions before downloading the file, so we can't redistribute it.</p>\n",
       "<p>I used Stat Transfer to convert the SPSS file to Stata, but there is one\n",
       "variable, KRq1, \"Number of Dogs Owned\", that StatTransfer converts with\n",
       "duplicate labels.</p>\n",
       "<h3>Documentation</h3>\n",
       "<ul>\n",
       "<li><strong><a href=\"https://cisermgmt.cornell.edu/go/PHPs/rsch_downloadPUB.php?COMPDL=pub/034/cnss2017_Codebook.pdf.zip&amp;IDTITLE=2805&amp;PERMLEVEL=0\">Codebook</a></strong> None</li>\n",
       "<li><strong><a href=\"https://cisermgmt.cornell.edu/go/PHPs/rsch_downloadPUB.php?COMPDL=pub/034/Results_and_Citation_Guidelines.pdf.zip&amp;IDTITLE=2805&amp;PERMLEVEL=0\">Results and Citation Guidelines</a></strong> None</li>\n",
       "</ul>\n",
       "<h3>Contacts</h3>\n",
       "<p><strong>Wrangler:</strong> <a href=\"mailto:eric@civicknowledge.com\">Eric Busboom</a> <a href=\"http://civicknowledge.com\">Civic Knowledge</a></p>\n",
       "<h3>Resources</h3>\n",
       "<p><ol>\n",
       "<li><p><a target=\"_blank\" href=\"file:///Users/eric/proj/virt-proj/data-project/sdrdl-data-projects/cornell-social-survey/cornell.edu-cnss-2017/notebooks/Convert.ipynb#df\"><strong>cnss_2017</strong></a> CNSS 2017, with categorical values</p></li></p>\n",
       "</ol>\n",
       "\n",
       "<h3>References</h3>\n",
       "<p><ol>\n",
       "<li><p><a target=\"_blank\" href=\"file:///Users/eric/proj/virt-proj/data-project/sdrdl-data-projects/cornell-social-survey/cornell.edu-cnss-2017/data/cnss2017.dta\"><strong>cnss_2017</strong></a> Cornell National Social Survey 2017, in converted Stata forma</p></li></p>\n",
       "</ol>"
      ],
      "text/plain": [
       "<metapack.doc.MetapackDoc at 0x10ad992e8>"
      ]
     },
     "execution_count": 6,
     "metadata": {},
     "output_type": "execute_result"
    }
   ],
   "source": [
    "pkg = mp.jupyter.open_source_package()\n",
    "pkg\n"
   ]
  },
  {
   "cell_type": "code",
   "execution_count": 7,
   "metadata": {},
   "outputs": [],
   "source": [
    "fp = pkg.reference('cnss_2017').resolved_url.fspath\n"
   ]
  },
  {
   "cell_type": "code",
   "execution_count": 8,
   "metadata": {},
   "outputs": [
    {
     "data": {
      "text/html": [
       "<div>\n",
       "<style scoped>\n",
       "    .dataframe tbody tr th:only-of-type {\n",
       "        vertical-align: middle;\n",
       "    }\n",
       "\n",
       "    .dataframe tbody tr th {\n",
       "        vertical-align: top;\n",
       "    }\n",
       "\n",
       "    .dataframe thead th {\n",
       "        text-align: right;\n",
       "    }\n",
       "</style>\n",
       "<table border=\"1\" class=\"dataframe\">\n",
       "  <thead>\n",
       "    <tr style=\"text-align: right;\">\n",
       "      <th></th>\n",
       "      <th>caseid</th>\n",
       "      <th>survid</th>\n",
       "      <th>timezone</th>\n",
       "      <th>state</th>\n",
       "      <th>msa</th>\n",
       "      <th>msc</th>\n",
       "      <th>censusr</th>\n",
       "      <th>censusd</th>\n",
       "      <th>cbsamsa</th>\n",
       "      <th>cbsamcsa</th>\n",
       "      <th>...</th>\n",
       "      <th>RACE_E</th>\n",
       "      <th>numraces</th>\n",
       "      <th>relig</th>\n",
       "      <th>church</th>\n",
       "      <th>hhince</th>\n",
       "      <th>hhinc50k</th>\n",
       "      <th>hhincu</th>\n",
       "      <th>hhinco</th>\n",
       "      <th>hhinc</th>\n",
       "      <th>gender</th>\n",
       "    </tr>\n",
       "  </thead>\n",
       "  <tbody>\n",
       "    <tr>\n",
       "      <th>0</th>\n",
       "      <td>80007</td>\n",
       "      <td>80007</td>\n",
       "      <td>C</td>\n",
       "      <td>TX</td>\n",
       "      <td>2920</td>\n",
       "      <td>1</td>\n",
       "      <td>3</td>\n",
       "      <td>7</td>\n",
       "      <td>3</td>\n",
       "      <td>5</td>\n",
       "      <td>...</td>\n",
       "      <td>No</td>\n",
       "      <td>1.0</td>\n",
       "      <td>No religion / Atheist / Agnostic</td>\n",
       "      <td>A few times a year</td>\n",
       "      <td>NaN</td>\n",
       "      <td>$50,000 or over</td>\n",
       "      <td>NaN</td>\n",
       "      <td>$150,000 or more</td>\n",
       "      <td>$150,000 or more</td>\n",
       "      <td>Male</td>\n",
       "    </tr>\n",
       "    <tr>\n",
       "      <th>1</th>\n",
       "      <td>80027</td>\n",
       "      <td>80027</td>\n",
       "      <td>C</td>\n",
       "      <td>AL</td>\n",
       "      <td></td>\n",
       "      <td>5</td>\n",
       "      <td>3</td>\n",
       "      <td>6</td>\n",
       "      <td>5</td>\n",
       "      <td>1</td>\n",
       "      <td>...</td>\n",
       "      <td>No</td>\n",
       "      <td>1.0</td>\n",
       "      <td>Protestant</td>\n",
       "      <td>A few times a year</td>\n",
       "      <td>NaN</td>\n",
       "      <td>$50,000 or over</td>\n",
       "      <td>NaN</td>\n",
       "      <td>50 to under $75,000</td>\n",
       "      <td>50 to under $75,000</td>\n",
       "      <td>Female</td>\n",
       "    </tr>\n",
       "    <tr>\n",
       "      <th>2</th>\n",
       "      <td>80029</td>\n",
       "      <td>80029</td>\n",
       "      <td>C</td>\n",
       "      <td>LA</td>\n",
       "      <td>5560</td>\n",
       "      <td>3</td>\n",
       "      <td>3</td>\n",
       "      <td>7</td>\n",
       "      <td>3</td>\n",
       "      <td>5</td>\n",
       "      <td>...</td>\n",
       "      <td>No</td>\n",
       "      <td>1.0</td>\n",
       "      <td>Catholic</td>\n",
       "      <td>A few times a year</td>\n",
       "      <td>196000</td>\n",
       "      <td>NaN</td>\n",
       "      <td>NaN</td>\n",
       "      <td>NaN</td>\n",
       "      <td>$150,000 or more</td>\n",
       "      <td>Male</td>\n",
       "    </tr>\n",
       "    <tr>\n",
       "      <th>3</th>\n",
       "      <td>80037</td>\n",
       "      <td>80037</td>\n",
       "      <td>C</td>\n",
       "      <td>IN</td>\n",
       "      <td></td>\n",
       "      <td>5</td>\n",
       "      <td>2</td>\n",
       "      <td>3</td>\n",
       "      <td>5</td>\n",
       "      <td>1</td>\n",
       "      <td>...</td>\n",
       "      <td>No</td>\n",
       "      <td>1.0</td>\n",
       "      <td>No religion / Atheist / Agnostic</td>\n",
       "      <td>Never</td>\n",
       "      <td>75000</td>\n",
       "      <td>NaN</td>\n",
       "      <td>NaN</td>\n",
       "      <td>NaN</td>\n",
       "      <td>75 to under $100,000</td>\n",
       "      <td>Male</td>\n",
       "    </tr>\n",
       "    <tr>\n",
       "      <th>4</th>\n",
       "      <td>80041</td>\n",
       "      <td>80041</td>\n",
       "      <td>C</td>\n",
       "      <td>MO</td>\n",
       "      <td>3760</td>\n",
       "      <td>1</td>\n",
       "      <td>2</td>\n",
       "      <td>4</td>\n",
       "      <td>1</td>\n",
       "      <td>5</td>\n",
       "      <td>...</td>\n",
       "      <td>No</td>\n",
       "      <td>1.0</td>\n",
       "      <td>No religion / Atheist / Agnostic</td>\n",
       "      <td>Never</td>\n",
       "      <td>60000</td>\n",
       "      <td>NaN</td>\n",
       "      <td>NaN</td>\n",
       "      <td>NaN</td>\n",
       "      <td>50 to under $75,000</td>\n",
       "      <td>Female</td>\n",
       "    </tr>\n",
       "  </tbody>\n",
       "</table>\n",
       "<p>5 rows × 113 columns</p>\n",
       "</div>"
      ],
      "text/plain": [
       "   caseid survid timezone state   msa msc censusr censusd cbsamsa cbsamcsa  \\\n",
       "0   80007  80007        C    TX  2920   1       3       7       3        5   \n",
       "1   80027  80027        C    AL         5       3       6       5        1   \n",
       "2   80029  80029        C    LA  5560   3       3       7       3        5   \n",
       "3   80037  80037        C    IN         5       2       3       5        1   \n",
       "4   80041  80041        C    MO  3760   1       2       4       1        5   \n",
       "\n",
       "    ...   RACE_E numraces                             relig  \\\n",
       "0   ...       No      1.0  No religion / Atheist / Agnostic   \n",
       "1   ...       No      1.0                        Protestant   \n",
       "2   ...       No      1.0                          Catholic   \n",
       "3   ...       No      1.0  No religion / Atheist / Agnostic   \n",
       "4   ...       No      1.0  No religion / Atheist / Agnostic   \n",
       "\n",
       "               church  hhince         hhinc50k hhincu               hhinco  \\\n",
       "0  A few times a year     NaN  $50,000 or over    NaN     $150,000 or more   \n",
       "1  A few times a year     NaN  $50,000 or over    NaN  50 to under $75,000   \n",
       "2  A few times a year  196000              NaN    NaN                  NaN   \n",
       "3               Never   75000              NaN    NaN                  NaN   \n",
       "4               Never   60000              NaN    NaN                  NaN   \n",
       "\n",
       "                  hhinc  gender  \n",
       "0      $150,000 or more    Male  \n",
       "1   50 to under $75,000  Female  \n",
       "2      $150,000 or more    Male  \n",
       "3  75 to under $100,000    Male  \n",
       "4   50 to under $75,000  Female  \n",
       "\n",
       "[5 rows x 113 columns]"
      ]
     },
     "execution_count": 8,
     "metadata": {},
     "output_type": "execute_result"
    }
   ],
   "source": [
    "# The variable KRq1, Number of Dogs, has a duplicate label problem when the file is converted with StatTransfer; \n",
    "# StatTransfer seperates out the number from the text \"dogs\", and pandas\n",
    "# interprets this as multiple labels with the value \"dogs\". The easiest way to\n",
    "# handle this is to remove the variable. \n",
    "\n",
    "itr = pd.read_stata(fp, iterator=True)\n",
    "\n",
    "columns = list(itr.varlist)\n",
    "columns.remove('KRq1')\n",
    "\n",
    "df = pd.read_stata('../data/cnss2017.dta', columns = columns)\n",
    "df.labels = dict(itr.variable_labels()) # Store variable labels as a dict\n",
    "df.head()\n",
    "\n",
    "\n"
   ]
  },
  {
   "cell_type": "code",
   "execution_count": 9,
   "metadata": {
    "scrolled": false
   },
   "outputs": [
    {
     "name": "stdout",
     "output_type": "stream",
     "text": [
      "caseid\tCase identification number (assigned by SRI)\n",
      "survid\tCase identification number (assigned by SRI)\n",
      "timezone\tTime zone (provided by MSG)\n",
      "state\tState (provided by MSG)\n",
      "msa\tMetropolitan Statistical Area (provided by MSG)\n",
      "msc\tMetropolitan Status Code (provided by MSG)\n",
      "censusr\tCensus Region (provided by MSG)\n",
      "censusd\tCensus Division (provided by MSG)\n",
      "cbsamsa\tCBSA MSA Met Status Code (provided by MSG)\n",
      "cbsamcsa\tCBSA MCSA Met Status Code (provided by MSG)\n",
      "AHq1\tCollege degrees for prisoners\n",
      "AHq2\tState funded college for prisoners\n",
      "AHq3\tPrisoners should repay education costs\n",
      "KENq1\tCountry needs strong leader\n",
      "KENq2\tCourts get in way of leaders\n",
      "KENq3\tMedia get in way of leaders\n",
      "JS_version\tRandomized text within JSq1\n",
      "JSq1\tContraceptive policy under Trump\n",
      "LCq1\tChina rise a threat or opportunity\n",
      "SKq1\tMens rights participant\n",
      "SKq2_a\tRed pill - Heard of term\n",
      "SKq2_b\tAlt right - Heard of term\n",
      "SKq3\tMen should be alpha\n",
      "JBq1\tResource to find new surgeon\n",
      "JBq2\tUsed internet to find physician\n",
      "JBq3\tHelpfulness of internet w/ finding physician\n",
      "RVq1\t# of healthcare visits in the past year\n",
      "RVq2\tRate customer service last healthcare visit\n",
      "RVq3\tMost urgent healthcare issue\n",
      "RVq4\tEmployer offers wellness program\n",
      "RVq5\tDescribe workplace wellness program\n",
      "RVq6\tRate workplace wellness program\n",
      "JAq1\tTeen access to patient portal\n",
      "rq_seq_i\tJAq2, JAq3 - Sequence Index Variable\n",
      "JAq2_rq\tParent access teen medical record\n",
      "JAq3_rq\tSensitive issue avoidance if parent views record\n",
      "PDq1\tCosmetic or health reasons - Bariatric surgery\n",
      "PDq2\tQuick fix - Bariatric surgery\n",
      "PDq3\tShould insurance cover - Bariatric surgery\n",
      "KRq2\tCanine clinical study interest\n",
      "MMq1\tAware of bee health concern\n",
      "MMq2\tPersonal concern about bee health\n",
      "MMq3\tProduce protecting bees - Pay more\n",
      "MMq4\tOrganic food - Pay more\n",
      "RIq1\tWhat do antibiotics kill\n",
      "RIq2\tCow antibiotics threaten human health\n",
      "RIq3\tMilk without antibiotics - Pay more\n",
      "RIq4\tCow treatment on conventional/organic farms\n",
      "SZq1\tAttractive natural sights - Neighborhood\n",
      "SZq2\tPeople look out for each other - Neighborhood\n",
      "SZq3\tMental health a priority - Community\n",
      "SZq4\tSufficient mental health services - Community\n",
      "SZq5\tPhysical environment impacts mental health\n",
      "EBq1\tWorry about crime - Workplace\n",
      "EBq2\tWorry about crime - Neighborhood\n",
      "EBq3\tRecidivism due to criminal record\n",
      "DRUGq1\tMarijuana legalization\n",
      "MFq1\tRate distraction at work\n",
      "MFq2\tWork from home frequency\n",
      "SSq1\tHomework completion rate in high school\n",
      "KWq1_a\tWork harassment - Experienced\n",
      "KWq1_b\tDomestic violence - Experienced\n",
      "KWq2\tExperience w/ violence impacted work\n",
      "SKq4\tHarder for men to be successful\n",
      "SKq5\tMen should protect women\n",
      "SKq6\tFeminism good or bad for America\n",
      "EYCq1\tAsked to do favor outside of work\n",
      "EYCq2\tWho asked for favor outside of work\n",
      "EYCq3\tTime spent doing favor outside of work\n",
      "EYCq4\tRules about doing favors outside of work\n",
      "LVq1_a\tRestless - Past 30 days\n",
      "LVq1_b\tEverything an effort - Past 30 days\n",
      "MJq1\tUndocumented farmworkers community impact\n",
      "IDq1\tOccupational category\n",
      "IDq2\tLabor union member\n",
      "IDq3\tVoted in 2016 presidential election\n",
      "IDq4\tElected officials represent the rich\n",
      "IDq5\tMinorities get government advantages\n",
      "employ\tEmployed\n",
      "jbtype\tMain job type\n",
      "selfempl\tSelf-employed\n",
      "lkwork\tLooking for new work\n",
      "LVq2_a\tPerformance raise - Eligible at work\n",
      "LVq2_b\tPerformance bonus - Eligible at work\n",
      "HHSIZE_A\t# adults 65+ in household\n",
      "HHSIZE_B\t# adults 18-64 in household\n",
      "HHSIZE_C\t# children in household\n",
      "hhadults\t\n",
      "ph_totl\t# phones for household\n",
      "ph_cell\tCell/Landline for survey\n",
      "yob\tYear born\n",
      "age\tAge (computed from yob)\n",
      "borninus\tBorn in US\n",
      "married\tMarital status\n",
      "ideo\tSocial ideology\n",
      "party\tPolitical party\n",
      "educ\tEducation level\n",
      "ownrent\tHome ownership status\n",
      "hisp\tHispanic or Latino\n",
      "RACE_A\tCaucasian - Race\n",
      "RACE_B\tAfrican-American - Race\n",
      "RACE_C\tNative American - Race\n",
      "RACE_D\tAsian - Race\n",
      "RACE_E\tOther - Race\n",
      "numraces\t\n",
      "relig\tReligious affiliation\n",
      "church\tHow often attend religious services\n",
      "hhince\tExact household income 2016\n",
      "hhinc50k\tOver/Under $50k - Household income 2016\n",
      "hhincu\tRange under $50k - Household income 2016\n",
      "hhinco\tRange over $50k - Household income 2016\n",
      "hhinc\tHousehold income 2016 - Coded value\n",
      "gender\tGender\n"
     ]
    }
   ],
   "source": [
    "print('\\n'.join( '{}\\t{}'.format(k,v) for k,v in df.labels.items() if k != 'KRq1')  )"
   ]
  },
  {
   "cell_type": "code",
   "execution_count": 10,
   "metadata": {},
   "outputs": [],
   "source": []
  },
  {
   "cell_type": "code",
   "execution_count": 10,
   "metadata": {
    "epilog": true,
    "mt_dataframes": true
   },
   "outputs": [
    {
     "name": "stdout",
     "output_type": "stream",
     "text": [
      "{\n",
      "    \"df_name\": \"df\",\n",
      "    \"path\": \"/Users/eric/Library/Application Support/metapack/_materialized_data/cornell.edu-cnss-2017-1/df.csv\"\n",
      "}\n"
     ]
    }
   ],
   "source": [
    "%mt_materialize df '/Users/eric/Library/Application Support/metapack/_materialized_data/cornell.edu-cnss-2017-1' "
   ]
  },
  {
   "cell_type": "code",
   "execution_count": 11,
   "metadata": {
    "epilog": true,
    "mt_materialize": true
   },
   "outputs": [
    {
     "name": "stdout",
     "output_type": "stream",
     "text": [
      "[]\n"
     ]
    }
   ],
   "source": [
    "\n",
    "%mt_materialize_all '/Users/eric/Library/Application Support/metapack/_materialized_data/cornell.edu-cnss-2017-1'\n"
   ]
  },
  {
   "cell_type": "code",
   "execution_count": 12,
   "metadata": {
    "epilog": true,
    "mt_final_metatab": true
   },
   "outputs": [
    {
     "name": "stdout",
     "output_type": "stream",
     "text": [
      "Declare: metatab-latest\n",
      "Section: Resources\n"
     ]
    }
   ],
   "source": [
    "\n",
    "%mt_show_metatab\n",
    "\n"
   ]
  },
  {
   "cell_type": "code",
   "execution_count": 13,
   "metadata": {
    "epilog": true,
    "mt_show_libdirs": true
   },
   "outputs": [
    {
     "name": "stdout",
     "output_type": "stream",
     "text": [
      "[]\n"
     ]
    }
   ],
   "source": [
    "\n",
    "%mt_show_libdirs\n",
    "\n"
   ]
  }
 ],
 "metadata": {
  "kernelspec": {
   "display_name": "Python 3",
   "language": "python",
   "name": "python3"
  },
  "language_info": {
   "codemirror_mode": {
    "name": "ipython",
    "version": 3
   },
   "file_extension": ".py",
   "mimetype": "text/x-python",
   "name": "python",
   "nbconvert_exporter": "python",
   "pygments_lexer": "ipython3",
   "version": "3.6.0"
  }
 },
 "nbformat": 4,
 "nbformat_minor": 2
}
