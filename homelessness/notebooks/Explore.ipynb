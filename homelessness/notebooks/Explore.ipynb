{
 "cells": [
  {
   "cell_type": "code",
   "execution_count": 1,
   "metadata": {},
   "outputs": [],
   "source": [
    "import metapack as mp\n",
    "import rowgenerators as rg\n"
   ]
  },
  {
   "cell_type": "code",
   "execution_count": 2,
   "metadata": {},
   "outputs": [
    {
     "data": {
      "text/html": [
       "<h1>LA County Homeless Survey</h1>\n",
       "<p><code>economicrt.org-homeless_survey-2011e2017-2</code> Last Update: 2019-01-07T17:27:01</p>\n",
       "<p><em>Data from Demographic Surveys and HMIS Records 2011 to 2017</em></p>\n",
       "<p>This dataset consists of records of in-person surveys of homeless individuals in Los Angeles county, from 2011 to 2017, inclusive. </p>\n",
       "<h2>Versions</h2>\n",
       "<ol>\n",
       "<li>Initial Version</li>\n",
       "<li>Added schema descriptions</li>\n",
       "</ol>\n",
       "<h2>Documentation Links</h2>\n",
       "<ul>\n",
       "<li><a href=\"https://economicrt.org/wp-content/uploads/2018/08/Multi_Year_Codebook_2011_2017.docx\">Codebook</a> Codebook for Multi-Year Data Set</li>\n",
       "<li><a href=\"https://economicrt.org/wp-content/uploads/2018/08/2018-Methodology.pdf\">Methodology white paper</a> </li>\n",
       "<li><a href=\"https://economicrt.org/publication/los-angeles-county-homeless-count-data-library/\">Los Angeles County Homeless Count Data Library</a> Source records from Los Angeles continuum of care homeless counts, 2009 to 2017</li>\n",
       "</ul>\n",
       "<h2>Contacts</h2>\n",
       "<ul>\n",
       "<li><strong>Wrangler</strong> <a href=\"mailto:eric@civicknowledge.com\">Eric Busboom</a>, <a href=\"http://civicknowledge.com\">Civic Knowledge</a></li>\n",
       "</ul>\n",
       "<h2>Resources</h2>\n",
       "<ul>\n",
       "<li><strong> <a href=\"http://library.metatab.org/economicrt.org-homeless_survey-2011e2017-2/data/homeless_survey.csv\">homeless_survey</a></strong>. Homeless survey data, with recoded race, ethnicity, and sex</li>\n",
       "</ul>\n",
       "<h2>References</h2>\n",
       "<ul>\n",
       "<li><strong><a href=\"https://economicrt.org/wp-content/uploads/2018/08/Homelessness_Multi_Year_2011_2017.csv\">homeless_survey_source</a></strong>. Unprocessed Source file</li>\n",
       "</ul>"
      ],
      "text/plain": [
       "<metapack.doc.MetapackDoc at 0x1126508d0>"
      ]
     },
     "execution_count": 2,
     "metadata": {},
     "output_type": "execute_result"
    }
   ],
   "source": [
    "\n",
    "pkg = mp.open_package('http://library.metatab.org/economicrt.org-homeless_survey-2011e2017-2.csv')\n",
    "pkg"
   ]
  },
  {
   "cell_type": "code",
   "execution_count": 4,
   "metadata": {},
   "outputs": [],
   "source": [
    "hs = pkg.resource('homeless_survey').dataframe()"
   ]
  },
  {
   "cell_type": "code",
   "execution_count": 6,
   "metadata": {},
   "outputs": [
    {
     "data": {
      "text/plain": [
       "Sheltered 2013      14875\n",
       "Sheltered 2016      13690\n",
       "Sheltered 2015      12486\n",
       "Sheltered 2017      11397\n",
       "Unsheltered 2017     5807\n",
       "Unsheltered 2016     4851\n",
       "Unsheltered 2011     3592\n",
       "Unsheltered 2013     3268\n",
       "Unsheltered 2015     3187\n",
       "Name: survey_year, dtype: int64"
      ]
     },
     "execution_count": 6,
     "metadata": {},
     "output_type": "execute_result"
    }
   ],
   "source": [
    "hs.survey_year.value_counts()"
   ]
  },
  {
   "cell_type": "code",
   "execution_count": null,
   "metadata": {},
   "outputs": [],
   "source": []
  }
 ],
 "metadata": {
  "kernelspec": {
   "display_name": "Python 3",
   "language": "python",
   "name": "python3"
  },
  "language_info": {
   "codemirror_mode": {
    "name": "ipython",
    "version": 3
   },
   "file_extension": ".py",
   "mimetype": "text/x-python",
   "name": "python",
   "nbconvert_exporter": "python",
   "pygments_lexer": "ipython3",
   "version": "3.6.5"
  }
 },
 "nbformat": 4,
 "nbformat_minor": 2
}
