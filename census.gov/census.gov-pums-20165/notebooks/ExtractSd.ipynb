{
 "cells": [
  {
   "cell_type": "code",
   "execution_count": 1,
   "metadata": {},
   "outputs": [],
   "source": [
    "import seaborn as sns\n",
    "import metapack as mp\n",
    "import pandas as pd\n",
    "import numpy as np\n",
    "import matplotlib.pyplot as plt\n",
    "from IPython.display import display \n",
    "\n",
    "%matplotlib inline\n",
    "sns.set_context('notebook')\n"
   ]
  },
  {
   "cell_type": "code",
   "execution_count": 2,
   "metadata": {},
   "outputs": [
    {
     "data": {
      "text/html": [
       "<h1>San Diego PUMS</h1>\n",
       "<p><code>census.gov-pums-20165-1</code> Last Update: 2018-11-29T05:13:44</p>\n",
       "<p><em>PUMS Housing and personal records for San Diego county.</em></p>\n",
       "<h2>Documentation Links</h2>\n",
       "<ul>\n",
       "<li><a href=\"https://www2.census.gov/programs-surveys/acs/tech_docs/pums/data_dict/PUMS_Data_Dictionary_2012-2016.pdf?#\">data_dictionary_20165</a> 2012-2016 ACS PUMS DATA DICTIONARY</li>\n",
       "<li><a href=\"https://www.census.gov/programs-surveys/acs/data/pums.html\">data_download</a> Data download page</li>\n",
       "</ul>\n",
       "<h2>Contacts</h2>\n",
       "<ul>\n",
       "<li><strong>Wrangler</strong> <a href=\"mailto:eric@civicknowledge.com\">Eric Busboom</a>, <a href=\"http://civicknowledge.com\">Civic Knowledge</a></li>\n",
       "</ul>\n",
       "<h2>References</h2>\n",
       "<ul>\n",
       "<li><strong><a href=\"https://www2.census.gov/programs-surveys/acs/data/pums/2016/5-Year/csv_pca.zip#ss16pca.csv\">pums_ca_pop</a></strong>. California population  PUMS</li>\n",
       "<li><strong><a href=\"https://www2.census.gov/programs-surveys/acs/data/pums/2016/5-Year/csv_hca.zip#ss16hca.csv\">pums_ca_house</a></strong>. California housing  PUMS</li>\n",
       "<li><strong><a href=\"data/sd_county_pums.csv\">sd_pums</a></strong>. San Diego County PUMS numbers and boundaries</li>\n",
       "</ul>"
      ],
      "text/plain": [
       "<metapack.doc.MetapackDoc at 0x11cc74d68>"
      ]
     },
     "execution_count": 2,
     "metadata": {},
     "output_type": "execute_result"
    }
   ],
   "source": [
    "#pkg = mp.jupyter.open_package()\n",
    "pkg = mp.jupyter.open_source_package()\n",
    "pkg"
   ]
  },
  {
   "cell_type": "code",
   "execution_count": 3,
   "metadata": {},
   "outputs": [],
   "source": [
    "pums = pkg.reference('sd_pums').dataframe()\n",
    "sdc_pums = list(pums[pums.GEOID10.astype('str').str.startswith('6073')].PUMACE10)"
   ]
  },
  {
   "cell_type": "code",
   "execution_count": 4,
   "metadata": {},
   "outputs": [],
   "source": [
    "df = pkg.reference('pums_ca_pop').dataframe()"
   ]
  },
  {
   "cell_type": "code",
   "execution_count": 5,
   "metadata": {},
   "outputs": [
    {
     "data": {
      "text/plain": [
       "145525"
      ]
     },
     "execution_count": 5,
     "metadata": {},
     "output_type": "execute_result"
    }
   ],
   "source": [
    "# Get the records that are in San Diego county0\n",
    "df_sd_pop=df[df.PUMA.isin(sdc_pums)]\n",
    "len(df_sd_pop)"
   ]
  },
  {
   "cell_type": "code",
   "execution_count": 6,
   "metadata": {},
   "outputs": [],
   "source": [
    "df = pkg.reference('pums_ca_house').dataframe()"
   ]
  },
  {
   "cell_type": "code",
   "execution_count": 7,
   "metadata": {},
   "outputs": [
    {
     "data": {
      "text/plain": [
       "62308"
      ]
     },
     "execution_count": 7,
     "metadata": {},
     "output_type": "execute_result"
    }
   ],
   "source": [
    "# Get the records that are in San Diego county\n",
    "df_sd_house=df[df.PUMA.isin(sdc_pums)]\n",
    "len(df_sd_house)"
   ]
  }
 ],
 "metadata": {
  "kernelspec": {
   "display_name": "Python 3",
   "language": "python",
   "name": "python3"
  },
  "language_info": {
   "codemirror_mode": {
    "name": "ipython",
    "version": 3
   },
   "file_extension": ".py",
   "mimetype": "text/x-python",
   "name": "python",
   "nbconvert_exporter": "python",
   "pygments_lexer": "ipython3",
   "version": "3.6.0"
  }
 },
 "nbformat": 4,
 "nbformat_minor": 2
}
