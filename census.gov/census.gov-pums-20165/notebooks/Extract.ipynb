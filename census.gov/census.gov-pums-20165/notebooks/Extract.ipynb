{
 "cells": [
  {
   "cell_type": "code",
   "execution_count": 1,
   "metadata": {},
   "outputs": [],
   "source": [
    "import seaborn as sns\n",
    "import metapack as mp\n",
    "import pandas as pd\n",
    "import numpy as np\n",
    "import matplotlib.pyplot as plt\n",
    "from IPython.display import display \n",
    "\n",
    "%matplotlib inline\n",
    "sns.set_context('notebook')\n"
   ]
  },
  {
   "cell_type": "code",
   "execution_count": 13,
   "metadata": {},
   "outputs": [
    {
     "data": {
      "text/html": [
       "<p><code>census.gov-pums-20165-1</code> Last Update: 2018-11-29T05:13:44</p>\n",
       "<p>__</p>\n",
       "<h2>Documentation Links</h2>\n",
       "<ul>\n",
       "<li><a href=\"https://www2.census.gov/programs-surveys/acs/tech_docs/pums/data_dict/PUMS_Data_Dictionary_2012-2016.pdf?#\">data_dictionary_20165</a> 2012-2016 ACS PUMS DATA DICTIONARY</li>\n",
       "</ul>\n",
       "<h2>Contacts</h2>\n",
       "<ul>\n",
       "<li><strong>Wrangler</strong> <a href=\"mailto:eric@civicknowledge.com\">Eric Busboom</a>, <a href=\"http://civicknowledge.com\">Civic Knowledge</a></li>\n",
       "</ul>\n",
       "<h2>References</h2>\n",
       "<ul>\n",
       "<li><strong><a href=\"data/csv_pca.zip#ss16pca.csv\">pums_ca_pop</a></strong>. California popluation  PUMS</li>\n",
       "<li><strong><a href=\"data/sd_county_pums.csv\">sd_pums</a></strong>. San Diego County PUMS numebrs and boundaries</li>\n",
       "</ul>"
      ],
      "text/plain": [
       "<metapack.doc.MetapackDoc at 0x11a35e320>"
      ]
     },
     "execution_count": 13,
     "metadata": {},
     "output_type": "execute_result"
    }
   ],
   "source": [
    "#pkg = mp.jupyter.open_package()\n",
    "pkg = mp.jupyter.open_source_package()\n",
    "pkg"
   ]
  },
  {
   "cell_type": "code",
   "execution_count": 14,
   "metadata": {},
   "outputs": [],
   "source": [
    "pums = pkg.reference('sd_pums').dataframe()"
   ]
  },
  {
   "cell_type": "code",
   "execution_count": 3,
   "metadata": {},
   "outputs": [],
   "source": [
    "r = pkg.reference('pums_ca_pop')"
   ]
  },
  {
   "cell_type": "code",
   "execution_count": 4,
   "metadata": {},
   "outputs": [],
   "source": [
    "df = r.dataframe()"
   ]
  },
  {
   "cell_type": "code",
   "execution_count": null,
   "metadata": {},
   "outputs": [],
   "source": [
    "# Get the records that are in San Diego county\n",
    "sdc_pums = list(pums[pums.GEOID10.astype('str').str.startswith('6073')].PUMACE10)\n",
    "dfsd=df[df.PUMA.isin(sdc_pums)]\n",
    "len(dfsd)"
   ]
  },
  {
   "cell_type": "code",
   "execution_count": 33,
   "metadata": {},
   "outputs": [],
   "source": [
    "cols = ['RAC1P', 'HISP', 'POVPIP', 'PINCP', 'AGEP', 'RACWHT','RACBLK', 'RACASN']\n",
    "weight_cols = [ c for c in df.columns if c.startswith('PWGTP')]\n",
    "\n",
    "dfx = dfsd[cols+weight_cols]"
   ]
  },
  {
   "cell_type": "code",
   "execution_count": 25,
   "metadata": {},
   "outputs": [
    {
     "data": {
      "text/plain": [
       "<matplotlib.axes._subplots.AxesSubplot at 0x11a71cc88>"
      ]
     },
     "execution_count": 25,
     "metadata": {},
     "output_type": "execute_result"
    },
    {
     "data": {
      "image/png": "[encoded data removed]",
      "text/plain": [
       "<matplotlib.figure.Figure at 0x11a72ae48>"
      ]
     },
     "metadata": {
      "needs_background": "light"
     },
     "output_type": "display_data"
    }
   ],
   "source": [
    "df.HISP.hist()"
   ]
  },
  {
   "cell_type": "code",
   "execution_count": 36,
   "metadata": {},
   "outputs": [
    {
     "data": {
      "text/plain": [
       "501.0    45953\n",
       "0.0       3467\n",
       "243.0      379\n",
       "162.0      371\n",
       "141.0      332\n",
       "166.0      318\n",
       "167.0      317\n",
       "127.0      311\n",
       "99.0       306\n",
       "121.0      305\n",
       "129.0      298\n",
       "194.0      297\n",
       "170.0      293\n",
       "104.0      292\n",
       "84.0       291\n",
       "203.0      290\n",
       "97.0       285\n",
       "80.0       279\n",
       "165.0      278\n",
       "105.0      278\n",
       "208.0      275\n",
       "146.0      274\n",
       "125.0      274\n",
       "187.0      271\n",
       "137.0      268\n",
       "142.0      268\n",
       "209.0      267\n",
       "83.0       267\n",
       "216.0      267\n",
       "299.0      265\n",
       "         ...  \n",
       "34.0        97\n",
       "499.0       96\n",
       "53.0        96\n",
       "493.0       90\n",
       "478.0       90\n",
       "468.0       90\n",
       "18.0        89\n",
       "4.0         88\n",
       "494.0       87\n",
       "480.0       86\n",
       "29.0        85\n",
       "496.0       85\n",
       "9.0         85\n",
       "31.0        82\n",
       "489.0       81\n",
       "1.0         80\n",
       "19.0        79\n",
       "13.0        78\n",
       "22.0        73\n",
       "497.0       72\n",
       "2.0         72\n",
       "10.0        69\n",
       "14.0        68\n",
       "27.0        68\n",
       "17.0        62\n",
       "15.0        62\n",
       "3.0         61\n",
       "11.0        61\n",
       "7.0         61\n",
       "5.0         58\n",
       "Name: POVPIP, Length: 502, dtype: int64"
      ]
     },
     "execution_count": 36,
     "metadata": {},
     "output_type": "execute_result"
    }
   ],
   "source": [
    "dfx.POVPIP.value_counts()"
   ]
  },
  {
   "cell_type": "code",
   "execution_count": null,
   "metadata": {},
   "outputs": [],
   "source": [
    "\n",
    "\n"
   ]
  }
 ],
 "metadata": {
  "kernelspec": {
   "display_name": "Python 3",
   "language": "python",
   "name": "python3"
  },
  "language_info": {
   "codemirror_mode": {
    "name": "ipython",
    "version": 3
   },
   "file_extension": ".py",
   "mimetype": "text/x-python",
   "name": "python",
   "nbconvert_exporter": "python",
   "pygments_lexer": "ipython3",
   "version": "3.6.0"
  }
 },
 "nbformat": 4,
 "nbformat_minor": 2
}
