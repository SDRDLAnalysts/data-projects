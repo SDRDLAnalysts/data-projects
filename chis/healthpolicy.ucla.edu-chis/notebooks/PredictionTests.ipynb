{
 "cells": [
  {
   "cell_type": "markdown",
   "metadata": {},
   "source": [
    "\n",
    "Diabetes rates from CHIS surveys for 2015, 2016 and 2017, segmented by race, age, sex and poverty status\n"
   ]
  },
  {
   "cell_type": "code",
   "execution_count": 1,
   "metadata": {},
   "outputs": [],
   "source": [
    "import seaborn as sns\n",
    "import metapack as mp\n",
    "import pandas as pd\n",
    "import numpy as np\n",
    "import matplotlib.pyplot as plt\n",
    "from IPython.display import display \n",
    "import publicdata.chis as chis\n",
    "\n",
    "%matplotlib inline\n",
    "sns.set_context('notebook')\n",
    "idx = pd.IndexSlice # Convenience redefinition. \n"
   ]
  },
  {
   "cell_type": "code",
   "execution_count": 2,
   "metadata": {},
   "outputs": [
    {
     "data": {
      "text/html": [
       "<h1>CHIS California Health Interview Survey, Adults</h1>\n",
       "<p><code>healthpolicy.ucla.edu-chis-adult-1</code> Last Update: 2018-12-07T00:50:35</p>\n",
       "<p><em>Documentation and Reference Links to CHIS files.</em></p>\n",
       "<p>CHIS Data packages</p>\n",
       "<h1></h1>\n",
       "<p>Using these file requires accepting the terms and restrictions provided by the\n",
       "UCLA Center for Health Policy Research. These terms are <a href=\"http://healthpolicy.ucla.edu/chis/data/public-use-data-file/Pages/TermsO\n",
       "fUse.aspx\">available\n",
       "online</a>, and reproduced here:</p>\n",
       "<pre><code>Restrictions on the Use of California Health Interview Survey Data Before you\n",
       "download this file, you must first agree to these Restrictions on the Use of\n",
       "CHIS Data by clicking the button below.\n",
       "\n",
       "The California Health Interview Survey (CHIS) is bound by promises made to\n",
       "respondents, by California law, and by University and government human subject\n",
       "protection committees to assure that no personal information is released in a\n",
       "form that identifies an individual without the consent of the person who\n",
       "supplied the information. The California Information Practices Act (section\n",
       "1798.24) provides that the data collected by CHIS may be released only for\n",
       "statistical research and reporting purposes. Any intentional identification or\n",
       "disclosure of personal information violates this law, and violates the privacy\n",
       "rights of the people who provided data to CHIS. Unauthorized disclosure of\n",
       "personal information is subject to civil action and penalties for invasion of\n",
       "privacy under California Civil Code, Section 1798.53.\n",
       "</code></pre>\n",
       "<h2>Documentation Links</h2>\n",
       "<ul>\n",
       "<li><a href=\"http://healthpolicy.ucla.edu/chis/data/public-use-data-file/Documents/CHIS%202017%20Data%20Dictionary_PUF_Adult%20Oct%202018.pdf\">dd_adult_2017</a> Data dictionary, Adult, 2017</li>\n",
       "<li><a href=\"http://healthpolicy.ucla.edu/chis/data/public-use-data-file/Documents/CHIS%202016%20PUF%20Data%20Dictionary%20-%20Adult%20Oct%202018.pdf\">dd_adult_2016</a> Data dictionary, Adult, 2016</li>\n",
       "<li><a href=\"http://healthpolicy.ucla.edu/chis/data/public-use-data-file/Documents/CHIS%202015%20PUF%20Data%20Dictionary%20-%20Adult%20Oct%202018.pdf\">dd_adult_2015</a> Data dictionary, Adult, 2015</li>\n",
       "<li><a href=\"http://healthpolicy.ucla.edu/chis/data/public-use-data-file/Documents/CHIS%202014%20PUF%20Data%20Dictionary%20-%20Adult%20Oct%202018.pdf\">dd_adult_2014</a> Data dictionary, Adult, 2014</li>\n",
       "<li><a href=\"http://healthpolicy.ucla.edu/chis/data/public-use-data-file/Documents/CHIS%202013%20Data%20Dictionary%20PUF%20-%20Adult_June%202016.pdf\">dd_adult_2013</a> Data dictionary, Adult, 2013</li>\n",
       "<li><a href=\"http://healthpolicy.ucla.edu/chis/data/public-use-data-file/Pages/2017.aspx\">homepage</a> Data download home page.</li>\n",
       "</ul>\n",
       "<h2>Contacts</h2>\n",
       "<ul>\n",
       "<li><strong>Wrangler</strong> <a href=\"mailto:eric@civicknowledge.com\">Eric Busboom</a>, <a href=\"http://civicknowledge.com\">Civic Knowledge</a></li>\n",
       "</ul>\n",
       "<h2>Resources</h2>\n",
       "<ul>\n",
       "<li><strong> <a href=\"notebooks/DiabetesProbabilities.ipynb#rasp_diabetes\">rasp_diabetes</a></strong>. Diabetes probabilities for age, race, sex, and poverty level ratio, for all CHIS respondents in California</li>\n",
       "</ul>\n",
       "<h2>References</h2>\n",
       "<ul>\n",
       "<li><strong><a href=\"datadict.csv\">data_dict_17</a></strong>. Data Dictionary in CSV format for 2017</li>\n",
       "<li><strong><a href=\"http://healthpolicy.ucla.edu/chis/data/public-use-data-file/Documents/adult_2017_stata.zip#ADULT.dta\">adult_2017</a></strong>. CHIS, Adult 2017</li>\n",
       "<li><strong><a href=\"http://healthpolicy.ucla.edu/chis/data/public-use-data-file/Documents/CHIS16_adult_stata.zip#ADULT.dta\">adult_2016</a></strong>. CHIS, Adult 2016</li>\n",
       "<li><strong><a href=\"http://healthpolicy.ucla.edu/chis/data/public-use-data-file/Documents/CHIS15_adult_stata.zip#ADULT.dta\">adult_2015</a></strong>. CHIS, Adult 2015</li>\n",
       "<li><strong><a href=\"http://healthpolicy.ucla.edu/chis/data/public-use-data-file/Documents/chis14_adult_stata.zip#ADULT.dta\">adult_2014</a></strong>. CHIS, Adult 2014</li>\n",
       "<li><strong><a href=\"http://healthpolicy.ucla.edu/chis/data/public-use-data-file/Documents/chis13_adult_stata.zip#ADULT.dta\">adult_2013</a></strong>. CHIS, Adult 2013</li>\n",
       "</ul>"
      ],
      "text/plain": [
       "<metapack.doc.MetapackDoc at 0x1160afcf8>"
      ]
     },
     "execution_count": 2,
     "metadata": {},
     "output_type": "execute_result"
    }
   ],
   "source": [
    "#pkg = mp.jupyter.open_package()\n",
    "pkg = mp.jupyter.open_source_package()\n",
    "pkg"
   ]
  },
  {
   "cell_type": "code",
   "execution_count": 3,
   "metadata": {},
   "outputs": [],
   "source": [
    "\n",
    "# Link the common cols to the data dict so we know what the columns are. \n",
    "dd = pkg.reference('data_dict_17').dataframe().fillna(0)\n",
    "dd['variable'] = dd.variable.str.lower()\n",
    "dd['description'] = dd.description.str.capitalize()\n",
    "\n",
    "demo_cols = list(dd[(dd.demographic == 1) & (~dd.description.str.contains('recode'))].variable)\n"
   ]
  },
  {
   "cell_type": "code",
   "execution_count": 5,
   "metadata": {},
   "outputs": [],
   "source": [
    "df17 = pkg.reference('adult_2017').dataframe()\n",
    "df16 = pkg.reference('adult_2016').dataframe()\n",
    "df15 = pkg.reference('adult_2015').dataframe()\n",
    "df14 = pkg.reference('adult_2014').dataframe()\n",
    "df13 = pkg.reference('adult_2013').dataframe()\n",
    "\n",
    "all_sets =  [df13,df14,df15,df16,df17]\n",
    "\n",
    "all_sets =  [df16,df17]\n",
    "\n",
    "for df, year in zip(all_sets, range(2013, 2018)):\n",
    "    df['year'] = year\n",
    "    \n",
    "    df = chis.recode(df)"
   ]
  },
  {
   "cell_type": "code",
   "execution_count": null,
   "metadata": {},
   "outputs": [],
   "source": [
    "# What are the columns common to all datasets?\n",
    "from operator import and_, or_\n",
    "from functools import reduce\n",
    "\n",
    "common_cols = list(reduce(and_, [e.columns for e in all_sets]))\n",
    "\n",
    "cc_dd = dd.set_index('variable')\n",
    "i = pd.DataFrame(index=sorted(common_cols))\n",
    "cc_dd = i.join(dd).fillna(0)\n",
    "\n"
   ]
  },
  {
   "cell_type": "code",
   "execution_count": null,
   "metadata": {},
   "outputs": [],
   "source": [
    "n_years, df = chis_concat(all_sets, common_cols + ['minority','poor','old','race_recode'])"
   ]
  },
  {
   "cell_type": "code",
   "execution_count": null,
   "metadata": {},
   "outputs": [],
   "source": [
    "def unhealthy(r):\n",
    "    \n",
    "    uh = 0\n",
    "    uh += 1 if r.ab1 == 'FAIR' else 0 # General health condition\n",
    "    uh += 2 if r.ab1 == 'POOR' else 0 # General health condition\n",
    "    uh += 1 if r.ab17 == 'YES' else 0 # DOCTOR EVER TOLD HAVE ASTHMA \n",
    "    uh += 2 if r.ab22 == 'YES' else 0 # DOCTOR EVER TOLD HAVE DIABETES \n",
    "    uh += 1 if r.ab22 == 'BORDERLINE OR PRE-DIABETES' else 0\n",
    "    uh += 1 if r.ab29 == 'YES' else 0 # DOCTOR EVER TOLD HAVE HIGH BLOOD PRESSURE \n",
    "    uh += .25 if r.ab29 == 'BORDERLINE HYPERTENSION' else 0\n",
    "    uh += .25 if r.ovrwt == 'YES' else 0 # Overweight\n",
    "    \n",
    "    return uh\n",
    "    \n",
    "uhcols = 'ab1 ab17 ab22 ab29 ovrwt'.split()\n",
    "\n",
    "df['unhealthy'] = df.apply(unhealthy, axis=1)\n",
    "\n",
    "df.unhealthy.hist()\n"
   ]
  },
  {
   "cell_type": "code",
   "execution_count": null,
   "metadata": {},
   "outputs": [],
   "source": [
    "ccdf.ad32_p1.value_counts()"
   ]
  },
  {
   "cell_type": "code",
   "execution_count": null,
   "metadata": {},
   "outputs": [],
   "source": [
    "from scipy import stats\n",
    "from tqdm import  tqdm_notebook\n",
    "\n",
    "ccdf = df[common_cols+['unhealthy']].copy()\n",
    "\n",
    "y =  pd.get_dummies(ccdf['unhealthy'])\n",
    "X = ccdf[common_cols]\n",
    "\n",
    "vals = []\n",
    "cat_sets = set()\n",
    "\n",
    "tn = tqdm_notebook(list(enumerate(X.columns)), desc='correlating')\n",
    "    \n",
    "for i,c in tn:\n",
    "    \n",
    "    if 'raked' in c:\n",
    "        continue\n",
    "    \n",
    "    if c in uhcols:\n",
    "        continue\n",
    "        \n",
    "    if c.startswith('ab'): # All related to 'unhealthy' columns\n",
    "        continue\n",
    "        \n",
    "    dm = pd.get_dummies(X[c])\n",
    "    if len(dm.columns) > 7:\n",
    "        continue\n",
    "        \n",
    "    for dmc in dm.columns:\n",
    "        try:\n",
    "            pbr = stats.pearsonr(dm[dmc], y)\n",
    "        except ValueError as e:\n",
    "            continue\n",
    "            \n",
    "       \n",
    "        if abs(pbr[0]) > .2:\n",
    "            vals.append((c, dmc, pbr[0]))\n",
    "            \n",
    "        tn.set_description(\"{} {}\".format(c, dmc))\n"
   ]
  },
  {
   "cell_type": "code",
   "execution_count": null,
   "metadata": {
    "scrolled": false
   },
   "outputs": [],
   "source": [
    "cors = pd.DataFrame.from_records(vals, columns=['variable','value','corr'])\n",
    "jc = cors.set_index('variable').join(dd[['variable','description']].set_index('variable'))\n",
    "jc.sort_values('corr',ascending=False)\n",
    "\n",
    "\n",
    "\n"
   ]
  },
  {
   "cell_type": "code",
   "execution_count": null,
   "metadata": {},
   "outputs": [],
   "source": []
  },
  {
   "cell_type": "raw",
   "metadata": {},
   "source": [
    "from sklearn.preprocessing import StandardScaler\n",
    "from sklearn.decomposition import PCA\n",
    "\n",
    "pctile_cols = [c for c in df.columns if 'pctile' in c]\n",
    "\n",
    "x = pd.get_dummies(df[common_cols]).values\n",
    "\n",
    "# Standardizing the features\n",
    "x = StandardScaler().fit_transform(x)\n",
    "x = np.nan_to_num(x)\n",
    "\n",
    "y = df['hpi2score'].values\n",
    "\n",
    "pca = PCA(n_components=2)\n",
    "\n",
    "principalComponents = pca.fit_transform(x)\n",
    "principalDf = pd.DataFrame(data = principalComponents\n",
    "             , columns = ['pc1', 'pc2'])\n",
    "\n",
    "principalDf.plot.scatter(x='pc1',y='pc2')"
   ]
  },
  {
   "cell_type": "code",
   "execution_count": null,
   "metadata": {},
   "outputs": [],
   "source": [
    "ccdf[common_cols].to_csv('chis1617-demo.csv')"
   ]
  },
  {
   "cell_type": "code",
   "execution_count": null,
   "metadata": {},
   "outputs": [],
   "source": [
    "!pwd\n"
   ]
  }
 ],
 "metadata": {
  "kernelspec": {
   "display_name": "Python 3",
   "language": "python",
   "name": "python3"
  },
  "language_info": {
   "codemirror_mode": {
    "name": "ipython",
    "version": 3
   },
   "file_extension": ".py",
   "mimetype": "text/x-python",
   "name": "python",
   "nbconvert_exporter": "python",
   "pygments_lexer": "ipython3",
   "version": "3.6.0"
  }
 },
 "nbformat": 4,
 "nbformat_minor": 2
}
