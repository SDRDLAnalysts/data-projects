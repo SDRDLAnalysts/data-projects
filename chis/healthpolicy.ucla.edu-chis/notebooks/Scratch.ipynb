{
 "cells": [
  {
   "cell_type": "code",
   "execution_count": 1,
   "metadata": {},
   "outputs": [],
   "source": [
    "import seaborn as sns\n",
    "import metapack as mp\n",
    "import pandas as pd\n",
    "import numpy as np\n",
    "import matplotlib.pyplot as plt\n",
    "from IPython.display import display \n",
    "\n",
    "import publicdata.chis as chis\n",
    "\n",
    "from rowgenerators import parse_app_url\n",
    "\n",
    "%matplotlib inline\n",
    "sns.set_context('notebook')\n"
   ]
  },
  {
   "cell_type": "code",
   "execution_count": 2,
   "metadata": {},
   "outputs": [
    {
     "data": {
      "text/html": [
       "<h1>CHIS California Health Interview Survey, Adults</h1>\n",
       "<p><code>healthpolicy.ucla.edu-chis-adult-1</code> Last Update: 2018-12-07T00:50:35</p>\n",
       "<p><em>Documentation and Reference Links to CHIS files.</em></p>\n",
       "<p>CHIS Data packages</p>\n",
       "<h1></h1>\n",
       "<p>Using these file requires accepting the terms and restrictions provided by the\n",
       "UCLA Center for Health Policy Research. These terms are <a href=\"http://healthpolicy.ucla.edu/chis/data/public-use-data-file/Pages/TermsO\n",
       "fUse.aspx\">available\n",
       "online</a>, and reproduced here:</p>\n",
       "<pre><code>Restrictions on the Use of California Health Interview Survey Data Before you\n",
       "download this file, you must first agree to these Restrictions on the Use of\n",
       "CHIS Data by clicking the button below.\n",
       "\n",
       "The California Health Interview Survey (CHIS) is bound by promises made to\n",
       "respondents, by California law, and by University and government human subject\n",
       "protection committees to assure that no personal information is released in a\n",
       "form that identifies an individual without the consent of the person who\n",
       "supplied the information. The California Information Practices Act (section\n",
       "1798.24) provides that the data collected by CHIS may be released only for\n",
       "statistical research and reporting purposes. Any intentional identification or\n",
       "disclosure of personal information violates this law, and violates the privacy\n",
       "rights of the people who provided data to CHIS. Unauthorized disclosure of\n",
       "personal information is subject to civil action and penalties for invasion of\n",
       "privacy under California Civil Code, Section 1798.53.\n",
       "</code></pre>\n",
       "<h2>Documentation Links</h2>\n",
       "<ul>\n",
       "<li><a href=\"http://healthpolicy.ucla.edu/chis/data/public-use-data-file/Documents/CHIS%202017%20Data%20Dictionary_PUF_Adult%20Oct%202018.pdf\">dd_adult_2017</a> Data dictionary, Adult, 2017</li>\n",
       "<li><a href=\"http://healthpolicy.ucla.edu/chis/data/public-use-data-file/Documents/CHIS%202016%20PUF%20Data%20Dictionary%20-%20Adult%20Oct%202018.pdf\">dd_adult_2016</a> Data dictionary, Adult, 2016</li>\n",
       "<li><a href=\"http://healthpolicy.ucla.edu/chis/data/public-use-data-file/Documents/CHIS%202015%20PUF%20Data%20Dictionary%20-%20Adult%20Oct%202018.pdf\">dd_adult_2015</a> Data dictionary, Adult, 2015</li>\n",
       "<li><a href=\"http://healthpolicy.ucla.edu/chis/data/public-use-data-file/Documents/CHIS%202014%20PUF%20Data%20Dictionary%20-%20Adult%20Oct%202018.pdf\">dd_adult_2014</a> Data dictionary, Adult, 2014</li>\n",
       "<li><a href=\"http://healthpolicy.ucla.edu/chis/data/public-use-data-file/Documents/CHIS%202013%20Data%20Dictionary%20PUF%20-%20Adult_June%202016.pdf\">dd_adult_2013</a> Data dictionary, Adult, 2013</li>\n",
       "<li><a href=\"http://healthpolicy.ucla.edu/chis/data/public-use-data-file/Pages/2017.aspx\">homepage</a> Data download home page.</li>\n",
       "</ul>\n",
       "<h2>Contacts</h2>\n",
       "<ul>\n",
       "<li><strong>Wrangler</strong> <a href=\"mailto:eric@civicknowledge.com\">Eric Busboom</a>, <a href=\"http://civicknowledge.com\">Civic Knowledge</a></li>\n",
       "</ul>\n",
       "<h2>Resources</h2>\n",
       "<ul>\n",
       "<li><strong> <a href=\"notebooks/DiabetesProbabilities.ipynb#rasp_diabetes\">rasp_diabetes</a></strong>. Diabetes probabilities for age, race, sex, and poverty level ratio, for all CHIS respondents in California</li>\n",
       "</ul>\n",
       "<h2>References</h2>\n",
       "<ul>\n",
       "<li><strong><a href=\"datadict.csv\">data_dict_17</a></strong>. Data Dictionary in CSV format for 2017</li>\n",
       "<li><strong><a href=\"http://healthpolicy.ucla.edu/chis/data/public-use-data-file/Documents/adult_2017_stata.zip#ADULT.dta\">adult_2017</a></strong>. CHIS, Adult 2017</li>\n",
       "<li><strong><a href=\"http://healthpolicy.ucla.edu/chis/data/public-use-data-file/Documents/CHIS16_adult_stata.zip#ADULT.dta\">adult_2016</a></strong>. CHIS, Adult 2016</li>\n",
       "<li><strong><a href=\"http://healthpolicy.ucla.edu/chis/data/public-use-data-file/Documents/CHIS15_adult_stata.zip#ADULT.dta\">adult_2015</a></strong>. CHIS, Adult 2015</li>\n",
       "<li><strong><a href=\"http://healthpolicy.ucla.edu/chis/data/public-use-data-file/Documents/chis14_adult_stata.zip#ADULT.dta\">adult_2014</a></strong>. CHIS, Adult 2014</li>\n",
       "<li><strong><a href=\"http://healthpolicy.ucla.edu/chis/data/public-use-data-file/Documents/chis13_adult_stata.zip#ADULT.dta\">adult_2013</a></strong>. CHIS, Adult 2013</li>\n",
       "</ul>"
      ],
      "text/plain": [
       "<metapack.doc.MetapackDoc at 0x1191c7240>"
      ]
     },
     "execution_count": 2,
     "metadata": {},
     "output_type": "execute_result"
    }
   ],
   "source": [
    "#pkg = mp.jupyter.open_package()\n",
    "pkg = mp.jupyter.open_source_package()\n",
    "pkg"
   ]
  },
  {
   "cell_type": "code",
   "execution_count": 3,
   "metadata": {},
   "outputs": [],
   "source": [
    "df17 = pkg.reference('adult_2017').dataframe()\n",
    "df16 = pkg.reference('adult_2016').dataframe()\n",
    "df15 = pkg.reference('adult_2015').dataframe()\n",
    "df14 = pkg.reference('adult_2014').dataframe()\n",
    "df13 = pkg.reference('adult_2013').dataframe()\n",
    "\n",
    "all_sets =  [df13,df14,df15,df16,df17]\n",
    "\n",
    "for df, year in zip(all_sets, range(2013, 2018)):\n",
    "    df['year'] = year\n",
    "    \n",
    "    df = chis.recode(df)\n",
    "    \n",
    "# What are the columns common to all datasets?\n",
    "from operator import and_, or_\n",
    "from functools import reduce\n",
    "\n",
    "common_cols = list(reduce(and_, [e.columns for e in all_sets]))\n",
    "\n",
    "n_years, df = chis.concat(all_sets, common_cols + ['urminority','poor','old','race_recode'])"
   ]
  },
  {
   "cell_type": "code",
   "execution_count": null,
   "metadata": {},
   "outputs": [],
   "source": []
  }
 ],
 "metadata": {
  "kernelspec": {
   "display_name": "Python 3",
   "language": "python",
   "name": "python3"
  },
  "language_info": {
   "codemirror_mode": {
    "name": "ipython",
    "version": 3
   },
   "file_extension": ".py",
   "mimetype": "text/x-python",
   "name": "python",
   "nbconvert_exporter": "python",
   "pygments_lexer": "ipython3",
   "version": "3.6.0"
  }
 },
 "nbformat": 4,
 "nbformat_minor": 2
}
