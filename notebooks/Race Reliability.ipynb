{
 "cells": [
  {
   "cell_type": "markdown",
   "metadata": {},
   "source": [
    "# Inter Rater Reliability of Race\n",
    "\n",
    "Example the NLSY97 to asssess inter rater reliability for determinations of race, for the categories White and Black.\n",
    "\n",
    "The ``YIR-520`` variable is the intervewers assessment of the respondents race, which can be compared to the ``KEY!RACE`` variable. \n"
   ]
  },
  {
   "cell_type": "code",
   "execution_count": 1,
   "metadata": {},
   "outputs": [],
   "source": [
    "import seaborn as sns\n",
    "import metapack as mp\n",
    "import pandas as pd\n",
    "import numpy as np\n",
    "import matplotlib.pyplot as plt\n",
    "from IPython.display import display, Image\n",
    "from tqdm import tqdm_notebook as tqdm\n",
    "\n",
    "%matplotlib inline\n",
    "sns.set_context('notebook')\n",
    "mp.jupyter.init()"
   ]
  },
  {
   "cell_type": "code",
   "execution_count": 2,
   "metadata": {},
   "outputs": [],
   "source": [
    "pkg = mp.open_package('http://library.metatab.org.s3.amazonaws.com/nlsinfo.org-nlsy97-2013.csv')\n",
    "nlsy = pkg.reference('nlsy97').resolved_url.get_resource().get_target().nlsy\n"
   ]
  },
  {
   "cell_type": "code",
   "execution_count": 3,
   "metadata": {},
   "outputs": [
    {
     "data": {
      "text/plain": [
       "34069"
      ]
     },
     "execution_count": 3,
     "metadata": {},
     "output_type": "execute_result"
    }
   ],
   "source": [
    "m = nlsy.metadata\n",
    "len(m[m.is_categorical == 1])"
   ]
  },
  {
   "cell_type": "code",
   "execution_count": 4,
   "metadata": {},
   "outputs": [
    {
     "data": {
      "text/html": [
       "<div>\n",
       "<style scoped>\n",
       "    .dataframe tbody tr th:only-of-type {\n",
       "        vertical-align: middle;\n",
       "    }\n",
       "\n",
       "    .dataframe tbody tr th {\n",
       "        vertical-align: top;\n",
       "    }\n",
       "\n",
       "    .dataframe thead th {\n",
       "        text-align: right;\n",
       "    }\n",
       "</style>\n",
       "<table border=\"1\" class=\"dataframe\">\n",
       "  <thead>\n",
       "    <tr style=\"text-align: right;\">\n",
       "      <th></th>\n",
       "      <th></th>\n",
       "      <th>YIR-520</th>\n",
       "      <th>INTERVIEWER_RACE</th>\n",
       "      <th>KEY!SEX</th>\n",
       "      <th>KEY!BDATE_Y</th>\n",
       "      <th>KEY!ETHNICITY</th>\n",
       "      <th>KEY!RACE</th>\n",
       "      <th>KEY!RACE_ETHNICITY</th>\n",
       "    </tr>\n",
       "    <tr>\n",
       "      <th>PUBID</th>\n",
       "      <th>survey_year</th>\n",
       "      <th></th>\n",
       "      <th></th>\n",
       "      <th></th>\n",
       "      <th></th>\n",
       "      <th></th>\n",
       "      <th></th>\n",
       "      <th></th>\n",
       "    </tr>\n",
       "  </thead>\n",
       "  <tbody>\n",
       "    <tr>\n",
       "      <th rowspan=\"5\" valign=\"top\">1</th>\n",
       "      <th>1998</th>\n",
       "      <td>1.0</td>\n",
       "      <td>NaN</td>\n",
       "      <td>2</td>\n",
       "      <td>1981</td>\n",
       "      <td>0</td>\n",
       "      <td>1</td>\n",
       "      <td>4</td>\n",
       "    </tr>\n",
       "    <tr>\n",
       "      <th>1999</th>\n",
       "      <td>1.0</td>\n",
       "      <td>NaN</td>\n",
       "      <td>2</td>\n",
       "      <td>1981</td>\n",
       "      <td>0</td>\n",
       "      <td>1</td>\n",
       "      <td>4</td>\n",
       "    </tr>\n",
       "    <tr>\n",
       "      <th>2000</th>\n",
       "      <td>1.0</td>\n",
       "      <td>NaN</td>\n",
       "      <td>2</td>\n",
       "      <td>1981</td>\n",
       "      <td>0</td>\n",
       "      <td>1</td>\n",
       "      <td>4</td>\n",
       "    </tr>\n",
       "    <tr>\n",
       "      <th>2002</th>\n",
       "      <td>NaN</td>\n",
       "      <td>1.0</td>\n",
       "      <td>2</td>\n",
       "      <td>1981</td>\n",
       "      <td>0</td>\n",
       "      <td>1</td>\n",
       "      <td>4</td>\n",
       "    </tr>\n",
       "    <tr>\n",
       "      <th>2003</th>\n",
       "      <td>NaN</td>\n",
       "      <td>1.0</td>\n",
       "      <td>2</td>\n",
       "      <td>1981</td>\n",
       "      <td>0</td>\n",
       "      <td>1</td>\n",
       "      <td>4</td>\n",
       "    </tr>\n",
       "  </tbody>\n",
       "</table>\n",
       "</div>"
      ],
      "text/plain": [
       "                   YIR-520  INTERVIEWER_RACE  KEY!SEX  KEY!BDATE_Y  \\\n",
       "PUBID survey_year                                                    \n",
       "1     1998             1.0               NaN        2         1981   \n",
       "      1999             1.0               NaN        2         1981   \n",
       "      2000             1.0               NaN        2         1981   \n",
       "      2002             NaN               1.0        2         1981   \n",
       "      2003             NaN               1.0        2         1981   \n",
       "\n",
       "                   KEY!ETHNICITY  KEY!RACE  KEY!RACE_ETHNICITY  \n",
       "PUBID survey_year                                               \n",
       "1     1998                     0         1                   4  \n",
       "      1999                     0         1                   4  \n",
       "      2000                     0         1                   4  \n",
       "      2002                     0         1                   4  \n",
       "      2003                     0         1                   4  "
      ]
     },
     "execution_count": 4,
     "metadata": {},
     "output_type": "execute_result"
    }
   ],
   "source": [
    "intr_race = nlsy.question_dataframe(['YIR-520','INTERVIEWER_RACE'],  replacena=True, rmeta=True)\n",
    "intr_race.head()"
   ]
  },
  {
   "cell_type": "markdown",
   "metadata": {},
   "source": [
    "Reliability of \"White\""
   ]
  },
  {
   "cell_type": "code",
   "execution_count": 12,
   "metadata": {},
   "outputs": [
    {
     "data": {
      "text/plain": [
       "96.0"
      ]
     },
     "execution_count": 12,
     "metadata": {},
     "output_type": "execute_result"
    }
   ],
   "source": [
    "t = intr_race[(~intr_race['YIR-520'].isnull()) & (intr_race['KEY!RACE'] == 1)].copy()\n",
    "t['concord']  = intr_race['YIR-520'] ==  intr_race['KEY!RACE']\n",
    "t = t.concord.value_counts()\n",
    "(t.loc[True] / (t.sum()) * 100).round()"
   ]
  },
  {
   "cell_type": "markdown",
   "metadata": {},
   "source": [
    "Reliability of \"Black\""
   ]
  },
  {
   "cell_type": "code",
   "execution_count": 15,
   "metadata": {},
   "outputs": [
    {
     "data": {
      "text/plain": [
       "97.0"
      ]
     },
     "execution_count": 15,
     "metadata": {},
     "output_type": "execute_result"
    }
   ],
   "source": [
    "t = intr_race[(~intr_race['YIR-520'].isnull()) & (intr_race['KEY!RACE'] == 2)].copy()\n",
    "t['concord']  = intr_race['YIR-520'] ==  intr_race['KEY!RACE']\n",
    "t = t.concord.value_counts()\n",
    "(t.loc[True] / (t.sum()) * 100).round()"
   ]
  },
  {
   "cell_type": "code",
   "execution_count": null,
   "metadata": {},
   "outputs": [],
   "source": []
  }
 ],
 "metadata": {
  "kernelspec": {
   "display_name": "Python 3",
   "language": "python",
   "name": "python3"
  },
  "language_info": {
   "codemirror_mode": {
    "name": "ipython",
    "version": 3
   },
   "file_extension": ".py",
   "mimetype": "text/x-python",
   "name": "python",
   "nbconvert_exporter": "python",
   "pygments_lexer": "ipython3",
   "version": "3.6.7"
  }
 },
 "nbformat": 4,
 "nbformat_minor": 2
}
