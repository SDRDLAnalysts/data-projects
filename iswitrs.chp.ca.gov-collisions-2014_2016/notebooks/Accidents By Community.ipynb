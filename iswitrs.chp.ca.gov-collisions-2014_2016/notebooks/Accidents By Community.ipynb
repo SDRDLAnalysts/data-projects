{
 "cells": [
  {
   "cell_type": "markdown",
   "metadata": {},
   "source": [
    "# Traffic Accidents by San Diego Community\n",
    "\n",
    "This analysis links traffic accident records from SWITRS to San Diego planning communities to see which communityies have the most traffoc accidents. Unfortunately, the data, from the years 2014 and 2015, has very poor lat/lon values -- most records have none -- so the number of records that can be linked into communities is too small for a worthwhile answer \n"
   ]
  },
  {
   "cell_type": "code",
   "execution_count": 1,
   "metadata": {},
   "outputs": [],
   "source": [
    "import seaborn as sns\n",
    "import metapack as mp\n",
    "import pandas as pd\n",
    "import geopandas as gpd\n",
    "import numpy as np\n",
    "import matplotlib.pyplot as plt\n",
    "from IPython.display import display \n",
    "from shapely.geometry import Point\n",
    "\n",
    "%matplotlib inline\n",
    "sns.set_context('notebook')\n"
   ]
  },
  {
   "cell_type": "code",
   "execution_count": 2,
   "metadata": {},
   "outputs": [
    {
     "data": {
      "text/html": [
       "<h1></h1>\n",
       "<p><code>iswitrs.chp.ca.gov-collisions-2014_2016-1</code> Last Update: 2018-11-10T07:11:26</p>\n",
       "<p>__</p>\n",
       "<h2>Documentation Links</h2>\n",
       "<ul>\n",
       "<li><a href=\"http://ds.civicknowledge.org.s3.amazonaws.com/iswitrs.chp.ca.gov/SWITRS%20Data%20Dictionary.pdf\">data_dictionary</a> Data Dictionary and Documentation</li>\n",
       "<li><a href=\"http://iswitrs.chp.ca.gov\">ISWITRS</a> Statewide Integrated Traffic Records System</li>\n",
       "</ul>\n",
       "<h2>Contacts</h2>\n",
       "<ul>\n",
       "<li><strong>Wrangler</strong> <a href=\"mailto:eric@civicknowledge.com\">Eric Busboom</a>, <a href=\"http://civicknowledge.com\">Civic Knowledge</a></li>\n",
       "</ul>\n",
       "<h2>Resources</h2>\n",
       "<ul>\n",
       "<li><strong> <a href=\"data/victims.csv\">victims</a></strong>. Victims</li>\n",
       "<li><strong> <a href=\"data/parties.csv\">parties</a></strong>. Parties</li>\n",
       "<li><strong> <a href=\"data/collisions.csv\">collisions</a></strong>. Collision</li>\n",
       "</ul>\n",
       "<h2>References</h2>\n",
       "<ul>\n",
       "<li><strong><a href=\"metapack+http://library.metatab.org/sangis.org-communities-2018-1.zip#communities\">communities</a></strong>. Community boundaries for San Diego county</li>\n",
       "</ul>"
      ],
      "text/plain": [
       "<metapack.doc.MetapackDoc at 0x1200294e0>"
      ]
     },
     "execution_count": 2,
     "metadata": {},
     "output_type": "execute_result"
    }
   ],
   "source": [
    "pkg = mp.jupyter.open_package()\n",
    "#pkg = mp.jupyter.open_source_package()\n",
    "pkg"
   ]
  },
  {
   "cell_type": "code",
   "execution_count": 3,
   "metadata": {
    "scrolled": false
   },
   "outputs": [
    {
     "data": {
      "text/html": [
       "<h3><a name=\"resource-collisions\"></a>collisions</h3><p><a target=\"_blank\" href=\"file:///Users/eric/proj/virt-proj/data-project/sdrdl-data-projects/iswitrs.chp.ca.gov-collisions-2014_2016/_packages/iswitrs.chp.ca.gov-collisions-2014_2016-1/data/collisions.csv\">file:///Users/eric/proj/virt-proj/data-project/sdrdl-data-projects/iswitrs.chp.ca.gov-collisions-2014_2016/_packages/iswitrs.chp.ca.gov-collisions-2014_2016-1/data/collisions.csv</a></p><table>\n",
       "<tr><th>Header</th><th>Type</th><th>Description</th></tr><tr><td>case_id</td><td>integer</td><td></td></tr> \n",
       "<tr><td>accident_year</td><td>integer</td><td></td></tr> \n",
       "<tr><td>proc_date</td><td>string</td><td></td></tr> \n",
       "<tr><td>juris</td><td>string</td><td></td></tr> \n",
       "<tr><td>collision_date</td><td>integer</td><td></td></tr> \n",
       "<tr><td>collision_time</td><td>integer</td><td></td></tr> \n",
       "<tr><td>officer_id</td><td>string</td><td></td></tr> \n",
       "<tr><td>reporting_district</td><td>string</td><td></td></tr> \n",
       "<tr><td>day_of_week</td><td>integer</td><td></td></tr> \n",
       "<tr><td>chp_shift</td><td>integer</td><td></td></tr> \n",
       "<tr><td>population</td><td>integer</td><td></td></tr> \n",
       "<tr><td>cnty_city_loc</td><td>integer</td><td></td></tr> \n",
       "<tr><td>special_cond</td><td>integer</td><td></td></tr> \n",
       "<tr><td>beat_type</td><td>string</td><td></td></tr> \n",
       "<tr><td>chp_beat_type</td><td>string</td><td></td></tr> \n",
       "<tr><td>city_division_lapd</td><td>string</td><td></td></tr> \n",
       "<tr><td>chp_beat_class</td><td>integer</td><td></td></tr> \n",
       "<tr><td>beat_number</td><td>string</td><td></td></tr> \n",
       "<tr><td>primary_rd</td><td>string</td><td></td></tr> \n",
       "<tr><td>secondary_rd</td><td>string</td><td></td></tr> \n",
       "<tr><td>distance</td><td>integer</td><td></td></tr> \n",
       "<tr><td>direction</td><td>string</td><td></td></tr> \n",
       "<tr><td>intersection</td><td>string</td><td></td></tr> \n",
       "<tr><td>weather_1</td><td>string</td><td></td></tr> \n",
       "<tr><td>weather_2</td><td>string</td><td></td></tr> \n",
       "<tr><td>state_hwy_ind</td><td>string</td><td></td></tr> \n",
       "<tr><td>caltrans_county</td><td>string</td><td></td></tr> \n",
       "<tr><td>caltrans_district</td><td>string</td><td></td></tr> \n",
       "<tr><td>state_route</td><td>string</td><td></td></tr> \n",
       "<tr><td>route_suffix</td><td>string</td><td></td></tr> \n",
       "<tr><td>postmile_prefix</td><td>string</td><td></td></tr> \n",
       "<tr><td>postmile</td><td>string</td><td></td></tr> \n",
       "<tr><td>location_type</td><td>string</td><td></td></tr> \n",
       "<tr><td>ramp_intersection</td><td>string</td><td></td></tr> \n",
       "<tr><td>side_of_hwy</td><td>string</td><td></td></tr> \n",
       "<tr><td>tow_away</td><td>string</td><td></td></tr> \n",
       "<tr><td>collision_severity</td><td>integer</td><td></td></tr> \n",
       "<tr><td>number_killed</td><td>integer</td><td></td></tr> \n",
       "<tr><td>number_injured</td><td>integer</td><td></td></tr> \n",
       "<tr><td>party_count</td><td>integer</td><td></td></tr> \n",
       "<tr><td>primary_coll_factor</td><td>string</td><td></td></tr> \n",
       "<tr><td>pcf_code_of_viol</td><td>string</td><td></td></tr> \n",
       "<tr><td>pcf_viol_category</td><td>string</td><td></td></tr> \n",
       "<tr><td>pcf_violation</td><td>string</td><td></td></tr> \n",
       "<tr><td>pcf_viol_subsection</td><td>string</td><td></td></tr> \n",
       "<tr><td>hit_and_run</td><td>string</td><td></td></tr> \n",
       "<tr><td>type_of_collision</td><td>string</td><td></td></tr> \n",
       "<tr><td>mviw</td><td>string</td><td></td></tr> \n",
       "<tr><td>ped_action</td><td>string</td><td></td></tr> \n",
       "<tr><td>road_surface</td><td>string</td><td></td></tr> \n",
       "<tr><td>road_cond_1</td><td>string</td><td></td></tr> \n",
       "<tr><td>road_cond_2</td><td>string</td><td></td></tr> \n",
       "<tr><td>lighting</td><td>string</td><td></td></tr> \n",
       "<tr><td>control_device</td><td>string</td><td></td></tr> \n",
       "<tr><td>chp_road_type</td><td>integer</td><td></td></tr> \n",
       "<tr><td>pedestrian_accident</td><td>string</td><td></td></tr> \n",
       "<tr><td>bicycle_accident</td><td>string</td><td></td></tr> \n",
       "<tr><td>motorcycle_accident</td><td>string</td><td></td></tr> \n",
       "<tr><td>truck_accident</td><td>string</td><td></td></tr> \n",
       "<tr><td>not_private_property</td><td>string</td><td></td></tr> \n",
       "<tr><td>alcohol_involved</td><td>string</td><td></td></tr> \n",
       "<tr><td>stwd_vehtype_at_fault</td><td>string</td><td></td></tr> \n",
       "<tr><td>chp_vehtype_at_fault</td><td>string</td><td></td></tr> \n",
       "<tr><td>count_severe_inj</td><td>integer</td><td></td></tr> \n",
       "<tr><td>count_visible_inj</td><td>integer</td><td></td></tr> \n",
       "<tr><td>count_complaint_pain</td><td>integer</td><td></td></tr> \n",
       "<tr><td>count_ped_killed</td><td>integer</td><td></td></tr> \n",
       "<tr><td>count_ped_injured</td><td>integer</td><td></td></tr> \n",
       "<tr><td>count_bicyclist_killed</td><td>integer</td><td></td></tr> \n",
       "<tr><td>count_bicyclist_injured</td><td>integer</td><td></td></tr> \n",
       "<tr><td>count_mc_killed</td><td>integer</td><td></td></tr> \n",
       "<tr><td>count_mc_injured</td><td>integer</td><td></td></tr> \n",
       "<tr><td>primary_ramp</td><td>string</td><td></td></tr> \n",
       "<tr><td>secondary_ramp</td><td>string</td><td></td></tr> \n",
       "<tr><td>latitude</td><td>number</td><td></td></tr> \n",
       "<tr><td>longitude</td><td>number</td><td></td></tr> </table>"
      ],
      "text/plain": [
       "<Resource: metadata.csv 32:1 root.datafile data/collisions.csv ['collisions', 'Collision', '']>"
      ]
     },
     "execution_count": 3,
     "metadata": {},
     "output_type": "execute_result"
    }
   ],
   "source": [
    "pkg.resource('collisions')"
   ]
  },
  {
   "cell_type": "code",
   "execution_count": 4,
   "metadata": {},
   "outputs": [],
   "source": [
    "col = pkg.resource('collisions').read_csv()\n"
   ]
  },
  {
   "cell_type": "code",
   "execution_count": 5,
   "metadata": {},
   "outputs": [
    {
     "data": {
      "text/plain": [
       "8919"
      ]
     },
     "execution_count": 5,
     "metadata": {},
     "output_type": "execute_result"
    }
   ],
   "source": [
    "col_sd = col[col.juris.isin( ['3711','3714','3797', '3725'] )]\n",
    "len(col_sd)"
   ]
  },
  {
   "cell_type": "code",
   "execution_count": 6,
   "metadata": {},
   "outputs": [
    {
     "data": {
      "text/plain": [
       "(106, 8919)"
      ]
     },
     "execution_count": 6,
     "metadata": {},
     "output_type": "execute_result"
    }
   ],
   "source": [
    "\n",
    "## Create a new GeoPandas frame, converting the targetlongitude and targetlatitude\n",
    "## colums to a Shapely Point and assigning it to the frame's geometry\n",
    "\n",
    "t = col_sd.dropna(subset=['longitude', 'latitude'])\n",
    "\n",
    "gdf = gpd.GeoDataFrame(t, geometry=\n",
    "                        [Point(x,y) for x,y in zip(-t.longitude, t.latitude) ])\n",
    "\n",
    "len(gdf),len(col_sd)"
   ]
  },
  {
   "cell_type": "markdown",
   "metadata": {},
   "source": [
    "There are only 106 records with valid lat/lon, out of the original 8919, which is a pretty poort sample. Let's plot those points over a map of the county to see where they are. "
   ]
  },
  {
   "cell_type": "code",
   "execution_count": 7,
   "metadata": {},
   "outputs": [
    {
     "data": {
      "text/plain": [
       "838430"
      ]
     },
     "execution_count": 7,
     "metadata": {},
     "output_type": "execute_result"
    }
   ],
   "source": [
    "len(col)"
   ]
  },
  {
   "cell_type": "code",
   "execution_count": 8,
   "metadata": {},
   "outputs": [
    {
     "data": {
      "text/plain": [
       "<matplotlib.axes._subplots.AxesSubplot at 0x120c600b8>"
      ]
     },
     "execution_count": 8,
     "metadata": {},
     "output_type": "execute_result"
    },
    {
     "data": {
      "image/png": "[encoded data removed]",
      "text/plain": [
       "<matplotlib.figure.Figure at 0x175d34b00>"
      ]
     },
     "metadata": {
      "needs_background": "light"
     },
     "output_type": "display_data"
    }
   ],
   "source": [
    "comm  = pkg.reference('communities').geoframe()\n",
    "ax = comm.plot()\n",
    "gdf.plot(ax=ax, color='red')"
   ]
  },
  {
   "cell_type": "markdown",
   "metadata": {},
   "source": [
    "Not only are there only 106 valid points, but a lot of the points are in crazy places, outside of the city, outside of the county, and in the ocean. "
   ]
  },
  {
   "cell_type": "code",
   "execution_count": 9,
   "metadata": {},
   "outputs": [
    {
     "data": {
      "text/html": [
       "<div>\n",
       "<style scoped>\n",
       "    .dataframe tbody tr th:only-of-type {\n",
       "        vertical-align: middle;\n",
       "    }\n",
       "\n",
       "    .dataframe tbody tr th {\n",
       "        vertical-align: top;\n",
       "    }\n",
       "\n",
       "    .dataframe thead th {\n",
       "        text-align: right;\n",
       "    }\n",
       "</style>\n",
       "<table border=\"1\" class=\"dataframe\">\n",
       "  <thead>\n",
       "    <tr style=\"text-align: right;\">\n",
       "      <th></th>\n",
       "      <th>type</th>\n",
       "      <th>name</th>\n",
       "      <th>code</th>\n",
       "      <th>geometry</th>\n",
       "    </tr>\n",
       "  </thead>\n",
       "  <tbody>\n",
       "    <tr>\n",
       "      <th>0</th>\n",
       "      <td>city</td>\n",
       "      <td>S.D. COUNTY</td>\n",
       "      <td>CN</td>\n",
       "      <td>POLYGON ((-117.0621375932527 33.10639472033611...</td>\n",
       "    </tr>\n",
       "    <tr>\n",
       "      <th>1</th>\n",
       "      <td>city</td>\n",
       "      <td>S.D. COUNTY</td>\n",
       "      <td>CN</td>\n",
       "      <td>POLYGON ((-117.0907852966509 33.10383120924283...</td>\n",
       "    </tr>\n",
       "    <tr>\n",
       "      <th>2</th>\n",
       "      <td>city</td>\n",
       "      <td>S.D. COUNTY</td>\n",
       "      <td>CN</td>\n",
       "      <td>POLYGON ((-117.0990424203171 33.0964088949934,...</td>\n",
       "    </tr>\n",
       "    <tr>\n",
       "      <th>3</th>\n",
       "      <td>city</td>\n",
       "      <td>S.D. COUNTY</td>\n",
       "      <td>CN</td>\n",
       "      <td>POLYGON ((-117.0849619730666 33.15525092251055...</td>\n",
       "    </tr>\n",
       "    <tr>\n",
       "      <th>4</th>\n",
       "      <td>city</td>\n",
       "      <td>S.D. COUNTY</td>\n",
       "      <td>CN</td>\n",
       "      <td>POLYGON ((-117.1017275485357 33.15262701224363...</td>\n",
       "    </tr>\n",
       "  </tbody>\n",
       "</table>\n",
       "</div>"
      ],
      "text/plain": [
       "   type         name code                                           geometry\n",
       "0  city  S.D. COUNTY   CN  POLYGON ((-117.0621375932527 33.10639472033611...\n",
       "1  city  S.D. COUNTY   CN  POLYGON ((-117.0907852966509 33.10383120924283...\n",
       "2  city  S.D. COUNTY   CN  POLYGON ((-117.0990424203171 33.0964088949934,...\n",
       "3  city  S.D. COUNTY   CN  POLYGON ((-117.0849619730666 33.15525092251055...\n",
       "4  city  S.D. COUNTY   CN  POLYGON ((-117.1017275485357 33.15262701224363..."
      ]
     },
     "execution_count": 9,
     "metadata": {},
     "output_type": "execute_result"
    }
   ],
   "source": [
    "comm = pkg.reference('communities').geoframe()\n",
    "comm.head()"
   ]
  },
  {
   "cell_type": "code",
   "execution_count": 10,
   "metadata": {},
   "outputs": [
    {
     "data": {
      "text/plain": [
       "<matplotlib.axes._subplots.AxesSubplot at 0x1210a2400>"
      ]
     },
     "execution_count": 10,
     "metadata": {},
     "output_type": "execute_result"
    },
    {
     "data": {
      "image/png": "[encoded data removed]",
      "text/plain": [
       "<matplotlib.figure.Figure at 0x1210a2e80>"
      ]
     },
     "metadata": {
      "needs_background": "light"
     },
     "output_type": "display_data"
    }
   ],
   "source": [
    "sd_comm = comm[ comm['type'] == 'sd_community']\n",
    "ax = sd_comm.plot()\n",
    "gdf.plot(ax=ax, color='red')"
   ]
  },
  {
   "cell_type": "markdown",
   "metadata": {},
   "source": [
    "Spatially join the accident points with the communities. "
   ]
  },
  {
   "cell_type": "code",
   "execution_count": 11,
   "metadata": {},
   "outputs": [
    {
     "data": {
      "text/plain": [
       "84"
      ]
     },
     "execution_count": 11,
     "metadata": {},
     "output_type": "execute_result"
    }
   ],
   "source": [
    "j = gpd.sjoin(gdf.dropna(subset=['geometry']), sd_comm)\n",
    "sum(j.code.notnull())"
   ]
  },
  {
   "cell_type": "markdown",
   "metadata": {},
   "source": [
    "Out of the small number with real points, only 84 of them link to a community in San Diego, we can get an answer, but it will not be a good one. "
   ]
  },
  {
   "cell_type": "code",
   "execution_count": 12,
   "metadata": {},
   "outputs": [
    {
     "data": {
      "text/plain": [
       "name\n",
       "LA JOLLA                               12\n",
       "COLLEGE AREA                           10\n",
       "UNIVERSITY                              7\n",
       "PACIFIC BEACH                           6\n",
       "MISSION VALLEY                          6\n",
       "MISSION BAY PARK                        6\n",
       "CLAIREMONT MESA                         5\n",
       "SAN PASQUAL                             5\n",
       "TIJUANA RIVER VALLEY                    4\n",
       "OTAY MESA-NESTOR                        3\n",
       "KEARNY MESA                             3\n",
       "DOWNTOWN                                2\n",
       "ENCANTO NEIGHBORHOODS,SOUTHEASTERN      2\n",
       "MIRA MESA                               2\n",
       "MISSION BEACH                           2\n",
       "OTAY MESA                               2\n",
       "BALBOA PARK                             2\n",
       "LINDA VISTA                             1\n",
       "MID-CITY:KENSINGTON-TALMADGE            1\n",
       "MILITARY FACILITIES                     1\n",
       "SKYLINE-PARADISE HILLS                  1\n",
       "SOUTHEASTERN SAN DIEGO,SOUTHEASTERN     1\n",
       "Name: case_id, dtype: int64"
      ]
     },
     "execution_count": 12,
     "metadata": {},
     "output_type": "execute_result"
    }
   ],
   "source": [
    "j.groupby('name').count().case_id.sort_values(ascending=False)"
   ]
  },
  {
   "cell_type": "code",
   "execution_count": null,
   "metadata": {},
   "outputs": [],
   "source": []
  }
 ],
 "metadata": {
  "kernelspec": {
   "display_name": "Python 3",
   "language": "python",
   "name": "python3"
  },
  "language_info": {
   "codemirror_mode": {
    "name": "ipython",
    "version": 3
   },
   "file_extension": ".py",
   "mimetype": "text/x-python",
   "name": "python",
   "nbconvert_exporter": "python",
   "pygments_lexer": "ipython3",
   "version": "3.6.0"
  }
 },
 "nbformat": 4,
 "nbformat_minor": 2
}
